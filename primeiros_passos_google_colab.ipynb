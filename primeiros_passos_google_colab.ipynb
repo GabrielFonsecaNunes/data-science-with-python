{
  "nbformat": 4,
  "nbformat_minor": 0,
  "metadata": {
    "colab": {
      "name": "primeiros_passos_google_colab.ipynb",
      "provenance": [],
      "collapsed_sections": [],
      "authorship_tag": "ABX9TyN1aRd5mfITyzuJgTNF/l71",
      "include_colab_link": true
    },
    "kernelspec": {
      "name": "python3",
      "display_name": "Python 3"
    },
    "language_info": {
      "name": "python"
    }
  },
  "cells": [
    {
      "cell_type": "markdown",
      "metadata": {
        "id": "view-in-github",
        "colab_type": "text"
      },
      "source": [
        "<a href=\"https://colab.research.google.com/github/GabrielFonsecaNunes/data-science-with-python/blob/master/primeiros_passos_google_colab.ipynb\" target=\"_parent\"><img src=\"https://colab.research.google.com/assets/colab-badge.svg\" alt=\"Open In Colab\"/></a>"
      ]
    },
    {
      "cell_type": "markdown",
      "source": [
        "# 1. Seja bem vindo ao Google Colab 🙌."
      ],
      "metadata": {
        "id": "XjDv4hJYnSoR"
      }
    },
    {
      "cell_type": "markdown",
      "source": [
        "# 2. O que é Google Colab e para que ele serve ?\n",
        "\n",
        "O Colaboratory ou “Colab” é um produto do Google Research, área de pesquisas científicas do Google. O Colab permite que qualquer pessoa escreva e execute código Python arbitrário pelo navegador e é especialmente adequado para aprendizado de máquina, análise de dados e educação.\n"
      ],
      "metadata": {
        "id": "HAi7iXyapzdL"
      }
    },
    {
      "cell_type": "markdown",
      "source": [
        "# 3. Google Colab Notebooks\n",
        "\n",
        "O google colab é formato por Notebooks, assim como os do Jupyter Notebook. Um documento do tipo notebook é um documento virtual que permite a execução de códigos de uma linguagem de programação juntamente com ferramentas para edição de textos comuns (Por exemplo: Python, R, Julia. Por padrão o Colab cria um Notebok Python .ipynb); ou seja, além das rotinas usuais de programação, o usuário pode documentar todo o processo de produção do código. Dessa forma, o notebook permite uma maneira interativa de programar.\n",
        "Os notebooks também oferecem uma programação mais dinâmica, oferecendo ao usuário o output imediato do código; não havendo, assim, a necessidade de compilar ou executar todo o documento."
      ],
      "metadata": {
        "id": "O36-8OSZr5Hw"
      }
    },
    {
      "cell_type": "markdown",
      "source": [
        "# 4. Atalhos Google Colab\n",
        "\n",
        "Apertando `Ctrl + m` + depois `h` podemos ver a lista de comandos possíveis para utilização dentro do google colab"
      ],
      "metadata": {
        "id": "nVy1s9zUp3Tk"
      }
    },
    {
      "cell_type": "markdown",
      "source": [
        "# 4.1 Vamos começar testando alguns atalhos\n",
        "\n",
        "Basicamente a maioria dos comando dentro do colab são realizado a partir do `Ctrl + m` + outra tecla.\n"
      ],
      "metadata": {
        "id": "FjvFc7CJo1_L"
      }
    },
    {
      "cell_type": "markdown",
      "source": [
        "# 4.2 Executando a próxima célula\n",
        "\n",
        "Aperte `Ctrl + Enter` para executar a próxima célula e ir célula seguinte."
      ],
      "metadata": {
        "id": "fr09g3iAtRKa"
      }
    },
    {
      "cell_type": "code",
      "source": [
        "expression = \"Amo Ciência de Dados\"\n",
        "expression"
      ],
      "metadata": {
        "colab": {
          "base_uri": "https://localhost:8080/",
          "height": 35
        },
        "id": "FNzYXGxRpWwb",
        "outputId": "dedd8741-8dd7-4b5b-fb11-9811426c52be"
      },
      "execution_count": 8,
      "outputs": [
        {
          "output_type": "execute_result",
          "data": {
            "text/plain": [
              "'Amo Ciência de Dados'"
            ],
            "application/vnd.google.colaboratory.intrinsic+json": {
              "type": "string"
            }
          },
          "metadata": {},
          "execution_count": 8
        }
      ]
    },
    {
      "cell_type": "markdown",
      "source": [
        "# 4.3 Executando a próxima célula\n",
        "\n",
        "Aperte `Shift + Enter` para executar somente a célula."
      ],
      "metadata": {
        "id": "VajdFB2puiK0"
      }
    },
    {
      "cell_type": "code",
      "source": [
        "expression = \"Curso de ciência de dados\"\n",
        "expression"
      ],
      "metadata": {
        "id": "J9pp51DkpXHb"
      },
      "execution_count": 7,
      "outputs": []
    }
  ]
}