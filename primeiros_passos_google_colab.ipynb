{
  "nbformat": 4,
  "nbformat_minor": 0,
  "metadata": {
    "colab": {
      "name": "primeiros_passos_google_colab.ipynb",
      "provenance": [],
      "collapsed_sections": [],
      "authorship_tag": "ABX9TyP+PBcMvMwziezMSwJhYkMl",
      "include_colab_link": true
    },
    "kernelspec": {
      "name": "python3",
      "display_name": "Python 3"
    },
    "language_info": {
      "name": "python"
    }
  },
  "cells": [
    {
      "cell_type": "markdown",
      "metadata": {
        "id": "view-in-github",
        "colab_type": "text"
      },
      "source": [
        "<a href=\"https://colab.research.google.com/github/GabrielFonsecaNunes/data-science-with-python/blob/master/primeiros_passos_google_colab.ipynb\" target=\"_parent\"><img src=\"https://colab.research.google.com/assets/colab-badge.svg\" alt=\"Open In Colab\"/></a>"
      ]
    },
    {
      "cell_type": "markdown",
      "source": [
        "\n",
        "<p><img alt=\"Colaboratory logo\" height=\"45px\" src=\"https://colab.research.google.com/img/colab_favicon.ico\" align=\"left\" hspace=\"10px\" vspace=\"0px\"></p>\n",
        "\n",
        "# Bem Vindo ao Google Colaboratory \n",
        "\n",
        "# 1. Introdução ao Google Colab\n"
      ],
      "metadata": {
        "id": "XjDv4hJYnSoR"
      }
    },
    {
      "cell_type": "markdown",
      "source": [
        "# 2. O que é Google Colab e para que ele serve ?\n",
        "\n",
        "O Colaboratory ou “Colab” é um produto do Google Research, área de pesquisas científicas do Google. O Colab permite que qualquer pessoa escreva e execute código Python arbitrário pelo navegador e é especialmente adequado para aprendizado de máquina, análise de dados e educação.\n"
      ],
      "metadata": {
        "id": "HAi7iXyapzdL"
      }
    },
    {
      "cell_type": "markdown",
      "source": [
        "# 3. Google Colab Notebooks\n",
        "\n",
        "O google colab é formato por Notebooks, assim como os Notebooks desenvolvidos dentro do JupyterLab. Um documento do tipo notebook é um documento virtual que permite a execução de códigos de uma linguagem de programação juntamente com ferramentas para edição de textos comuns (Por exemplo: Python, R, Julia. Por padrão o Colab cria um Notebok Python .ipynb); ou seja, além das rotinas usuais de programação, o usuário pode documentar todo o processo de produção do código. Dessa forma, o notebook permite uma maneira interativa de programar.\n",
        "Os notebooks também oferecem uma programação mais dinâmica, oferecendo ao usuário o output imediato do código; não havendo, assim, a necessidade de compilar ou executar todo o documento."
      ],
      "metadata": {
        "id": "O36-8OSZr5Hw"
      }
    },
    {
      "cell_type": "markdown",
      "source": [
        "# 3.1 Células\n",
        "Um Notebook (caderno) é uma lista de células. As células contêm texto explicativo ou código executável e sua saída. Clique em uma célula para selecioná-la.\n",
        "\n",
        "## 3.1.1 Células de código\n",
        "Abaixo está uma **célula de código**. Assim que o botão da barra de ferramentas indicar CONECTADO, clique na célula para selecioná-la e execute o conteúdo das seguintes formas:\n",
        "\n",
        "* Clique no **ícone Reproduzir** na calha esquerda da célula;\n",
        "* Digite **Cmd/Ctrl+Enter** para executar a célula no local;\n",
        "* Digite **Shift+Enter** para executar a célula e mover o foco para a próxima célula (adicionando uma se não existir); ou\n",
        "* Digite **Alt+Enter** para executar a célula e inserir uma nova célula de código imediatamente abaixo dela.\n",
        "\n",
        "Existem opções adicionais para executar algumas ou todas as células no menu **Runtime**."
      ],
      "metadata": {
        "id": "lsGY8FvJDMpi"
      }
    },
    {
      "cell_type": "code",
      "source": [
        "a = 10\n",
        "a"
      ],
      "metadata": {
        "colab": {
          "base_uri": "https://localhost:8080/"
        },
        "id": "wndFJ3HzDvOy",
        "outputId": "b5e848cd-ba9b-4a84-9b4b-5ea1aed4f047"
      },
      "execution_count": null,
      "outputs": [
        {
          "output_type": "execute_result",
          "data": {
            "text/plain": [
              "10"
            ]
          },
          "metadata": {},
          "execution_count": 4
        }
      ]
    },
    {
      "cell_type": "markdown",
      "source": [
        "# 4. Atalhos Google Colab\n",
        "\n",
        "Apertando `Ctrl + m` + depois `h` podemos ver a lista de comandos possíveis para utilização dentro do google colab"
      ],
      "metadata": {
        "id": "nVy1s9zUp3Tk"
      }
    },
    {
      "cell_type": "markdown",
      "source": [
        "# 4.1 Vamos começar testando alguns atalhos\n",
        "\n",
        "Basicamente a maioria dos comando dentro do colab são realizado a partir do `Ctrl + m` + outra tecla.\n"
      ],
      "metadata": {
        "id": "FjvFc7CJo1_L"
      }
    },
    {
      "cell_type": "markdown",
      "source": [
        "# 4.2 Executando a próxima célula\n",
        "\n",
        "Aperte `Ctrl + Enter` para executar a próxima célula e ir célula seguinte."
      ],
      "metadata": {
        "id": "fr09g3iAtRKa"
      }
    },
    {
      "cell_type": "code",
      "source": [
        "expression = \"Python é melhor linguagem para Ciência de Dados 🤝\"\n",
        "expression"
      ],
      "metadata": {
        "colab": {
          "base_uri": "https://localhost:8080/",
          "height": 35
        },
        "id": "FNzYXGxRpWwb",
        "outputId": "57825786-5b84-44b9-97f8-ce9dbcea4b16"
      },
      "execution_count": null,
      "outputs": [
        {
          "output_type": "execute_result",
          "data": {
            "text/plain": [
              "'Python é melhor linguagem para Ciência de Dados 🤝'"
            ],
            "application/vnd.google.colaboratory.intrinsic+json": {
              "type": "string"
            }
          },
          "metadata": {},
          "execution_count": 2
        }
      ]
    },
    {
      "cell_type": "markdown",
      "source": [
        "# 4.3 Executando a célula atual\n",
        "\n",
        "Aperte `Shift + Enter` para executar somente a célula."
      ],
      "metadata": {
        "id": "VajdFB2puiK0"
      }
    },
    {
      "cell_type": "code",
      "source": [
        "expression = \"Python é melhor linguagem para Ciência de Dados 🤝\"\n",
        "expression"
      ],
      "metadata": {
        "id": "J9pp51DkpXHb"
      },
      "execution_count": null,
      "outputs": []
    },
    {
      "cell_type": "markdown",
      "source": [
        "# 4.3 Criar uma nova célula acima\n",
        "\n",
        "Tente `Ctrl + m` + depois `a` para criar um nova célula acima (above) ou `somente a` quando já estiver dentro do modo de edição."
      ],
      "metadata": {
        "id": "u744nPZ8BEl2"
      }
    },
    {
      "cell_type": "markdown",
      "source": [
        "# 4.3 Criar uma nova célula a baixo\n",
        "\n",
        "Tente `Ctrl + m` + depois `b` para criar um nova célula acima (below) ou `somente b` quando já estiver dentro do modo de edição."
      ],
      "metadata": {
        "id": "_DdRuiRmBTsP"
      }
    },
    {
      "cell_type": "markdown",
      "source": [
        "# 4.4 Interrompendo a Execução de uma Célula"
      ],
      "metadata": {
        "id": "-faXkRsdEqW4"
      }
    },
    {
      "cell_type": "markdown",
      "source": [
        "Processos python de longa execução podem ser interrompidos. Execute a seguinte célula e selecione **Runtime -> Interromper execução** (*tecla de atalho: Cmd/Ctrl-M I*) para interromper a execução."
      ],
      "metadata": {
        "id": "V6gorETXENQp"
      }
    },
    {
      "cell_type": "code",
      "source": [
        "import time\n",
        "print(\"Sleeping\")\n",
        "time.sleep(30) # sleep for a while; interrupt me!\n",
        "print(\"Done Sleeping\")"
      ],
      "metadata": {
        "colab": {
          "base_uri": "https://localhost:8080/",
          "height": 241
        },
        "id": "1uZtH9AwEeI5",
        "outputId": "dfdfa257-79d9-4d02-8aa2-6a94e093e87c"
      },
      "execution_count": null,
      "outputs": [
        {
          "output_type": "stream",
          "name": "stdout",
          "text": [
            "Sleeping\n"
          ]
        },
        {
          "output_type": "error",
          "ename": "KeyboardInterrupt",
          "evalue": "ignored",
          "traceback": [
            "\u001b[0;31m---------------------------------------------------------------------------\u001b[0m",
            "\u001b[0;31mKeyboardInterrupt\u001b[0m                         Traceback (most recent call last)",
            "\u001b[0;32m<ipython-input-7-fb6d98dc021a>\u001b[0m in \u001b[0;36m<module>\u001b[0;34m()\u001b[0m\n\u001b[1;32m      1\u001b[0m \u001b[0;32mimport\u001b[0m \u001b[0mtime\u001b[0m\u001b[0;34m\u001b[0m\u001b[0;34m\u001b[0m\u001b[0m\n\u001b[1;32m      2\u001b[0m \u001b[0mprint\u001b[0m\u001b[0;34m(\u001b[0m\u001b[0;34m\"Sleeping\"\u001b[0m\u001b[0;34m)\u001b[0m\u001b[0;34m\u001b[0m\u001b[0;34m\u001b[0m\u001b[0m\n\u001b[0;32m----> 3\u001b[0;31m \u001b[0mtime\u001b[0m\u001b[0;34m.\u001b[0m\u001b[0msleep\u001b[0m\u001b[0;34m(\u001b[0m\u001b[0;36m30\u001b[0m\u001b[0;34m)\u001b[0m \u001b[0;31m# sleep for a while; interrupt me!\u001b[0m\u001b[0;34m\u001b[0m\u001b[0;34m\u001b[0m\u001b[0m\n\u001b[0m\u001b[1;32m      4\u001b[0m \u001b[0mprint\u001b[0m\u001b[0;34m(\u001b[0m\u001b[0;34m\"Done Sleeping\"\u001b[0m\u001b[0;34m)\u001b[0m\u001b[0;34m\u001b[0m\u001b[0;34m\u001b[0m\u001b[0m\n",
            "\u001b[0;31mKeyboardInterrupt\u001b[0m: "
          ]
        }
      ]
    },
    {
      "cell_type": "markdown",
      "source": [
        "# 4.4 Deletar a célula atual\n",
        "\n",
        "Tente `Ctrl + m` + depois `b` para deletar a que está sendo selecionada ou `somente d` quando já estiver dentro do modo de edição.\n"
      ],
      "metadata": {
        "id": "SgNEfXKdE5_Q"
      }
    },
    {
      "cell_type": "code",
      "source": [
        "# Tente deletar essa célula"
      ],
      "metadata": {
        "id": "l8ZpZMA_FPO5"
      },
      "execution_count": null,
      "outputs": []
    },
    {
      "cell_type": "code",
      "source": [
        "# Tente deletar essa célula"
      ],
      "metadata": {
        "id": "54MSrI_YFT7h"
      },
      "execution_count": null,
      "outputs": []
    },
    {
      "cell_type": "code",
      "source": [
        "# Tente deletar essa célula"
      ],
      "metadata": {
        "id": "gMGr4IucFVRq"
      },
      "execution_count": null,
      "outputs": []
    },
    {
      "cell_type": "markdown",
      "source": [
        "# 4.4 Colocar número nas células \n",
        "\n",
        "Tente `Ctrl + m` + depois `l` para mostrar ou ocultar as linhas nas células\n"
      ],
      "metadata": {
        "id": "Jt_l7ElnWEUM"
      }
    },
    {
      "cell_type": "code",
      "source": [
        "'''\n",
        "Entre dramas e programas,\n",
        "paixões e ilusões,\n",
        "poemas e sistemas,\n",
        "versos e multiversos,\n",
        "nerdices e mesmices,\n",
        "a programação e a gestão,\n",
        "as mágicas e as lógicas,\n",
        "os pródigos e os códigos,\n",
        "o ócio e o negócio,\n",
        "o vício e o fictício,\n",
        "a produtividade e a recursividade,\n",
        "feitiçarias e tecnologias,\n",
        "o sentido e o ressentido,\n",
        "as revoluções e as transformações,\n",
        "a educação e a negação,\n",
        "o relevante e a galáxia distante,\n",
        "a filosofia e o que você não pensaria…\n",
        "'''"
      ],
      "metadata": {
        "id": "qZ5iXvAAWVqc"
      },
      "execution_count": null,
      "outputs": []
    },
    {
      "cell_type": "markdown",
      "source": [
        "## 5. Alias ​​do sistema\n",
        "\n",
        "O Jupyter inclui atalhos para operações comuns, como ls:\n"
      ],
      "metadata": {
        "id": "aQwSOwLnCNsK"
      }
    },
    {
      "cell_type": "code",
      "source": [
        "!ls /bin"
      ],
      "metadata": {
        "colab": {
          "base_uri": "https://localhost:8080/"
        },
        "id": "XhJwP4BrECiY",
        "outputId": "a6920de9-ddbb-416c-e10a-abdc716e0e38"
      },
      "execution_count": null,
      "outputs": [
        {
          "output_type": "stream",
          "name": "stdout",
          "text": [
            "bash\t       hostname       su\n",
            "bunzip2        journalctl     sync\n",
            "bzcat\t       kill\t      systemctl\n",
            "bzcmp\t       kmod\t      systemd\n",
            "bzdiff\t       less\t      systemd-ask-password\n",
            "bzegrep        lessecho       systemd-escape\n",
            "bzexe\t       lessfile       systemd-hwdb\n",
            "bzfgrep        lesskey\t      systemd-inhibit\n",
            "bzgrep\t       lesspipe       systemd-machine-id-setup\n",
            "bzip2\t       ln\t      systemd-notify\n",
            "bzip2recover   login\t      systemd-sysusers\n",
            "bzless\t       loginctl       systemd-tmpfiles\n",
            "bzmore\t       ls\t      systemd-tty-ask-password-agent\n",
            "cat\t       lsblk\t      tar\n",
            "chgrp\t       lsmod\t      tempfile\n",
            "chmod\t       mkdir\t      touch\n",
            "chown\t       mknod\t      true\n",
            "cp\t       mktemp\t      udevadm\n",
            "dash\t       more\t      ulockmgr_server\n",
            "date\t       mount\t      umount\n",
            "dd\t       mountpoint     uname\n",
            "df\t       mv\t      uncompress\n",
            "dir\t       networkctl     vdir\n",
            "dmesg\t       nisdomainname  wdctl\n",
            "dnsdomainname  pidof\t      which\n",
            "domainname     ps\t      ypdomainname\n",
            "echo\t       pwd\t      zcat\n",
            "egrep\t       rbash\t      zcmp\n",
            "false\t       readlink       zdiff\n",
            "fgrep\t       rm\t      zegrep\n",
            "findmnt        rmdir\t      zfgrep\n",
            "fuser\t       run-parts      zforce\n",
            "fusermount     sed\t      zgrep\n",
            "grep\t       sh\t      zless\n",
            "gunzip\t       sh.distrib     zmore\n",
            "gzexe\t       sleep\t      znew\n",
            "gzip\t       stty\n"
          ]
        }
      ]
    },
    {
      "cell_type": "markdown",
      "source": [
        "## 6. Instalando Bibliotecas Python\n",
        "\n",
        "O gerenciador de pacotes do Python é `pip`. Para instalação de qualquer pacote use !pip install <library>"
      ],
      "metadata": {
        "id": "MHLp8GeEGcOn"
      }
    },
    {
      "cell_type": "code",
      "source": [
        "!pip install pandas"
      ],
      "metadata": {
        "id": "8bQiyhkRG06e"
      },
      "execution_count": null,
      "outputs": []
    }
  ]
}