{
  "cells": [
    {
      "cell_type": "markdown",
      "metadata": {
        "id": "view-in-github",
        "colab_type": "text"
      },
      "source": [
        "<a href=\"https://colab.research.google.com/github/GabrielFonsecaNunes/data-science-with-python/blob/master/Aula%202/Notebooks/Notebook_4_Desafio_data_visualization.ipynb\" target=\"_parent\"><img src=\"https://colab.research.google.com/assets/colab-badge.svg\" alt=\"Open In Colab\"/></a>"
      ]
    },
    {
      "cell_type": "code",
      "source": [
        "!pip install yfinance plotly"
      ],
      "metadata": {
        "id": "hzIL6UmJ8qMZ",
        "outputId": "263b5290-7544-47ea-fcd3-ae7394f1678c",
        "colab": {
          "base_uri": "https://localhost:8080/"
        }
      },
      "execution_count": 12,
      "outputs": [
        {
          "output_type": "stream",
          "name": "stdout",
          "text": [
            "Looking in indexes: https://pypi.org/simple, https://us-python.pkg.dev/colab-wheels/public/simple/\n",
            "Requirement already satisfied: yfinance in /usr/local/lib/python3.7/dist-packages (0.1.74)\n",
            "Requirement already satisfied: plotly in /usr/local/lib/python3.7/dist-packages (5.5.0)\n",
            "Requirement already satisfied: multitasking>=0.0.7 in /usr/local/lib/python3.7/dist-packages (from yfinance) (0.0.11)\n",
            "Requirement already satisfied: lxml>=4.5.1 in /usr/local/lib/python3.7/dist-packages (from yfinance) (4.9.1)\n",
            "Requirement already satisfied: requests>=2.26 in /usr/local/lib/python3.7/dist-packages (from yfinance) (2.28.1)\n",
            "Requirement already satisfied: numpy>=1.15 in /usr/local/lib/python3.7/dist-packages (from yfinance) (1.21.6)\n",
            "Requirement already satisfied: pandas>=0.24.0 in /usr/local/lib/python3.7/dist-packages (from yfinance) (1.3.5)\n",
            "Requirement already satisfied: pytz>=2017.3 in /usr/local/lib/python3.7/dist-packages (from pandas>=0.24.0->yfinance) (2022.1)\n",
            "Requirement already satisfied: python-dateutil>=2.7.3 in /usr/local/lib/python3.7/dist-packages (from pandas>=0.24.0->yfinance) (2.8.2)\n",
            "Requirement already satisfied: six>=1.5 in /usr/local/lib/python3.7/dist-packages (from python-dateutil>=2.7.3->pandas>=0.24.0->yfinance) (1.15.0)\n",
            "Requirement already satisfied: charset-normalizer<3,>=2 in /usr/local/lib/python3.7/dist-packages (from requests>=2.26->yfinance) (2.1.0)\n",
            "Requirement already satisfied: idna<4,>=2.5 in /usr/local/lib/python3.7/dist-packages (from requests>=2.26->yfinance) (2.10)\n",
            "Requirement already satisfied: certifi>=2017.4.17 in /usr/local/lib/python3.7/dist-packages (from requests>=2.26->yfinance) (2022.6.15)\n",
            "Requirement already satisfied: urllib3<1.27,>=1.21.1 in /usr/local/lib/python3.7/dist-packages (from requests>=2.26->yfinance) (1.24.3)\n",
            "Requirement already satisfied: tenacity>=6.2.0 in /usr/local/lib/python3.7/dist-packages (from plotly) (8.0.1)\n"
          ]
        }
      ]
    },
    {
      "cell_type": "code",
      "execution_count": 13,
      "metadata": {
        "id": "qGhJ5vvF76tF"
      },
      "outputs": [],
      "source": [
        "# Analise de\n",
        "import pandas as pd\n",
        "import numpy as np\n",
        "import requests\n",
        "\n",
        "# Manipulacao de horas\n",
        "from datetime import datetime, timedelta\n",
        "\n",
        "# Livrarias Visualização de Dados\n",
        "import matplotlib.pyplot as plt\n",
        "import seaborn as sns\n",
        "import plotly.express as px\n",
        "import plotly.graph_objects as go\n",
        "\n",
        "# API Historico Pararidade Criptomoedas Yahoo Finance https://pypi.org/project/yfinance/\n",
        "import yfinance as yf\n"
      ]
    },
    {
      "cell_type": "markdown",
      "source": [
        "# Desafio Visualizacao de Dados\n",
        "## Desenvolver um dashboard com paridades de alguma criptomoeda a partir de biblioteca yfinance, datetime com relatorio hora em hora, diario, semanal e mensal!"
      ],
      "metadata": {
        "id": "rZFAnXi976tI"
      }
    },
    {
      "cell_type": "code",
      "source": [
        "import yfinance as yf\n",
        "\n",
        "data = yf.download(tickers='BTC-USD', period = '22h', interval = '')"
      ],
      "metadata": {
        "id": "-9OcCHob87Oh",
        "outputId": "1fc430c6-0958-42ae-ec7f-3341562dd316",
        "colab": {
          "base_uri": "https://localhost:8080/"
        }
      },
      "execution_count": null,
      "outputs": [
        {
          "output_type": "stream",
          "name": "stderr",
          "text": [
            "Exception in thread Thread-12:\n",
            "Traceback (most recent call last):\n",
            "  File \"/usr/lib/python3.7/threading.py\", line 926, in _bootstrap_inner\n",
            "    self.run()\n",
            "  File \"/usr/lib/python3.7/threading.py\", line 870, in run\n",
            "    self._target(*self._args, **self._kwargs)\n",
            "  File \"/usr/local/lib/python3.7/dist-packages/multitasking/__init__.py\", line 104, in _run_via_pool\n",
            "    return callee(*args, **kwargs)\n",
            "  File \"/usr/local/lib/python3.7/dist-packages/yfinance/multi.py\", line 190, in _download_one_threaded\n",
            "    timeout)\n",
            "  File \"/usr/local/lib/python3.7/dist-packages/yfinance/multi.py\", line 207, in _download_one\n",
            "    timeout=timeout)\n",
            "  File \"/usr/local/lib/python3.7/dist-packages/yfinance/base.py\", line 309, in history\n",
            "    if params[\"interval\"][-1] == \"m\":\n",
            "IndexError: string index out of range\n",
            "\n"
          ]
        }
      ]
    },
    {
      "cell_type": "code",
      "source": [
        "data"
      ],
      "metadata": {
        "id": "gMVaWhg0_w03",
        "outputId": "84bed1e8-4af3-4b28-fb53-6f58be0557fb",
        "colab": {
          "base_uri": "https://localhost:8080/",
          "height": 455
        }
      },
      "execution_count": 16,
      "outputs": [
        {
          "output_type": "execute_result",
          "data": {
            "text/plain": [
              "                                   Open          High           Low  \\\n",
              "Datetime                                                              \n",
              "2022-07-24 23:15:00+00:00  22668.115234  22687.939453  22658.923828   \n",
              "2022-07-24 23:30:00+00:00  22715.843750  22737.597656  22688.296875   \n",
              "2022-07-24 23:45:00+00:00  22676.417969  22676.417969  22622.210938   \n",
              "2022-07-25 00:00:00+00:00  22603.402344  22614.740234  22587.041016   \n",
              "2022-07-25 00:15:00+00:00  22620.000000  22648.585938  22490.873047   \n",
              "...                                 ...           ...           ...   \n",
              "2022-07-25 19:15:00+00:00  21684.869141  21699.638672  21667.712891   \n",
              "2022-07-25 19:30:00+00:00  21654.210938  21673.845703  21632.658203   \n",
              "2022-07-25 19:45:00+00:00  21679.265625  21800.486328  21679.265625   \n",
              "2022-07-25 20:00:00+00:00  21855.291016  22129.365234  21855.291016   \n",
              "2022-07-25 20:13:00+00:00  22129.365234  22129.365234  22129.365234   \n",
              "\n",
              "                                  Close     Adj Close      Volume  \n",
              "Datetime                                                           \n",
              "2022-07-24 23:15:00+00:00  22687.939453  22687.939453    61368320  \n",
              "2022-07-24 23:30:00+00:00  22688.296875  22688.296875   126656512  \n",
              "2022-07-24 23:45:00+00:00  22622.210938  22622.210938    56981504  \n",
              "2022-07-25 00:00:00+00:00  22614.740234  22614.740234    75057152  \n",
              "2022-07-25 00:15:00+00:00  22490.873047  22490.873047   177274880  \n",
              "...                                 ...           ...         ...  \n",
              "2022-07-25 19:15:00+00:00  21669.781250  21669.781250   637192192  \n",
              "2022-07-25 19:30:00+00:00  21673.179688  21673.179688   745799680  \n",
              "2022-07-25 19:45:00+00:00  21797.507812  21797.507812   705112064  \n",
              "2022-07-25 20:00:00+00:00  22129.365234  22129.365234  1162313728  \n",
              "2022-07-25 20:13:00+00:00  22129.365234  22129.365234           0  \n",
              "\n",
              "[85 rows x 6 columns]"
            ],
            "text/html": [
              "\n",
              "  <div id=\"df-ddd11c13-d676-4131-95d0-7c50f95d58fd\">\n",
              "    <div class=\"colab-df-container\">\n",
              "      <div>\n",
              "<style scoped>\n",
              "    .dataframe tbody tr th:only-of-type {\n",
              "        vertical-align: middle;\n",
              "    }\n",
              "\n",
              "    .dataframe tbody tr th {\n",
              "        vertical-align: top;\n",
              "    }\n",
              "\n",
              "    .dataframe thead th {\n",
              "        text-align: right;\n",
              "    }\n",
              "</style>\n",
              "<table border=\"1\" class=\"dataframe\">\n",
              "  <thead>\n",
              "    <tr style=\"text-align: right;\">\n",
              "      <th></th>\n",
              "      <th>Open</th>\n",
              "      <th>High</th>\n",
              "      <th>Low</th>\n",
              "      <th>Close</th>\n",
              "      <th>Adj Close</th>\n",
              "      <th>Volume</th>\n",
              "    </tr>\n",
              "    <tr>\n",
              "      <th>Datetime</th>\n",
              "      <th></th>\n",
              "      <th></th>\n",
              "      <th></th>\n",
              "      <th></th>\n",
              "      <th></th>\n",
              "      <th></th>\n",
              "    </tr>\n",
              "  </thead>\n",
              "  <tbody>\n",
              "    <tr>\n",
              "      <th>2022-07-24 23:15:00+00:00</th>\n",
              "      <td>22668.115234</td>\n",
              "      <td>22687.939453</td>\n",
              "      <td>22658.923828</td>\n",
              "      <td>22687.939453</td>\n",
              "      <td>22687.939453</td>\n",
              "      <td>61368320</td>\n",
              "    </tr>\n",
              "    <tr>\n",
              "      <th>2022-07-24 23:30:00+00:00</th>\n",
              "      <td>22715.843750</td>\n",
              "      <td>22737.597656</td>\n",
              "      <td>22688.296875</td>\n",
              "      <td>22688.296875</td>\n",
              "      <td>22688.296875</td>\n",
              "      <td>126656512</td>\n",
              "    </tr>\n",
              "    <tr>\n",
              "      <th>2022-07-24 23:45:00+00:00</th>\n",
              "      <td>22676.417969</td>\n",
              "      <td>22676.417969</td>\n",
              "      <td>22622.210938</td>\n",
              "      <td>22622.210938</td>\n",
              "      <td>22622.210938</td>\n",
              "      <td>56981504</td>\n",
              "    </tr>\n",
              "    <tr>\n",
              "      <th>2022-07-25 00:00:00+00:00</th>\n",
              "      <td>22603.402344</td>\n",
              "      <td>22614.740234</td>\n",
              "      <td>22587.041016</td>\n",
              "      <td>22614.740234</td>\n",
              "      <td>22614.740234</td>\n",
              "      <td>75057152</td>\n",
              "    </tr>\n",
              "    <tr>\n",
              "      <th>2022-07-25 00:15:00+00:00</th>\n",
              "      <td>22620.000000</td>\n",
              "      <td>22648.585938</td>\n",
              "      <td>22490.873047</td>\n",
              "      <td>22490.873047</td>\n",
              "      <td>22490.873047</td>\n",
              "      <td>177274880</td>\n",
              "    </tr>\n",
              "    <tr>\n",
              "      <th>...</th>\n",
              "      <td>...</td>\n",
              "      <td>...</td>\n",
              "      <td>...</td>\n",
              "      <td>...</td>\n",
              "      <td>...</td>\n",
              "      <td>...</td>\n",
              "    </tr>\n",
              "    <tr>\n",
              "      <th>2022-07-25 19:15:00+00:00</th>\n",
              "      <td>21684.869141</td>\n",
              "      <td>21699.638672</td>\n",
              "      <td>21667.712891</td>\n",
              "      <td>21669.781250</td>\n",
              "      <td>21669.781250</td>\n",
              "      <td>637192192</td>\n",
              "    </tr>\n",
              "    <tr>\n",
              "      <th>2022-07-25 19:30:00+00:00</th>\n",
              "      <td>21654.210938</td>\n",
              "      <td>21673.845703</td>\n",
              "      <td>21632.658203</td>\n",
              "      <td>21673.179688</td>\n",
              "      <td>21673.179688</td>\n",
              "      <td>745799680</td>\n",
              "    </tr>\n",
              "    <tr>\n",
              "      <th>2022-07-25 19:45:00+00:00</th>\n",
              "      <td>21679.265625</td>\n",
              "      <td>21800.486328</td>\n",
              "      <td>21679.265625</td>\n",
              "      <td>21797.507812</td>\n",
              "      <td>21797.507812</td>\n",
              "      <td>705112064</td>\n",
              "    </tr>\n",
              "    <tr>\n",
              "      <th>2022-07-25 20:00:00+00:00</th>\n",
              "      <td>21855.291016</td>\n",
              "      <td>22129.365234</td>\n",
              "      <td>21855.291016</td>\n",
              "      <td>22129.365234</td>\n",
              "      <td>22129.365234</td>\n",
              "      <td>1162313728</td>\n",
              "    </tr>\n",
              "    <tr>\n",
              "      <th>2022-07-25 20:13:00+00:00</th>\n",
              "      <td>22129.365234</td>\n",
              "      <td>22129.365234</td>\n",
              "      <td>22129.365234</td>\n",
              "      <td>22129.365234</td>\n",
              "      <td>22129.365234</td>\n",
              "      <td>0</td>\n",
              "    </tr>\n",
              "  </tbody>\n",
              "</table>\n",
              "<p>85 rows × 6 columns</p>\n",
              "</div>\n",
              "      <button class=\"colab-df-convert\" onclick=\"convertToInteractive('df-ddd11c13-d676-4131-95d0-7c50f95d58fd')\"\n",
              "              title=\"Convert this dataframe to an interactive table.\"\n",
              "              style=\"display:none;\">\n",
              "        \n",
              "  <svg xmlns=\"http://www.w3.org/2000/svg\" height=\"24px\"viewBox=\"0 0 24 24\"\n",
              "       width=\"24px\">\n",
              "    <path d=\"M0 0h24v24H0V0z\" fill=\"none\"/>\n",
              "    <path d=\"M18.56 5.44l.94 2.06.94-2.06 2.06-.94-2.06-.94-.94-2.06-.94 2.06-2.06.94zm-11 1L8.5 8.5l.94-2.06 2.06-.94-2.06-.94L8.5 2.5l-.94 2.06-2.06.94zm10 10l.94 2.06.94-2.06 2.06-.94-2.06-.94-.94-2.06-.94 2.06-2.06.94z\"/><path d=\"M17.41 7.96l-1.37-1.37c-.4-.4-.92-.59-1.43-.59-.52 0-1.04.2-1.43.59L10.3 9.45l-7.72 7.72c-.78.78-.78 2.05 0 2.83L4 21.41c.39.39.9.59 1.41.59.51 0 1.02-.2 1.41-.59l7.78-7.78 2.81-2.81c.8-.78.8-2.07 0-2.86zM5.41 20L4 18.59l7.72-7.72 1.47 1.35L5.41 20z\"/>\n",
              "  </svg>\n",
              "      </button>\n",
              "      \n",
              "  <style>\n",
              "    .colab-df-container {\n",
              "      display:flex;\n",
              "      flex-wrap:wrap;\n",
              "      gap: 12px;\n",
              "    }\n",
              "\n",
              "    .colab-df-convert {\n",
              "      background-color: #E8F0FE;\n",
              "      border: none;\n",
              "      border-radius: 50%;\n",
              "      cursor: pointer;\n",
              "      display: none;\n",
              "      fill: #1967D2;\n",
              "      height: 32px;\n",
              "      padding: 0 0 0 0;\n",
              "      width: 32px;\n",
              "    }\n",
              "\n",
              "    .colab-df-convert:hover {\n",
              "      background-color: #E2EBFA;\n",
              "      box-shadow: 0px 1px 2px rgba(60, 64, 67, 0.3), 0px 1px 3px 1px rgba(60, 64, 67, 0.15);\n",
              "      fill: #174EA6;\n",
              "    }\n",
              "\n",
              "    [theme=dark] .colab-df-convert {\n",
              "      background-color: #3B4455;\n",
              "      fill: #D2E3FC;\n",
              "    }\n",
              "\n",
              "    [theme=dark] .colab-df-convert:hover {\n",
              "      background-color: #434B5C;\n",
              "      box-shadow: 0px 1px 3px 1px rgba(0, 0, 0, 0.15);\n",
              "      filter: drop-shadow(0px 1px 2px rgba(0, 0, 0, 0.3));\n",
              "      fill: #FFFFFF;\n",
              "    }\n",
              "  </style>\n",
              "\n",
              "      <script>\n",
              "        const buttonEl =\n",
              "          document.querySelector('#df-ddd11c13-d676-4131-95d0-7c50f95d58fd button.colab-df-convert');\n",
              "        buttonEl.style.display =\n",
              "          google.colab.kernel.accessAllowed ? 'block' : 'none';\n",
              "\n",
              "        async function convertToInteractive(key) {\n",
              "          const element = document.querySelector('#df-ddd11c13-d676-4131-95d0-7c50f95d58fd');\n",
              "          const dataTable =\n",
              "            await google.colab.kernel.invokeFunction('convertToInteractive',\n",
              "                                                     [key], {});\n",
              "          if (!dataTable) return;\n",
              "\n",
              "          const docLinkHtml = 'Like what you see? Visit the ' +\n",
              "            '<a target=\"_blank\" href=https://colab.research.google.com/notebooks/data_table.ipynb>data table notebook</a>'\n",
              "            + ' to learn more about interactive tables.';\n",
              "          element.innerHTML = '';\n",
              "          dataTable['output_type'] = 'display_data';\n",
              "          await google.colab.output.renderOutput(dataTable, element);\n",
              "          const docLink = document.createElement('div');\n",
              "          docLink.innerHTML = docLinkHtml;\n",
              "          element.appendChild(docLink);\n",
              "        }\n",
              "      </script>\n",
              "    </div>\n",
              "  </div>\n",
              "  "
            ]
          },
          "metadata": {},
          "execution_count": 16
        }
      ]
    },
    {
      "cell_type": "code",
      "source": [
        ""
      ],
      "metadata": {
        "id": "qcNa-4MLAILe"
      },
      "execution_count": null,
      "outputs": []
    }
  ],
  "metadata": {
    "kernelspec": {
      "display_name": "Python 3.10.4 64-bit",
      "language": "python",
      "name": "python3"
    },
    "language_info": {
      "codemirror_mode": {
        "name": "ipython",
        "version": 3
      },
      "file_extension": ".py",
      "mimetype": "text/x-python",
      "name": "python",
      "nbconvert_exporter": "python",
      "pygments_lexer": "ipython3",
      "version": "3.10.4"
    },
    "orig_nbformat": 4,
    "vscode": {
      "interpreter": {
        "hash": "3819316905faff6794c24d0fd15c65d372f1ac94dfb324f82621ca27113ea7ab"
      }
    },
    "colab": {
      "name": "Notebook_4_Desafio_data_visualization.ipynb",
      "provenance": [],
      "include_colab_link": true
    }
  },
  "nbformat": 4,
  "nbformat_minor": 0
}