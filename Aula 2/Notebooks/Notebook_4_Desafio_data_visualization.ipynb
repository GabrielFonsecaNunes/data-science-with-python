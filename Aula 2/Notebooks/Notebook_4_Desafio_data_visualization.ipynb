{
 "cells": [
  {
   "cell_type": "code",
   "execution_count": 1,
   "metadata": {},
   "outputs": [
    {
     "data": {
      "text/plain": [
       "'\\nmoeda = \"ETH\"\\nbase = \"USDT\"\\nsimbolo = f\"{moeda}{base}\"\\nurl = f\"https://api.binance.com/api/v3/ticker/price?symbol={simbolo}\"\\nrequisicao = requests.get(url = url)\\nreposta = requisicao.json()\\nprint(reposta[\"price\"])\\n'"
      ]
     },
     "execution_count": 1,
     "metadata": {},
     "output_type": "execute_result"
    }
   ],
   "source": [
    "from datetime import datetime, timedelta\n",
    "import yfinance as yf\n",
    "import requests"
   ]
  },
  {
   "cell_type": "code",
   "execution_count": null,
   "metadata": {},
   "outputs": [],
   "source": [
    "import plotly.graph_objects as go\n",
    "\n",
    "# Generate dataset\n",
    "import numpy as np\n",
    "np.random.seed(1)\n",
    "\n",
    "# x0 = np.random.normal(2, 0.4, 400)\n",
    "# y0 = np.random.normal(2, 0.4, 400)\n",
    "# x1 = np.random.normal(3, 0.6, 600)\n",
    "# y1 = np.random.normal(6, 0.4, 400)\n",
    "# x2 = np.random.normal(4, 0.2, 200)\n",
    "# y2 = np.random.normal(4, 0.4, 200)\n",
    "\n",
    "# # Create figure\n",
    "# fig = go.Figure()\n",
    "\n",
    "# # Add traces\n",
    "# fig.add_trace(\n",
    "#     go.Scatter(\n",
    "#         x=x0,\n",
    "#         y=y0,\n",
    "#         mode=\"markers\",\n",
    "#         marker=dict(color=\"DarkOrange\")\n",
    "#     )\n",
    "# )\n",
    "\n",
    "# fig.add_trace(\n",
    "#     go.Scatter(\n",
    "#         x=x1,\n",
    "#         y=y1,\n",
    "#         mode=\"markers\",\n",
    "#         marker=dict(color=\"Crimson\")\n",
    "#     )\n",
    "# )\n",
    "\n",
    "# fig.add_trace(\n",
    "#     go.Scatter(\n",
    "#         x=x2,\n",
    "#         y=y2,\n",
    "#         mode=\"markers\",\n",
    "#         marker=dict(color=\"RebeccaPurple\")\n",
    "#     )\n",
    "# )\n",
    "\n",
    "# # Add buttons that add shapes\n",
    "# cluster0 = [dict(type=\"circle\",\n",
    "#                             xref=\"x\", yref=\"y\",\n",
    "#                             x0=min(x0), y0=min(y0),\n",
    "#                             x1=max(x0), y1=max(y0),\n",
    "#                             line=dict(color=\"DarkOrange\"))]\n",
    "# cluster1 = [dict(type=\"circle\",\n",
    "#                             xref=\"x\", yref=\"y\",\n",
    "#                             x0=min(x1), y0=min(y1),\n",
    "#                             x1=max(x1), y1=max(y1),\n",
    "#                             line=dict(color=\"Crimson\"))]\n",
    "# cluster2 = [dict(type=\"circle\",\n",
    "#                             xref=\"x\", yref=\"y\",\n",
    "#                             x0=min(x2), y0=min(y2),\n",
    "#                             x1=max(x2), y1=max(y2),\n",
    "#                             line=dict(color=\"RebeccaPurple\"))]\n",
    "\n",
    "# fig.update_layout(\n",
    "#     updatemenus=[\n",
    "#         dict(buttons=list([\n",
    "#             dict(label=\"None\",\n",
    "#                  method=\"relayout\",\n",
    "#                  args=[\"shapes\", []]),\n",
    "#             dict(label=\"Cluster 0\",\n",
    "#                  method=\"relayout\",\n",
    "#                  args=[\"shapes\", cluster0]),\n",
    "#             dict(label=\"Cluster 1\",\n",
    "#                  method=\"relayout\",\n",
    "#                  args=[\"shapes\", cluster1]),\n",
    "#             dict(label=\"Cluster 2\",\n",
    "#                  method=\"relayout\",\n",
    "#                  args=[\"shapes\", cluster2]),\n",
    "#             dict(label=\"All\",\n",
    "#                  method=\"relayout\",\n",
    "#                  args=[\"shapes\", cluster0 + cluster1 + cluster2])\n",
    "#         ]),\n",
    "#         )\n",
    "#     ]\n",
    "# )\n",
    "\n",
    "# # Update remaining layout properties\n",
    "# fig.update_layout(\n",
    "#     title_text=\"Highlight Clusters\",\n",
    "#     showlegend=False,\n",
    "# )\n",
    "\n",
    "# fig.show()"
   ]
  },
  {
   "cell_type": "code",
   "execution_count": null,
   "metadata": {},
   "outputs": [],
   "source": []
  }
 ],
 "metadata": {
  "kernelspec": {
   "display_name": "Python 3.10.4 64-bit",
   "language": "python",
   "name": "python3"
  },
  "language_info": {
   "codemirror_mode": {
    "name": "ipython",
    "version": 3
   },
   "file_extension": ".py",
   "mimetype": "text/x-python",
   "name": "python",
   "nbconvert_exporter": "python",
   "pygments_lexer": "ipython3",
   "version": "3.10.4"
  },
  "orig_nbformat": 4,
  "vscode": {
   "interpreter": {
    "hash": "3819316905faff6794c24d0fd15c65d372f1ac94dfb324f82621ca27113ea7ab"
   }
  }
 },
 "nbformat": 4,
 "nbformat_minor": 2
}
