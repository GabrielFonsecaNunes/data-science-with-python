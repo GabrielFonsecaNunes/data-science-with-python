{
  "cells": [
    {
      "cell_type": "markdown",
      "metadata": {
        "id": "view-in-github",
        "colab_type": "text"
      },
      "source": [
        "<a href=\"https://colab.research.google.com/github/GabrielFonsecaNunes/data-science-with-python/blob/master/Aula%201/Notebook_9_While.ipynb\" target=\"_parent\"><img src=\"https://colab.research.google.com/assets/colab-badge.svg\" alt=\"Open In Colab\"/></a>"
      ]
    },
    {
      "cell_type": "markdown",
      "metadata": {
        "id": "K-d_1ywOL5lC"
      },
      "source": [
        "# <font color='orange'> AULA 1 - Python Fundamentos - Estruturas de Repetição While </font>"
      ]
    },
    {
      "cell_type": "code",
      "execution_count": null,
      "metadata": {
        "id": "y853LdasL5lF",
        "outputId": "75e1d195-44f3-4d26-c9b8-c6a3e16eb705"
      },
      "outputs": [
        {
          "name": "stdout",
          "output_type": "stream",
          "text": [
            "Versão da Linguagem Python Usada Neste Jupyter Notebook: 3.8.8\n"
          ]
        }
      ],
      "source": [
        "# Versão da Linguagem Python\n",
        "from platform import python_version\n",
        "print('Versão da Linguagem Python Usada Neste Jupyter Notebook:', python_version())"
      ]
    },
    {
      "cell_type": "markdown",
      "metadata": {
        "id": "EnQxsgrqL5lI"
      },
      "source": [
        "### While"
      ]
    },
    {
      "cell_type": "code",
      "execution_count": null,
      "metadata": {
        "id": "yL3NkQcqL5lJ",
        "outputId": "268def5c-e984-44aa-d2e8-7a8649dc2089"
      },
      "outputs": [
        {
          "name": "stdout",
          "output_type": "stream",
          "text": [
            "0\n",
            "1\n",
            "2\n",
            "3\n",
            "4\n",
            "5\n",
            "6\n",
            "7\n",
            "8\n",
            "9\n"
          ]
        }
      ],
      "source": [
        "# Usando o loop while para imprimir os valores de 0 a 9\n",
        "counter = 0\n",
        "while counter < 10:\n",
        "    print(counter)\n",
        "    counter = counter + 1"
      ]
    },
    {
      "cell_type": "code",
      "execution_count": null,
      "metadata": {
        "id": "eyy6lIsmL5lK",
        "outputId": "a205fcb2-42b4-440f-af30-d2ada7b07535"
      },
      "outputs": [
        {
          "name": "stdout",
          "output_type": "stream",
          "text": [
            "O valor de x nesta iteração é:  0\n",
            " x ainda é menor que 10, somando 1 a x\n",
            "O valor de x nesta iteração é:  1\n",
            " x ainda é menor que 10, somando 1 a x\n",
            "O valor de x nesta iteração é:  2\n",
            " x ainda é menor que 10, somando 1 a x\n",
            "O valor de x nesta iteração é:  3\n",
            " x ainda é menor que 10, somando 1 a x\n",
            "O valor de x nesta iteração é:  4\n",
            " x ainda é menor que 10, somando 1 a x\n",
            "O valor de x nesta iteração é:  5\n",
            " x ainda é menor que 10, somando 1 a x\n",
            "O valor de x nesta iteração é:  6\n",
            " x ainda é menor que 10, somando 1 a x\n",
            "O valor de x nesta iteração é:  7\n",
            " x ainda é menor que 10, somando 1 a x\n",
            "O valor de x nesta iteração é:  8\n",
            " x ainda é menor que 10, somando 1 a x\n",
            "O valor de x nesta iteração é:  9\n",
            " x ainda é menor que 10, somando 1 a x\n",
            "Loop concluído!\n"
          ]
        }
      ],
      "source": [
        "# Também é possível usar a claúsula else para encerrar o loop while\n",
        "x = 0\n",
        "\n",
        "while x < 10:\n",
        "    print ('O valor de x nesta iteração é: ', x)\n",
        "    print (' x ainda é menor que 10, somando 1 a x')\n",
        "    x += 1\n",
        "    \n",
        "else:\n",
        "    print ('Loop concluído!')"
      ]
    },
    {
      "cell_type": "markdown",
      "metadata": {
        "id": "2WeJfjIgL5lL"
      },
      "source": [
        "### Pass, Break, Continue"
      ]
    },
    {
      "cell_type": "code",
      "execution_count": null,
      "metadata": {
        "id": "maQ8k6zRL5lM",
        "outputId": "d20eb576-34c3-44b1-e8e6-20afbaffd2a3"
      },
      "outputs": [
        {
          "name": "stdout",
          "output_type": "stream",
          "text": [
            "0\n",
            "1\n",
            "2\n",
            "3\n"
          ]
        }
      ],
      "source": [
        "counter = 0\n",
        "while counter < 100:\n",
        "    if counter == 4:\n",
        "        break\n",
        "    else:\n",
        "        pass\n",
        "    print(counter)\n",
        "    counter = counter + 1"
      ]
    },
    {
      "cell_type": "code",
      "execution_count": null,
      "metadata": {
        "id": "viomdjpiL5lO",
        "outputId": "a98405cd-3f7d-4d1d-fa9c-4d1d7b7c8934"
      },
      "outputs": [
        {
          "name": "stdout",
          "output_type": "stream",
          "text": [
            "P\n",
            "y\n",
            "t\n",
            "o\n",
            "n\n"
          ]
        }
      ],
      "source": [
        "for verificador in \"Python\":\n",
        "    if verificador == \"h\":\n",
        "        continue\n",
        "    print(verificador)"
      ]
    },
    {
      "cell_type": "markdown",
      "metadata": {
        "id": "8AGYkozwL5lP"
      },
      "source": [
        "### While e For juntos"
      ]
    },
    {
      "cell_type": "code",
      "execution_count": null,
      "metadata": {
        "id": "eTyjE35pL5lQ",
        "outputId": "e634ed46-1b9e-48e0-ae11-bbd21b7f8e3c"
      },
      "outputs": [
        {
          "name": "stdout",
          "output_type": "stream",
          "text": [
            "2 é um número primo\n",
            "3 é um número primo\n",
            "5 é um número primo\n",
            "7 é um número primo\n",
            "11 é um número primo\n",
            "13 é um número primo\n",
            "17 é um número primo\n",
            "19 é um número primo\n",
            "23 é um número primo\n",
            "29 é um número primo\n"
          ]
        }
      ],
      "source": [
        "for i in range(2,30):\n",
        "    j = 2\n",
        "    counter = 0\n",
        "    while j < i:\n",
        "        if i % j == 0:\n",
        "            counter = 1\n",
        "            j = j + 1\n",
        "        else:\n",
        "            j = j + 1\n",
        "    \n",
        "    if counter == 0:\n",
        "        print(str(i) + \" é um número primo\")\n",
        "        counter = 0\n",
        "    else:\n",
        "        counter = 0"
      ]
    }
  ],
  "metadata": {
    "colab": {
      "name": "Notebook_9_While.ipynb",
      "provenance": [],
      "include_colab_link": true
    },
    "kernelspec": {
      "display_name": "Python 3.10.4 64-bit",
      "language": "python",
      "name": "python3"
    },
    "language_info": {
      "codemirror_mode": {
        "name": "ipython",
        "version": 3
      },
      "file_extension": ".py",
      "mimetype": "text/x-python",
      "name": "python",
      "nbconvert_exporter": "python",
      "pygments_lexer": "ipython3",
      "version": "3.10.4"
    },
    "vscode": {
      "interpreter": {
        "hash": "3819316905faff6794c24d0fd15c65d372f1ac94dfb324f82621ca27113ea7ab"
      }
    }
  },
  "nbformat": 4,
  "nbformat_minor": 0
}