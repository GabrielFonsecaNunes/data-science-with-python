{
  "cells": [
    {
      "cell_type": "markdown",
      "metadata": {
        "colab_type": "text",
        "id": "view-in-github"
      },
      "source": [
        "<a href=\"https://colab.research.google.com/github/GabrielFonsecaNunes/data-science-with-python/blob/master/Aula%201/Notebook_2_tipos_n%C3%BAmericos.ipynb\" target=\"_parent\"><img src=\"https://colab.research.google.com/assets/colab-badge.svg\" alt=\"Open In Colab\"/></a>"
      ]
    },
    {
      "cell_type": "markdown",
      "metadata": {
        "id": "r1Kz6emGNzfb"
      },
      "source": [
        "# <font color='orange'> AULA 1 - Python Fundamentos - Tipos Númericos </font>\""
      ]
    },
    {
      "cell_type": "code",
      "execution_count": null,
      "metadata": {
        "id": "LQlA9exyNzfe",
        "outputId": "05e731f4-97f5-41f1-bfb9-65d803d6aed4"
      },
      "outputs": [
        {
          "name": "stdout",
          "output_type": "stream",
          "text": [
            "Versão da Linguagem Python Usada Neste Jupyter Notebook: 3.8.8\n"
          ]
        }
      ],
      "source": [
        "# Versão da Linguagem Python\n",
        "from platform import python_version\n",
        "print('Versão da Linguagem Python Usada Neste Jupyter Notebook:', python_version())"
      ]
    },
    {
      "cell_type": "markdown",
      "metadata": {
        "id": "QTSCQ1OmNzfg"
      },
      "source": [
        "## Números e Operações Matemáticas"
      ]
    },
    {
      "cell_type": "markdown",
      "metadata": {
        "id": "GnKDqkM8Nzfi"
      },
      "source": [
        "# Pressione as teclas shift e enter para executar o código em uma célula ou pressione o botão Play no menu superior"
      ]
    },
    {
      "cell_type": "code",
      "execution_count": null,
      "metadata": {
        "id": "N1_U-q5fNzfj",
        "outputId": "d4d06cfd-44fc-498a-8362-b4d81460120e"
      },
      "outputs": [
        {
          "data": {
            "text/plain": [
              "8"
            ]
          },
          "execution_count": 2,
          "metadata": {},
          "output_type": "execute_result"
        }
      ],
      "source": [
        "# Soma\n",
        "4 + 4"
      ]
    },
    {
      "cell_type": "code",
      "execution_count": null,
      "metadata": {
        "id": "EOAXBYQ0Nzfk",
        "outputId": "8a8cf6f1-008f-4a12-a206-49f1e7cfc64e"
      },
      "outputs": [
        {
          "data": {
            "text/plain": [
              "1"
            ]
          },
          "execution_count": 3,
          "metadata": {},
          "output_type": "execute_result"
        }
      ],
      "source": [
        "# Subtração\n",
        "4 - 3"
      ]
    },
    {
      "cell_type": "code",
      "execution_count": null,
      "metadata": {
        "id": "7qmAUaAYNzfl",
        "outputId": "e93a9ef3-5058-4660-f2a0-8301e94aa1c7"
      },
      "outputs": [
        {
          "data": {
            "text/plain": [
              "9"
            ]
          },
          "execution_count": 4,
          "metadata": {},
          "output_type": "execute_result"
        }
      ],
      "source": [
        "# Multiplicação\n",
        "3 * 3"
      ]
    },
    {
      "cell_type": "code",
      "execution_count": null,
      "metadata": {
        "id": "uonpmJPaNzfm",
        "outputId": "5add8cda-31cc-4182-ca16-49bfc16e4ef9"
      },
      "outputs": [
        {
          "data": {
            "text/plain": [
              "1.5"
            ]
          },
          "execution_count": 5,
          "metadata": {},
          "output_type": "execute_result"
        }
      ],
      "source": [
        "# Divisão\n",
        "3 / 2"
      ]
    },
    {
      "cell_type": "code",
      "execution_count": null,
      "metadata": {
        "id": "TLcqyKeONzfn",
        "outputId": "2014c944-692f-434e-b667-07ae513a5365"
      },
      "outputs": [
        {
          "data": {
            "text/plain": [
              "16"
            ]
          },
          "execution_count": 6,
          "metadata": {},
          "output_type": "execute_result"
        }
      ],
      "source": [
        "# Potência\n",
        "4 ** 2  "
      ]
    },
    {
      "cell_type": "code",
      "execution_count": null,
      "metadata": {
        "id": "comkg92pNzfp",
        "outputId": "47c14500-6b62-48f2-b131-412f128db344"
      },
      "outputs": [
        {
          "data": {
            "text/plain": [
              "1"
            ]
          },
          "execution_count": 7,
          "metadata": {},
          "output_type": "execute_result"
        }
      ],
      "source": [
        "# Módulo\n",
        "10 % 3  "
      ]
    },
    {
      "cell_type": "markdown",
      "metadata": {
        "id": "oWdejryQNzfq"
      },
      "source": [
        "### Função Type"
      ]
    },
    {
      "cell_type": "code",
      "execution_count": null,
      "metadata": {
        "id": "N8PpdOiINzfr",
        "outputId": "215bf108-9a15-4b97-c1db-1dc4d155e491"
      },
      "outputs": [
        {
          "data": {
            "text/plain": [
              "int"
            ]
          },
          "execution_count": 8,
          "metadata": {},
          "output_type": "execute_result"
        }
      ],
      "source": [
        "type(5)"
      ]
    },
    {
      "cell_type": "code",
      "execution_count": null,
      "metadata": {
        "id": "FeatEFKtNzfs",
        "outputId": "14d66b5f-1e9d-492d-fbe4-6d6223313d6d"
      },
      "outputs": [
        {
          "data": {
            "text/plain": [
              "float"
            ]
          },
          "execution_count": 9,
          "metadata": {},
          "output_type": "execute_result"
        }
      ],
      "source": [
        "type(5.0)"
      ]
    },
    {
      "cell_type": "code",
      "execution_count": null,
      "metadata": {
        "id": "NkSuk_kSNzft",
        "outputId": "2e39e760-24ff-4ddb-dbc7-4eb384d6238b"
      },
      "outputs": [
        {
          "data": {
            "text/plain": [
              "str"
            ]
          },
          "execution_count": 10,
          "metadata": {},
          "output_type": "execute_result"
        }
      ],
      "source": [
        "a = 'Eu sou uma string'\n",
        "type(a)"
      ]
    },
    {
      "cell_type": "markdown",
      "metadata": {
        "id": "ingqBzIRNzfu"
      },
      "source": [
        "### Operações com números float"
      ]
    },
    {
      "cell_type": "code",
      "execution_count": null,
      "metadata": {
        "id": "gIUQY9w5Nzfu",
        "outputId": "3ec3f9ea-833a-4bc1-bde1-c58c1e3e8c24"
      },
      "outputs": [
        {
          "data": {
            "text/plain": [
              "9.5"
            ]
          },
          "execution_count": 11,
          "metadata": {},
          "output_type": "execute_result"
        }
      ],
      "source": [
        "3.1 + 6.4"
      ]
    },
    {
      "cell_type": "code",
      "execution_count": null,
      "metadata": {
        "id": "0d3X8q-9Nzfv",
        "outputId": "a6047fae-700e-499b-b683-ccaa753ec34b"
      },
      "outputs": [
        {
          "data": {
            "text/plain": [
              "8.0"
            ]
          },
          "execution_count": 12,
          "metadata": {},
          "output_type": "execute_result"
        }
      ],
      "source": [
        "4 + 4.0"
      ]
    },
    {
      "cell_type": "code",
      "execution_count": null,
      "metadata": {
        "id": "weDPQpz3Nzfw",
        "outputId": "47273711-bb28-48a6-ee1d-dda22b2720ef"
      },
      "outputs": [
        {
          "data": {
            "text/plain": [
              "8"
            ]
          },
          "execution_count": 13,
          "metadata": {},
          "output_type": "execute_result"
        }
      ],
      "source": [
        "4 + 4"
      ]
    },
    {
      "cell_type": "code",
      "execution_count": null,
      "metadata": {
        "id": "rnYawe3nNzfw",
        "outputId": "5be22933-e5bd-42ad-80e2-82162261c5aa"
      },
      "outputs": [
        {
          "data": {
            "text/plain": [
              "2.0"
            ]
          },
          "execution_count": 14,
          "metadata": {},
          "output_type": "execute_result"
        }
      ],
      "source": [
        "# Resultado é um número float\n",
        "4 / 2"
      ]
    },
    {
      "cell_type": "code",
      "execution_count": null,
      "metadata": {
        "id": "Kp99FKsMNzfw",
        "outputId": "2e4fc8ac-f580-4201-b47a-35883f5654e0"
      },
      "outputs": [
        {
          "data": {
            "text/plain": [
              "2"
            ]
          },
          "execution_count": 15,
          "metadata": {},
          "output_type": "execute_result"
        }
      ],
      "source": [
        "# Resultado é um número inteiro\n",
        "4 // 2"
      ]
    },
    {
      "cell_type": "code",
      "execution_count": null,
      "metadata": {
        "id": "83ctvNQ3Nzfx",
        "outputId": "6d24740f-0bed-4286-fb93-085592465eb0"
      },
      "outputs": [
        {
          "data": {
            "text/plain": [
              "1.3333333333333333"
            ]
          },
          "execution_count": 16,
          "metadata": {},
          "output_type": "execute_result"
        }
      ],
      "source": [
        "4 / 3.0"
      ]
    },
    {
      "cell_type": "code",
      "execution_count": null,
      "metadata": {
        "id": "3-9b_F0qNzfx",
        "outputId": "3d443c91-39a2-42c1-dfd9-724a8ef288c5"
      },
      "outputs": [
        {
          "data": {
            "text/plain": [
              "1.0"
            ]
          },
          "execution_count": 17,
          "metadata": {},
          "output_type": "execute_result"
        }
      ],
      "source": [
        "4 // 3.0"
      ]
    },
    {
      "cell_type": "markdown",
      "metadata": {
        "id": "LSQS_igpNzfy"
      },
      "source": [
        "### Conversão"
      ]
    },
    {
      "cell_type": "code",
      "execution_count": null,
      "metadata": {
        "id": "9uNHerXzNzfy",
        "outputId": "5e17c106-c90c-463d-bf74-161aa7976527"
      },
      "outputs": [
        {
          "data": {
            "text/plain": [
              "9.0"
            ]
          },
          "execution_count": 18,
          "metadata": {},
          "output_type": "execute_result"
        }
      ],
      "source": [
        "float(9)"
      ]
    },
    {
      "cell_type": "code",
      "execution_count": null,
      "metadata": {
        "id": "nRxL6NdMNzfz",
        "outputId": "dec9dcfd-bc86-483f-d628-3af2d40d680a"
      },
      "outputs": [
        {
          "data": {
            "text/plain": [
              "6"
            ]
          },
          "execution_count": 19,
          "metadata": {},
          "output_type": "execute_result"
        }
      ],
      "source": [
        "int(6.0)"
      ]
    },
    {
      "cell_type": "code",
      "execution_count": null,
      "metadata": {
        "id": "CvJZT413Nzf0",
        "outputId": "037d73d9-0eb9-43c0-db8b-245b9172b13f"
      },
      "outputs": [
        {
          "data": {
            "text/plain": [
              "6"
            ]
          },
          "execution_count": 20,
          "metadata": {},
          "output_type": "execute_result"
        }
      ],
      "source": [
        "int(6.5)"
      ]
    },
    {
      "cell_type": "markdown",
      "metadata": {
        "id": "LtwReKVDNzf1"
      },
      "source": [
        "### Hexadecimal e Binário"
      ]
    },
    {
      "cell_type": "code",
      "execution_count": null,
      "metadata": {
        "id": "iu8h3AHKNzf2",
        "outputId": "80a00242-ac8e-468f-e40f-73ccc880ebe8"
      },
      "outputs": [
        {
          "data": {
            "text/plain": [
              "'0x18a'"
            ]
          },
          "execution_count": 21,
          "metadata": {},
          "output_type": "execute_result"
        }
      ],
      "source": [
        "hex(394)"
      ]
    },
    {
      "cell_type": "code",
      "execution_count": null,
      "metadata": {
        "id": "loGji6cLNzf2",
        "outputId": "b0c7946b-bde1-409b-adb9-0dcd01520315"
      },
      "outputs": [
        {
          "data": {
            "text/plain": [
              "'0xd9'"
            ]
          },
          "execution_count": 22,
          "metadata": {},
          "output_type": "execute_result"
        }
      ],
      "source": [
        "hex(217)"
      ]
    },
    {
      "cell_type": "code",
      "execution_count": null,
      "metadata": {
        "id": "wobHP-2BNzf3",
        "outputId": "4d925be6-d5e1-4085-ced7-87bd580530e9"
      },
      "outputs": [
        {
          "data": {
            "text/plain": [
              "'0b100011110'"
            ]
          },
          "execution_count": 23,
          "metadata": {},
          "output_type": "execute_result"
        }
      ],
      "source": [
        "bin(286)"
      ]
    },
    {
      "cell_type": "code",
      "execution_count": null,
      "metadata": {
        "id": "ouXCkEAgNzf3",
        "outputId": "9087a411-03fb-4236-de00-aaa98858bd4e"
      },
      "outputs": [
        {
          "data": {
            "text/plain": [
              "'0b110000110'"
            ]
          },
          "execution_count": 24,
          "metadata": {},
          "output_type": "execute_result"
        }
      ],
      "source": [
        "bin(390)"
      ]
    },
    {
      "cell_type": "markdown",
      "metadata": {
        "id": "ZLUavMg0Nzf4"
      },
      "source": [
        "### Funções abs, round e pow"
      ]
    },
    {
      "cell_type": "code",
      "execution_count": null,
      "metadata": {
        "id": "6sOO4bqDNzf4",
        "outputId": "4afdae79-042a-4acb-af4a-af25567b2926"
      },
      "outputs": [
        {
          "data": {
            "text/plain": [
              "8"
            ]
          },
          "execution_count": 25,
          "metadata": {},
          "output_type": "execute_result"
        }
      ],
      "source": [
        "# Retorna o valor absoluto\n",
        "abs(-8)"
      ]
    },
    {
      "cell_type": "code",
      "execution_count": null,
      "metadata": {
        "id": "BNkk3QgPNzf4",
        "outputId": "7fb2ed90-8269-4115-bb2c-58104ecf0985"
      },
      "outputs": [
        {
          "data": {
            "text/plain": [
              "8"
            ]
          },
          "execution_count": 26,
          "metadata": {},
          "output_type": "execute_result"
        }
      ],
      "source": [
        "# Retorna o valor absoluto\n",
        "abs(8)"
      ]
    },
    {
      "cell_type": "code",
      "execution_count": null,
      "metadata": {
        "id": "_qZw9HJpNzf5",
        "outputId": "bdd32566-c50d-4638-8530-b37d1d1ead3f"
      },
      "outputs": [
        {
          "data": {
            "text/plain": [
              "3.14"
            ]
          },
          "execution_count": 27,
          "metadata": {},
          "output_type": "execute_result"
        }
      ],
      "source": [
        "# Retorna o valor com arredondamento\n",
        "round(3.14151922,2)"
      ]
    },
    {
      "cell_type": "code",
      "execution_count": null,
      "metadata": {
        "id": "gZCBloHPNzf6",
        "outputId": "fd15edbd-1298-40d2-9f10-1c6385329163"
      },
      "outputs": [
        {
          "data": {
            "text/plain": [
              "16"
            ]
          },
          "execution_count": 28,
          "metadata": {},
          "output_type": "execute_result"
        }
      ],
      "source": [
        "# Potência\n",
        "pow(4,2)"
      ]
    },
    {
      "cell_type": "code",
      "execution_count": null,
      "metadata": {
        "id": "7UtsWIdKNzf6",
        "outputId": "1f9b3047-2f13-4223-be43-d9707b5ad185"
      },
      "outputs": [
        {
          "data": {
            "text/plain": [
              "125"
            ]
          },
          "execution_count": 29,
          "metadata": {},
          "output_type": "execute_result"
        }
      ],
      "source": [
        "# Potência\n",
        "pow(5,3)"
      ]
    }
  ],
  "metadata": {
    "anaconda-cloud": {},
    "colab": {
      "include_colab_link": true,
      "name": "Notebook_2_tipos_númericos.ipynb",
      "provenance": []
    },
    "kernelspec": {
      "display_name": "Python 3.10.4 64-bit",
      "language": "python",
      "name": "python3"
    },
    "language_info": {
      "codemirror_mode": {
        "name": "ipython",
        "version": 3
      },
      "file_extension": ".py",
      "mimetype": "text/x-python",
      "name": "python",
      "nbconvert_exporter": "python",
      "pygments_lexer": "ipython3",
      "version": "3.10.4"
    },
    "vscode": {
      "interpreter": {
        "hash": "3819316905faff6794c24d0fd15c65d372f1ac94dfb324f82621ca27113ea7ab"
      }
    }
  },
  "nbformat": 4,
  "nbformat_minor": 0
}
