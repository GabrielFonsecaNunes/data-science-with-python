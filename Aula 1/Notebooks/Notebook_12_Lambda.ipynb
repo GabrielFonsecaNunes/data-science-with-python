{
  "cells": [
    {
      "cell_type": "markdown",
      "metadata": {
        "id": "view-in-github",
        "colab_type": "text"
      },
      "source": [
        "<a href=\"https://colab.research.google.com/github/GabrielFonsecaNunes/data-science-with-python/blob/master/Aula%201/Notebook_12_Lambda.ipynb\" target=\"_parent\"><img src=\"https://colab.research.google.com/assets/colab-badge.svg\" alt=\"Open In Colab\"/></a>"
      ]
    },
    {
      "cell_type": "markdown",
      "metadata": {
        "id": "TS6AdrugRgcq"
      },
      "source": [
        "# <font color='orange'> AULA 1 - Python Fundamentos - Função Lambda </font>"
      ]
    },
    {
      "cell_type": "code",
      "execution_count": null,
      "metadata": {
        "id": "k8FTOJ8HRgcv",
        "outputId": "8771bb75-0856-40e6-906c-51cf53e01999"
      },
      "outputs": [
        {
          "name": "stdout",
          "output_type": "stream",
          "text": [
            "Versão da Linguagem Python Usada Neste Jupyter Notebook: 3.8.8\n"
          ]
        }
      ],
      "source": [
        "# Versão da Linguagem Python\n",
        "from platform import python_version\n",
        "print('Versão da Linguagem Python Usada Neste Jupyter Notebook:', python_version())"
      ]
    },
    {
      "cell_type": "markdown",
      "metadata": {
        "id": "U-S4Wn-GRgcy"
      },
      "source": [
        "# Expressões Lambda"
      ]
    },
    {
      "cell_type": "code",
      "execution_count": null,
      "metadata": {
        "id": "oinPqyXARgc0"
      },
      "outputs": [],
      "source": [
        "# Definindo uma função - 3 linhas de código\n",
        "def potencia(num):\n",
        "    result = num**2\n",
        "    return result"
      ]
    },
    {
      "cell_type": "code",
      "execution_count": null,
      "metadata": {
        "id": "S8UShzq-Rgc2",
        "outputId": "ecde2ee1-eec6-48fd-f6ed-615bfe0178e2"
      },
      "outputs": [
        {
          "data": {
            "text/plain": [
              "25"
            ]
          },
          "execution_count": 3,
          "metadata": {},
          "output_type": "execute_result"
        }
      ],
      "source": [
        "potencia(5)"
      ]
    },
    {
      "cell_type": "code",
      "execution_count": null,
      "metadata": {
        "id": "B_UDrNPdRgc2"
      },
      "outputs": [],
      "source": [
        "# Definindo uma função - 2 linhas de código\n",
        "def potencia(num):\n",
        "    return num**2"
      ]
    },
    {
      "cell_type": "code",
      "execution_count": null,
      "metadata": {
        "id": "bLViOSlJRgc4",
        "outputId": "b9a12306-f1f4-4b7d-d43c-fc4005cbb81d"
      },
      "outputs": [
        {
          "data": {
            "text/plain": [
              "25"
            ]
          },
          "execution_count": 5,
          "metadata": {},
          "output_type": "execute_result"
        }
      ],
      "source": [
        "potencia(5)"
      ]
    },
    {
      "cell_type": "code",
      "execution_count": null,
      "metadata": {
        "id": "dQURpZx4Rgc5"
      },
      "outputs": [],
      "source": [
        "# Definindo uma função - 1 linha de código\n",
        "def potencia(num): return num**2"
      ]
    },
    {
      "cell_type": "code",
      "execution_count": null,
      "metadata": {
        "id": "a6Zw6bSPRgc6",
        "outputId": "fc6ece7d-08ab-42b7-ea03-a408342c273b"
      },
      "outputs": [
        {
          "data": {
            "text/plain": [
              "25"
            ]
          },
          "execution_count": 7,
          "metadata": {},
          "output_type": "execute_result"
        }
      ],
      "source": [
        "potencia(5)"
      ]
    },
    {
      "cell_type": "code",
      "execution_count": null,
      "metadata": {
        "id": "Nly62AVJRgc8"
      },
      "outputs": [],
      "source": [
        "# Definindo uma expressão lambda\n",
        "potencia = lambda num: num**2"
      ]
    },
    {
      "cell_type": "code",
      "execution_count": null,
      "metadata": {
        "id": "HnPPxsR8Rgc9",
        "outputId": "250ed2cb-d9bf-43a7-9100-24152add28db"
      },
      "outputs": [
        {
          "data": {
            "text/plain": [
              "25"
            ]
          },
          "execution_count": 9,
          "metadata": {},
          "output_type": "execute_result"
        }
      ],
      "source": [
        "potencia(5)"
      ]
    },
    {
      "cell_type": "code",
      "execution_count": null,
      "metadata": {
        "id": "jR8VV3_nRgc_"
      },
      "outputs": [],
      "source": [
        "# Lembre: operadores de comparação retornam boolean, true or false\n",
        "Par = lambda x: x%2==0"
      ]
    },
    {
      "cell_type": "code",
      "execution_count": null,
      "metadata": {
        "id": "9_Y8BOyhRgdB",
        "outputId": "4dad4e82-2872-4cb5-a9c5-b930f6737515"
      },
      "outputs": [
        {
          "data": {
            "text/plain": [
              "False"
            ]
          },
          "execution_count": 11,
          "metadata": {},
          "output_type": "execute_result"
        }
      ],
      "source": [
        "Par(3)"
      ]
    },
    {
      "cell_type": "code",
      "execution_count": null,
      "metadata": {
        "id": "-kD8x0Y4RgdC",
        "outputId": "23e51b84-31bc-4e47-906c-91178adbd4ee"
      },
      "outputs": [
        {
          "data": {
            "text/plain": [
              "True"
            ]
          },
          "execution_count": 12,
          "metadata": {},
          "output_type": "execute_result"
        }
      ],
      "source": [
        "Par(4)"
      ]
    },
    {
      "cell_type": "code",
      "execution_count": null,
      "metadata": {
        "id": "VJQFUcFCRgdD"
      },
      "outputs": [],
      "source": [
        "first = lambda s: s[0]"
      ]
    },
    {
      "cell_type": "code",
      "execution_count": null,
      "metadata": {
        "id": "os1ww5jlRgdE",
        "outputId": "93eb24c9-92ae-4358-bc8a-04648fd33e2a"
      },
      "outputs": [
        {
          "data": {
            "text/plain": [
              "'P'"
            ]
          },
          "execution_count": 14,
          "metadata": {},
          "output_type": "execute_result"
        }
      ],
      "source": [
        "first('Python')"
      ]
    },
    {
      "cell_type": "code",
      "execution_count": null,
      "metadata": {
        "id": "8VDFCsOjRgdE"
      },
      "outputs": [],
      "source": [
        "reverso = lambda s: s[::-1]"
      ]
    },
    {
      "cell_type": "code",
      "execution_count": null,
      "metadata": {
        "id": "4OStlA-rRgdG",
        "outputId": "f3b02daa-429a-4796-8322-4741856d11dc"
      },
      "outputs": [
        {
          "data": {
            "text/plain": [
              "'nohtyP'"
            ]
          },
          "execution_count": 16,
          "metadata": {},
          "output_type": "execute_result"
        }
      ],
      "source": [
        "reverso('Python')"
      ]
    },
    {
      "cell_type": "code",
      "execution_count": null,
      "metadata": {
        "id": "JpCkyVRBRgdH"
      },
      "outputs": [],
      "source": [
        "addNum = lambda x,y : x+y"
      ]
    },
    {
      "cell_type": "code",
      "execution_count": null,
      "metadata": {
        "id": "HDBre4HbRgdI",
        "outputId": "1432271d-1e70-41aa-fc83-8bc99fa1ad48"
      },
      "outputs": [
        {
          "data": {
            "text/plain": [
              "5"
            ]
          },
          "execution_count": 18,
          "metadata": {},
          "output_type": "execute_result"
        }
      ],
      "source": [
        "addNum(2,3)"
      ]
    }
  ],
  "metadata": {
    "kernelspec": {
      "display_name": "Python 3.10.4 64-bit",
      "language": "python",
      "name": "python3"
    },
    "language_info": {
      "codemirror_mode": {
        "name": "ipython",
        "version": 3
      },
      "file_extension": ".py",
      "mimetype": "text/x-python",
      "name": "python",
      "nbconvert_exporter": "python",
      "pygments_lexer": "ipython3",
      "version": "3.10.4"
    },
    "vscode": {
      "interpreter": {
        "hash": "3819316905faff6794c24d0fd15c65d372f1ac94dfb324f82621ca27113ea7ab"
      }
    },
    "colab": {
      "name": "Notebook_12_Lambda.ipynb",
      "provenance": [],
      "include_colab_link": true
    }
  },
  "nbformat": 4,
  "nbformat_minor": 0
}