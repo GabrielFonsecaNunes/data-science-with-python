{
  "cells": [
    {
      "cell_type": "markdown",
      "metadata": {
        "id": "view-in-github",
        "colab_type": "text"
      },
      "source": [
        "<a href=\"https://colab.research.google.com/github/GabrielFonsecaNunes/data-science-with-python/blob/master/Aula%201/Notebook_11_Funcoes.ipynb\" target=\"_parent\"><img src=\"https://colab.research.google.com/assets/colab-badge.svg\" alt=\"Open In Colab\"/></a>"
      ]
    },
    {
      "cell_type": "markdown",
      "metadata": {
        "id": "1UYEgqp9RY0S"
      },
      "source": [
        "# <font color='orange'> AULA 1 - Python Fundamentos - Funções </font>"
      ]
    },
    {
      "cell_type": "code",
      "execution_count": null,
      "metadata": {
        "id": "AlpklHIYRY0V",
        "outputId": "2aaac5d2-9928-4f66-a9f2-0c3c3ae6133f"
      },
      "outputs": [
        {
          "name": "stdout",
          "output_type": "stream",
          "text": [
            "Versão da Linguagem Python Usada Neste Jupyter Notebook: 3.8.8\n"
          ]
        }
      ],
      "source": [
        "# Versão da Linguagem Python\n",
        "from platform import python_version\n",
        "print('Versão da Linguagem Python Usada Neste Jupyter Notebook:', python_version())"
      ]
    },
    {
      "cell_type": "markdown",
      "metadata": {
        "id": "3dmxVcD8RY0Y"
      },
      "source": [
        "# Funções"
      ]
    },
    {
      "cell_type": "code",
      "execution_count": null,
      "metadata": {
        "id": "wgqkK2P6RY0Y"
      },
      "outputs": [],
      "source": [
        "# Definindo uma função\n",
        "def primeiraFunc():\n",
        "    print('Hello World')"
      ]
    },
    {
      "cell_type": "code",
      "execution_count": null,
      "metadata": {
        "id": "-24qlYGaRY0Z",
        "outputId": "eb8461f6-9d54-460d-f827-822a73ca7984"
      },
      "outputs": [
        {
          "name": "stdout",
          "output_type": "stream",
          "text": [
            "Hello World\n"
          ]
        }
      ],
      "source": [
        "primeiraFunc()"
      ]
    },
    {
      "cell_type": "code",
      "execution_count": null,
      "metadata": {
        "id": "hlFokj-qRY0a"
      },
      "outputs": [],
      "source": [
        "# Definindo uma função com parâmetro\n",
        "def primeiraFunc(nome):\n",
        "    print('Hello %s' %(nome))"
      ]
    },
    {
      "cell_type": "code",
      "execution_count": null,
      "metadata": {
        "id": "49KBc4i4RY0c",
        "outputId": "e7a39806-51c4-4a54-f9d8-888a487232ad"
      },
      "outputs": [
        {
          "name": "stdout",
          "output_type": "stream",
          "text": [
            "Hello Aluno\n"
          ]
        }
      ],
      "source": [
        "primeiraFunc('Aluno')"
      ]
    },
    {
      "cell_type": "code",
      "execution_count": null,
      "metadata": {
        "id": "msOHuF3tRY0d"
      },
      "outputs": [],
      "source": [
        "def funcLeitura():\n",
        "    for i in range(0, 5):\n",
        "        print(\"Número \" + str(i))"
      ]
    },
    {
      "cell_type": "code",
      "execution_count": null,
      "metadata": {
        "id": "CEHsh8QoRY0e",
        "outputId": "f5c2442a-6973-4b96-eb96-4262ed81e307"
      },
      "outputs": [
        {
          "name": "stdout",
          "output_type": "stream",
          "text": [
            "Número 0\n",
            "Número 1\n",
            "Número 2\n",
            "Número 3\n",
            "Número 4\n"
          ]
        }
      ],
      "source": [
        "funcLeitura()"
      ]
    },
    {
      "cell_type": "code",
      "execution_count": null,
      "metadata": {
        "id": "tjrz5mBXRY0f"
      },
      "outputs": [],
      "source": [
        "# Função para somar números\n",
        "def addNum(firstnum, secondnum):\n",
        "    print(\"Primeiro número: \" + str(firstnum))\n",
        "    print(\"Segundo número: \" + str(secondnum))\n",
        "    print(\"Soma: \", firstnum + secondnum)"
      ]
    },
    {
      "cell_type": "code",
      "execution_count": null,
      "metadata": {
        "id": "VMuDyJOERY0g",
        "outputId": "57f9bb5c-a58b-44d6-e532-a980ecb402de"
      },
      "outputs": [
        {
          "name": "stdout",
          "output_type": "stream",
          "text": [
            "Primeiro número: 45\n",
            "Segundo número: 3\n",
            "Soma:  48\n"
          ]
        }
      ],
      "source": [
        "# Chamando a função e passando parâmetros\n",
        "addNum(45, 3)"
      ]
    },
    {
      "cell_type": "markdown",
      "metadata": {
        "id": "eppYrmjWRY0i"
      },
      "source": [
        "### Variáveis locais e globais"
      ]
    },
    {
      "cell_type": "code",
      "execution_count": null,
      "metadata": {
        "id": "r73EfOkrRY0j"
      },
      "outputs": [],
      "source": [
        "# Variável Global\n",
        "var_global = 10  # Esta é uma variável global\n",
        "\n",
        "def multiply(num1, num2):\n",
        "    var_global = num1 * num2  # Esta é uma variável local\n",
        "    print(var_global)"
      ]
    },
    {
      "cell_type": "code",
      "execution_count": null,
      "metadata": {
        "id": "D0abvTymRY0k",
        "outputId": "d59dfc4e-525a-4f16-de28-0be9dd4ad7b0"
      },
      "outputs": [
        {
          "name": "stdout",
          "output_type": "stream",
          "text": [
            "125\n"
          ]
        }
      ],
      "source": [
        "multiply(5, 25)"
      ]
    },
    {
      "cell_type": "code",
      "execution_count": null,
      "metadata": {
        "id": "q-hSZ0fxRY0k",
        "outputId": "6c014c2e-d571-498f-a379-af74a3c4f7c1"
      },
      "outputs": [
        {
          "name": "stdout",
          "output_type": "stream",
          "text": [
            "10\n"
          ]
        }
      ],
      "source": [
        "print(var_global)"
      ]
    },
    {
      "cell_type": "code",
      "execution_count": null,
      "metadata": {
        "id": "y5c_XuMIRY0l"
      },
      "outputs": [],
      "source": [
        "# Variável Local\n",
        "var_global = 10  # Esta é uma variável global\n",
        "def multiply(num1, num2):\n",
        "    var_local = num1 * num2   # Esta é uma variável local\n",
        "    print(var_local)"
      ]
    },
    {
      "cell_type": "code",
      "execution_count": null,
      "metadata": {
        "id": "XtbaGFBGRY0m",
        "outputId": "3e3aac7a-2ac0-49e8-e6fa-ac1ae3cba6d0"
      },
      "outputs": [
        {
          "name": "stdout",
          "output_type": "stream",
          "text": [
            "125\n"
          ]
        }
      ],
      "source": [
        "multiply(5, 25)"
      ]
    },
    {
      "cell_type": "code",
      "execution_count": null,
      "metadata": {
        "id": "GxpGgFvqRY0n",
        "outputId": "ec3b6124-4966-46a2-fd0c-0ccd0a488678"
      },
      "outputs": [
        {
          "ename": "NameError",
          "evalue": "name 'var_local' is not defined",
          "output_type": "error",
          "traceback": [
            "\u001b[0;31m---------------------------------------------------------------------------\u001b[0m",
            "\u001b[0;31mNameError\u001b[0m                                 Traceback (most recent call last)",
            "\u001b[0;32m<ipython-input-15-0a9f1c3cecf1>\u001b[0m in \u001b[0;36m<module>\u001b[0;34m\u001b[0m\n\u001b[0;32m----> 1\u001b[0;31m \u001b[0mprint\u001b[0m\u001b[0;34m(\u001b[0m\u001b[0mvar_local\u001b[0m\u001b[0;34m)\u001b[0m\u001b[0;34m\u001b[0m\u001b[0;34m\u001b[0m\u001b[0m\n\u001b[0m",
            "\u001b[0;31mNameError\u001b[0m: name 'var_local' is not defined"
          ]
        }
      ],
      "source": [
        "print(var_local)"
      ]
    },
    {
      "cell_type": "markdown",
      "metadata": {
        "id": "Rt596QkvRY0o"
      },
      "source": [
        "### Funções Built-in"
      ]
    },
    {
      "cell_type": "code",
      "execution_count": null,
      "metadata": {
        "id": "Njnx8vcyRY0o",
        "outputId": "2601948f-20d1-4288-9e81-a428d8e081c0"
      },
      "outputs": [
        {
          "data": {
            "text/plain": [
              "56"
            ]
          },
          "execution_count": 16,
          "metadata": {},
          "output_type": "execute_result"
        }
      ],
      "source": [
        "abs(-56)"
      ]
    },
    {
      "cell_type": "code",
      "execution_count": null,
      "metadata": {
        "id": "GEEm_nQkRY0p",
        "outputId": "2bd1d9c7-27cb-4946-b170-95d1170c624b"
      },
      "outputs": [
        {
          "data": {
            "text/plain": [
              "23"
            ]
          },
          "execution_count": 17,
          "metadata": {},
          "output_type": "execute_result"
        }
      ],
      "source": [
        "abs(23)"
      ]
    },
    {
      "cell_type": "code",
      "execution_count": null,
      "metadata": {
        "id": "4cARazmbRY0q",
        "outputId": "285cba09-6a41-40da-d204-e34ebb0dff26"
      },
      "outputs": [
        {
          "data": {
            "text/plain": [
              "False"
            ]
          },
          "execution_count": 18,
          "metadata": {},
          "output_type": "execute_result"
        }
      ],
      "source": [
        "bool(0)"
      ]
    },
    {
      "cell_type": "code",
      "execution_count": null,
      "metadata": {
        "id": "jZHwtVRbRY0q",
        "outputId": "894cbcac-08cb-45c9-b38c-ec2dd921a892"
      },
      "outputs": [
        {
          "data": {
            "text/plain": [
              "True"
            ]
          },
          "execution_count": 19,
          "metadata": {},
          "output_type": "execute_result"
        }
      ],
      "source": [
        "bool(1)"
      ]
    },
    {
      "cell_type": "markdown",
      "metadata": {
        "id": "VMXJlWpxRY0r"
      },
      "source": [
        "### Funções str, int, float"
      ]
    },
    {
      "cell_type": "code",
      "execution_count": null,
      "metadata": {
        "id": "k14nezK6RY0s",
        "outputId": "268e0ba8-39ef-4690-e3ed-a734ec57c51d"
      },
      "outputs": [
        {
          "name": "stdout",
          "output_type": "stream",
          "text": [
            "Digite sua idade: 18\n"
          ]
        },
        {
          "ename": "TypeError",
          "evalue": "'>' not supported between instances of 'str' and 'int'",
          "output_type": "error",
          "traceback": [
            "\u001b[0;31m---------------------------------------------------------------------------\u001b[0m",
            "\u001b[0;31mTypeError\u001b[0m                                 Traceback (most recent call last)",
            "\u001b[0;32m<ipython-input-20-97c304e276e5>\u001b[0m in \u001b[0;36m<module>\u001b[0;34m\u001b[0m\n\u001b[1;32m      1\u001b[0m \u001b[0;31m# Erro ao executar por causa da conversão\u001b[0m\u001b[0;34m\u001b[0m\u001b[0;34m\u001b[0m\u001b[0;34m\u001b[0m\u001b[0m\n\u001b[1;32m      2\u001b[0m \u001b[0midade\u001b[0m \u001b[0;34m=\u001b[0m \u001b[0minput\u001b[0m\u001b[0;34m(\u001b[0m\u001b[0;34m\"Digite sua idade: \"\u001b[0m\u001b[0;34m)\u001b[0m\u001b[0;34m\u001b[0m\u001b[0;34m\u001b[0m\u001b[0m\n\u001b[0;32m----> 3\u001b[0;31m \u001b[0;32mif\u001b[0m \u001b[0midade\u001b[0m \u001b[0;34m>\u001b[0m \u001b[0;36m13\u001b[0m\u001b[0;34m:\u001b[0m\u001b[0;34m\u001b[0m\u001b[0;34m\u001b[0m\u001b[0m\n\u001b[0m\u001b[1;32m      4\u001b[0m     \u001b[0mprint\u001b[0m\u001b[0;34m(\u001b[0m\u001b[0;34m\"Você pode acessar o Facebook\"\u001b[0m\u001b[0;34m)\u001b[0m\u001b[0;34m\u001b[0m\u001b[0;34m\u001b[0m\u001b[0m\n",
            "\u001b[0;31mTypeError\u001b[0m: '>' not supported between instances of 'str' and 'int'"
          ]
        }
      ],
      "source": [
        "# Erro ao executar por causa da conversão\n",
        "idade = input(\"Digite sua idade: \")\n",
        "if idade > 13:\n",
        "    print(\"Você pode acessar o Facebook\")  "
      ]
    },
    {
      "cell_type": "code",
      "execution_count": null,
      "metadata": {
        "id": "ONocg0mDRY0s",
        "outputId": "291718fa-eb76-4c02-e29b-d0931242f179"
      },
      "outputs": [
        {
          "name": "stdout",
          "output_type": "stream",
          "text": [
            "Digite sua idade: 18\n",
            "Você pode acessar o Facebook\n"
          ]
        }
      ],
      "source": [
        "# Usando a função int para converter o valor digitado\n",
        "idade = int(input(\"Digite sua idade: \"))\n",
        "if idade > 13:\n",
        "    print(\"Você pode acessar o Facebook\")  "
      ]
    },
    {
      "cell_type": "code",
      "execution_count": null,
      "metadata": {
        "id": "OythMN6XRY0t",
        "outputId": "a5ab8e66-9ba7-4b7f-c549-5dfaf7ecf4d4"
      },
      "outputs": [
        {
          "data": {
            "text/plain": [
              "26"
            ]
          },
          "execution_count": 22,
          "metadata": {},
          "output_type": "execute_result"
        }
      ],
      "source": [
        "int(\"26\")"
      ]
    },
    {
      "cell_type": "code",
      "execution_count": null,
      "metadata": {
        "id": "zIh2f_j_RY0u",
        "outputId": "dfdb861e-7c14-454b-c468-23ba234e739b"
      },
      "outputs": [
        {
          "data": {
            "text/plain": [
              "123.345"
            ]
          },
          "execution_count": 23,
          "metadata": {},
          "output_type": "execute_result"
        }
      ],
      "source": [
        "float(\"123.345\")"
      ]
    },
    {
      "cell_type": "code",
      "execution_count": null,
      "metadata": {
        "id": "gYM_Sij-RY0u",
        "outputId": "48a5b301-e81f-4c2b-e258-417b8a098a6a"
      },
      "outputs": [
        {
          "data": {
            "text/plain": [
              "'14'"
            ]
          },
          "execution_count": 24,
          "metadata": {},
          "output_type": "execute_result"
        }
      ],
      "source": [
        "str(14)"
      ]
    },
    {
      "cell_type": "code",
      "execution_count": null,
      "metadata": {
        "id": "ieKatyVtRY0v",
        "outputId": "4611faf4-b0cf-497c-e99d-bc7ff1942e01"
      },
      "outputs": [
        {
          "data": {
            "text/plain": [
              "4"
            ]
          },
          "execution_count": 25,
          "metadata": {},
          "output_type": "execute_result"
        }
      ],
      "source": [
        "len([23,34,45,46])"
      ]
    },
    {
      "cell_type": "code",
      "execution_count": null,
      "metadata": {
        "id": "BoCPK8grRY0v"
      },
      "outputs": [],
      "source": [
        "array = ['a', 'b', 'c']"
      ]
    },
    {
      "cell_type": "code",
      "execution_count": null,
      "metadata": {
        "id": "-IiGRJaQRY0w",
        "outputId": "09fb83ee-e87f-499e-dd43-0ccce230a9f8"
      },
      "outputs": [
        {
          "data": {
            "text/plain": [
              "'c'"
            ]
          },
          "execution_count": 27,
          "metadata": {},
          "output_type": "execute_result"
        }
      ],
      "source": [
        "max(array)"
      ]
    },
    {
      "cell_type": "code",
      "execution_count": null,
      "metadata": {
        "id": "wsQGDjAPRY0w",
        "outputId": "73b540d5-9784-4dcf-ce3c-df83082a4bab"
      },
      "outputs": [
        {
          "data": {
            "text/plain": [
              "'a'"
            ]
          },
          "execution_count": 28,
          "metadata": {},
          "output_type": "execute_result"
        }
      ],
      "source": [
        "min(array)"
      ]
    },
    {
      "cell_type": "code",
      "execution_count": null,
      "metadata": {
        "id": "iqWyUqJMRY0x"
      },
      "outputs": [],
      "source": [
        "array = ['a', 'b', 'c', 'd', 'A', 'B', 'C', 'D']"
      ]
    },
    {
      "cell_type": "code",
      "execution_count": null,
      "metadata": {
        "id": "N7t4c40ZRY0x",
        "outputId": "ba0c8dd1-c6f3-451a-aad9-9c00d82bb9b1"
      },
      "outputs": [
        {
          "data": {
            "text/plain": [
              "['a', 'b', 'c', 'd', 'A', 'B', 'C', 'D']"
            ]
          },
          "execution_count": 30,
          "metadata": {},
          "output_type": "execute_result"
        }
      ],
      "source": [
        "array"
      ]
    },
    {
      "cell_type": "code",
      "execution_count": null,
      "metadata": {
        "id": "viMIvwT6RY0y",
        "outputId": "f10c8435-9204-4838-a138-d5ef4116ddb1"
      },
      "outputs": [
        {
          "data": {
            "text/plain": [
              "'d'"
            ]
          },
          "execution_count": 31,
          "metadata": {},
          "output_type": "execute_result"
        }
      ],
      "source": [
        "max(array)"
      ]
    },
    {
      "cell_type": "code",
      "execution_count": null,
      "metadata": {
        "id": "x20yzJ2tRY0y",
        "outputId": "28d0863c-0441-4128-c09e-686def1da221"
      },
      "outputs": [
        {
          "data": {
            "text/plain": [
              "'A'"
            ]
          },
          "execution_count": 32,
          "metadata": {},
          "output_type": "execute_result"
        }
      ],
      "source": [
        "min(array)"
      ]
    },
    {
      "cell_type": "code",
      "execution_count": null,
      "metadata": {
        "id": "IL9MVSCbRY0z"
      },
      "outputs": [],
      "source": [
        "list1 = [23, 23, 34, 45]"
      ]
    },
    {
      "cell_type": "code",
      "execution_count": null,
      "metadata": {
        "id": "PNFo_6TWRY0z",
        "outputId": "b7a15857-06f9-48bb-f17b-661732c0fa11"
      },
      "outputs": [
        {
          "data": {
            "text/plain": [
              "125"
            ]
          },
          "execution_count": 34,
          "metadata": {},
          "output_type": "execute_result"
        }
      ],
      "source": [
        "sum(list1)"
      ]
    },
    {
      "cell_type": "markdown",
      "metadata": {
        "id": "77OesPgnRY00"
      },
      "source": [
        "### Criando funções usando outras funções"
      ]
    },
    {
      "cell_type": "code",
      "execution_count": null,
      "metadata": {
        "id": "rpkhBii3RY00"
      },
      "outputs": [],
      "source": [
        "import math\n",
        "\n",
        "def numPrimo(num):\n",
        "    '''\n",
        "    Verificando se um número \n",
        "    é primo. \n",
        "    '''\n",
        "    if (num % 2) == 0 and num > 2: \n",
        "        return \"Este número não é primo\"\n",
        "    for i in range(3, int(math.sqrt(num)) + 1, 2):\n",
        "        if (num % i) == 0:\n",
        "            return \"Este número não é primo\"\n",
        "    return \"Este número é primo\""
      ]
    },
    {
      "cell_type": "code",
      "execution_count": null,
      "metadata": {
        "id": "dvlSTQ41RY01",
        "outputId": "f7ecc8e8-9852-4c7a-f5e4-4426e85afaaf"
      },
      "outputs": [
        {
          "data": {
            "text/plain": [
              "'Este número é primo'"
            ]
          },
          "execution_count": 36,
          "metadata": {},
          "output_type": "execute_result"
        }
      ],
      "source": [
        "numPrimo(541)"
      ]
    },
    {
      "cell_type": "markdown",
      "metadata": {
        "id": "ROz9KZwKRY02"
      },
      "source": [
        "### Fazendo split dos dados"
      ]
    },
    {
      "cell_type": "code",
      "execution_count": null,
      "metadata": {
        "id": "ccZ4oWdlRY02"
      },
      "outputs": [],
      "source": [
        "# Fazendo split dos dados\n",
        "def split_string(text):\n",
        "    return text.split(\" \")"
      ]
    },
    {
      "cell_type": "code",
      "execution_count": null,
      "metadata": {
        "id": "GTM1j4xARY03"
      },
      "outputs": [],
      "source": [
        "texto = \"Esta função será bastante útil para separar grandes volumes de dados.\""
      ]
    },
    {
      "cell_type": "code",
      "execution_count": null,
      "metadata": {
        "id": "VNjeTbcZRY04",
        "outputId": "0b4bccc5-e86e-458e-83e2-6352ab632206"
      },
      "outputs": [
        {
          "name": "stdout",
          "output_type": "stream",
          "text": [
            "['Esta', 'função', 'será', 'bastante', 'útil', 'para', 'separar', 'grandes', 'volumes', 'de', 'dados.']\n"
          ]
        }
      ],
      "source": [
        "# Isso divide a string em uma lista.\n",
        "print(split_string(texto))"
      ]
    },
    {
      "cell_type": "code",
      "execution_count": null,
      "metadata": {
        "id": "zCKoIhi1RY04"
      },
      "outputs": [],
      "source": [
        "# Podemos atribuir o output de uma função, para uma variável\n",
        "token = split_string(texto)"
      ]
    },
    {
      "cell_type": "code",
      "execution_count": null,
      "metadata": {
        "id": "nBmkzo2lRY04",
        "outputId": "ff26ed86-8f84-4a7c-980c-5b2f2c2418fa"
      },
      "outputs": [
        {
          "data": {
            "text/plain": [
              "['Esta',\n",
              " 'função',\n",
              " 'será',\n",
              " 'bastante',\n",
              " 'útil',\n",
              " 'para',\n",
              " 'separar',\n",
              " 'grandes',\n",
              " 'volumes',\n",
              " 'de',\n",
              " 'dados.']"
            ]
          },
          "execution_count": 41,
          "metadata": {},
          "output_type": "execute_result"
        }
      ],
      "source": [
        "token"
      ]
    },
    {
      "cell_type": "code",
      "execution_count": null,
      "metadata": {
        "id": "u7qc1yTIRY04"
      },
      "outputs": [],
      "source": [
        "caixa_baixa = \"Este Texto Deveria Estar Todo Em LowerCase\""
      ]
    },
    {
      "cell_type": "code",
      "execution_count": null,
      "metadata": {
        "id": "XGA0zPp8RY05"
      },
      "outputs": [],
      "source": [
        "def lowercase(text):\n",
        "    return text.lower()"
      ]
    },
    {
      "cell_type": "code",
      "execution_count": null,
      "metadata": {
        "id": "DhU2lTCGRY06"
      },
      "outputs": [],
      "source": [
        "lowercased_string = lowercase(caixa_baixa)"
      ]
    },
    {
      "cell_type": "code",
      "execution_count": null,
      "metadata": {
        "id": "OOxNrYmvRY06",
        "outputId": "53caa6c6-b500-4df9-ece4-6621ef43e2de"
      },
      "outputs": [
        {
          "data": {
            "text/plain": [
              "'este texto deveria estar todo em lowercase'"
            ]
          },
          "execution_count": 45,
          "metadata": {},
          "output_type": "execute_result"
        }
      ],
      "source": [
        "lowercased_string"
      ]
    },
    {
      "cell_type": "code",
      "execution_count": null,
      "metadata": {
        "id": "0gc-5M1ARY08"
      },
      "outputs": [],
      "source": [
        "# Funções com número variável de argumentos\n",
        "def printVarInfo( arg1, *vartuple ):\n",
        "   # Imprimindo o valor do primeiro argumento\n",
        "    print (\"O parâmetro passado foi: \", arg1)\n",
        "   \n",
        "   # Imprimindo o valor do segundo argumento \n",
        "    for item in vartuple:\n",
        "        print (\"O parâmetro passado foi: \", item)\n",
        "    return;"
      ]
    },
    {
      "cell_type": "code",
      "execution_count": null,
      "metadata": {
        "id": "-50NmiZBRY08",
        "outputId": "6603ec95-20be-4bf2-8b01-1587c5704076"
      },
      "outputs": [
        {
          "name": "stdout",
          "output_type": "stream",
          "text": [
            "O parâmetro passado foi:  10\n"
          ]
        }
      ],
      "source": [
        "# Fazendo chamada à função usando apenas 1 argumento\n",
        "printVarInfo(10)"
      ]
    },
    {
      "cell_type": "code",
      "execution_count": null,
      "metadata": {
        "id": "xkJ9oX3dRY1C",
        "outputId": "08094ced-fe4d-425e-b3bc-9d0c0f453b2a"
      },
      "outputs": [
        {
          "name": "stdout",
          "output_type": "stream",
          "text": [
            "O parâmetro passado foi:  Chocolate\n",
            "O parâmetro passado foi:  Morango\n",
            "O parâmetro passado foi:  Banana\n"
          ]
        }
      ],
      "source": [
        "printVarInfo('Chocolate', 'Morango', 'Banana')"
      ]
    }
  ],
  "metadata": {
    "kernelspec": {
      "display_name": "Python 3.10.4 64-bit",
      "language": "python",
      "name": "python3"
    },
    "language_info": {
      "codemirror_mode": {
        "name": "ipython",
        "version": 3
      },
      "file_extension": ".py",
      "mimetype": "text/x-python",
      "name": "python",
      "nbconvert_exporter": "python",
      "pygments_lexer": "ipython3",
      "version": "3.10.4"
    },
    "vscode": {
      "interpreter": {
        "hash": "3819316905faff6794c24d0fd15c65d372f1ac94dfb324f82621ca27113ea7ab"
      }
    },
    "colab": {
      "name": "Notebook_11_Funcoes.ipynb",
      "provenance": [],
      "include_colab_link": true
    }
  },
  "nbformat": 4,
  "nbformat_minor": 0
}