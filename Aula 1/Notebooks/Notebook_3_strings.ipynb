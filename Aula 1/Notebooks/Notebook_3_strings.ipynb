{
  "cells": [
    {
      "cell_type": "markdown",
      "metadata": {
        "colab_type": "text",
        "id": "view-in-github"
      },
      "source": [
        "<a href=\"https://colab.research.google.com/github/GabrielFonsecaNunes/data-science-with-python/blob/master/Aula%201/Notebook_3_strings.ipynb\" target=\"_parent\"><img src=\"https://colab.research.google.com/assets/colab-badge.svg\" alt=\"Open In Colab\"/></a>"
      ]
    },
    {
      "cell_type": "markdown",
      "metadata": {
        "id": "pt4c6CbdHbN8"
      },
      "source": [
        "# <font color='orange'> AULA 1 - Python Fundamentos - Strings </font>"
      ]
    },
    {
      "cell_type": "code",
      "execution_count": null,
      "metadata": {
        "id": "e-UCyZZ1HbOA",
        "outputId": "492f0f18-ff56-4833-9f7e-9127278db2a3"
      },
      "outputs": [
        {
          "name": "stdout",
          "output_type": "stream",
          "text": [
            "Versão da Linguagem Python Usada Neste Jupyter Notebook: 3.8.8\n"
          ]
        }
      ],
      "source": [
        "# Versão da Linguagem Python\n",
        "from platform import python_version\n",
        "print('Versão da Linguagem Python Usada Neste Jupyter Notebook:', python_version())"
      ]
    },
    {
      "cell_type": "markdown",
      "metadata": {
        "id": "K4XmQbu_HbOB"
      },
      "source": [
        "## Strings"
      ]
    },
    {
      "cell_type": "markdown",
      "metadata": {
        "id": "GgF61hfiHbOD"
      },
      "source": [
        "### Criando uma String\n",
        "Para criar uma string em Python você pode usar aspas simples ou duplas. Por exemplo:"
      ]
    },
    {
      "cell_type": "code",
      "execution_count": null,
      "metadata": {
        "id": "8WhC3SgkHbOE",
        "outputId": "9e9aeb98-2f17-4b16-983b-acb26588c4ab"
      },
      "outputs": [
        {
          "data": {
            "text/plain": [
              "'Oi'"
            ]
          },
          "execution_count": 2,
          "metadata": {},
          "output_type": "execute_result"
        }
      ],
      "source": [
        "# Uma única palavra\n",
        "'Oi'"
      ]
    },
    {
      "cell_type": "code",
      "execution_count": null,
      "metadata": {
        "id": "L6CG88ESHbOF",
        "outputId": "9087f9d6-fdc3-4f89-de00-03dca9fd5fa7"
      },
      "outputs": [
        {
          "data": {
            "text/plain": [
              "'Criando uma string em Python'"
            ]
          },
          "execution_count": 3,
          "metadata": {},
          "output_type": "execute_result"
        }
      ],
      "source": [
        "# Uma frase\n",
        "'Criando uma string em Python'"
      ]
    },
    {
      "cell_type": "code",
      "execution_count": null,
      "metadata": {
        "id": "-LG2CTumHbOH",
        "outputId": "6b58559d-641f-489c-f4a3-47c32444138c"
      },
      "outputs": [
        {
          "data": {
            "text/plain": [
              "'Podemos usar aspas duplas ou simples para strings em Python'"
            ]
          },
          "execution_count": 4,
          "metadata": {},
          "output_type": "execute_result"
        }
      ],
      "source": [
        "# Podemos usar aspas duplas\n",
        "\"Podemos usar aspas duplas ou simples para strings em Python\""
      ]
    },
    {
      "cell_type": "code",
      "execution_count": null,
      "metadata": {
        "id": "wOthgU9VHbOK",
        "outputId": "f8d11631-74b2-4100-c484-236502613e87"
      },
      "outputs": [
        {
          "data": {
            "text/plain": [
              "\"Testando strings em 'Python'\""
            ]
          },
          "execution_count": 5,
          "metadata": {},
          "output_type": "execute_result"
        }
      ],
      "source": [
        "# Você pode combinar aspas duplas e simples\n",
        "\"Testando strings em 'Python'\""
      ]
    },
    {
      "cell_type": "markdown",
      "metadata": {
        "id": "mtshrJRiHbOM"
      },
      "source": [
        "### Imprimindo uma String"
      ]
    },
    {
      "cell_type": "code",
      "execution_count": null,
      "metadata": {
        "id": "Cl3j6uemHbOO",
        "outputId": "62ebda13-000c-40d4-a08e-00e096f120fa"
      },
      "outputs": [
        {
          "name": "stdout",
          "output_type": "stream",
          "text": [
            "Testando Strings em Python\n"
          ]
        }
      ],
      "source": [
        "print ('Testando Strings em Python')"
      ]
    },
    {
      "cell_type": "code",
      "execution_count": null,
      "metadata": {
        "id": "9cWaBa23HbOP",
        "outputId": "b2e2a649-560c-45ce-b1d2-3cb4ec76fcd7"
      },
      "outputs": [
        {
          "name": "stdout",
          "output_type": "stream",
          "text": [
            "Testando \n",
            "Strings \n",
            "em \n",
            "Python\n"
          ]
        }
      ],
      "source": [
        "print ('Testando \\nStrings \\nem \\nPython')"
      ]
    },
    {
      "cell_type": "code",
      "execution_count": null,
      "metadata": {
        "id": "uvvg1IPlHbOR",
        "outputId": "3d67755b-5fd8-4ba2-a8f7-24f5896c04bc"
      },
      "outputs": [
        {
          "name": "stdout",
          "output_type": "stream",
          "text": [
            "\n",
            "\n"
          ]
        }
      ],
      "source": [
        "print ('\\n')"
      ]
    },
    {
      "cell_type": "markdown",
      "metadata": {
        "id": "pFmUJJTvHbOR"
      },
      "source": [
        "### Indexando Strings"
      ]
    },
    {
      "cell_type": "code",
      "execution_count": null,
      "metadata": {
        "id": "SuqKQfYJHbOS"
      },
      "outputs": [],
      "source": [
        "# Atribuindo uma string\n",
        "s = 'Data Science Academy'"
      ]
    },
    {
      "cell_type": "code",
      "execution_count": null,
      "metadata": {
        "id": "M8CmYmJUHbOT",
        "outputId": "706a57a6-ee92-4e91-ab81-eee8978cf09b"
      },
      "outputs": [
        {
          "name": "stdout",
          "output_type": "stream",
          "text": [
            "Data Science Academy\n"
          ]
        }
      ],
      "source": [
        "print(s)"
      ]
    },
    {
      "cell_type": "code",
      "execution_count": null,
      "metadata": {
        "id": "piiLfCHUHbOT",
        "outputId": "232be6a6-0999-4301-c4ac-bb0b99bac84d"
      },
      "outputs": [
        {
          "data": {
            "text/plain": [
              "'D'"
            ]
          },
          "execution_count": 11,
          "metadata": {},
          "output_type": "execute_result"
        }
      ],
      "source": [
        "# Primeiro elemento da string. \n",
        "s[0]"
      ]
    },
    {
      "cell_type": "code",
      "execution_count": null,
      "metadata": {
        "id": "_3r9vb7nHbOU",
        "outputId": "8d1b1ce6-4fe3-4758-abc3-5aad21949543"
      },
      "outputs": [
        {
          "data": {
            "text/plain": [
              "'a'"
            ]
          },
          "execution_count": 12,
          "metadata": {},
          "output_type": "execute_result"
        }
      ],
      "source": [
        "s[1]"
      ]
    },
    {
      "cell_type": "code",
      "execution_count": null,
      "metadata": {
        "id": "tQIVK4kvHbOV",
        "outputId": "9223d6c4-8744-4764-efb5-3d7018e8d75b"
      },
      "outputs": [
        {
          "data": {
            "text/plain": [
              "'t'"
            ]
          },
          "execution_count": 13,
          "metadata": {},
          "output_type": "execute_result"
        }
      ],
      "source": [
        "s[2]"
      ]
    },
    {
      "cell_type": "markdown",
      "metadata": {
        "id": "yQVZRINFHbOW"
      },
      "source": [
        "Podemos usar um : para executar um slicing que faz a leitura de tudo até um ponto designado. Por exemplo:"
      ]
    },
    {
      "cell_type": "code",
      "execution_count": null,
      "metadata": {
        "id": "QoteVGRqHbOX",
        "outputId": "9768e1e3-0e41-4ca8-e4dc-4bef736ce883"
      },
      "outputs": [
        {
          "data": {
            "text/plain": [
              "'ata Science Academy'"
            ]
          },
          "execution_count": 14,
          "metadata": {},
          "output_type": "execute_result"
        }
      ],
      "source": [
        "# Retorna todos os elementos da string, começando pela posição (lembre-se que Python começa a indexação pela posição 0),\n",
        "# até o fim da string.\n",
        "s[1:]"
      ]
    },
    {
      "cell_type": "code",
      "execution_count": null,
      "metadata": {
        "id": "XNjySDfnHbOX",
        "outputId": "74080cd2-ee33-4f4f-8ac7-5980680a4cd3"
      },
      "outputs": [
        {
          "data": {
            "text/plain": [
              "'Data Science Academy'"
            ]
          },
          "execution_count": 15,
          "metadata": {},
          "output_type": "execute_result"
        }
      ],
      "source": [
        "# A string original permanece inalterada\n",
        "s"
      ]
    },
    {
      "cell_type": "code",
      "execution_count": null,
      "metadata": {
        "id": "tpzKXZxeHbOY",
        "outputId": "fa8d27b2-4556-4cc1-e762-92d56827a2fd"
      },
      "outputs": [
        {
          "data": {
            "text/plain": [
              "'Dat'"
            ]
          },
          "execution_count": 16,
          "metadata": {},
          "output_type": "execute_result"
        }
      ],
      "source": [
        "# Retorna tudo até a posição 3\n",
        "s[:3]"
      ]
    },
    {
      "cell_type": "code",
      "execution_count": null,
      "metadata": {
        "id": "BiBiKOsYHbOY",
        "outputId": "0fdb3fc7-e002-49bd-ee05-11dbd3b4be74"
      },
      "outputs": [
        {
          "data": {
            "text/plain": [
              "'Data Science Academy'"
            ]
          },
          "execution_count": 17,
          "metadata": {},
          "output_type": "execute_result"
        }
      ],
      "source": [
        "s[:]"
      ]
    },
    {
      "cell_type": "code",
      "execution_count": null,
      "metadata": {
        "id": "mmM6-MeyHbOZ",
        "outputId": "f5be3368-ae3d-49d2-a5ba-3848ab314a4d"
      },
      "outputs": [
        {
          "data": {
            "text/plain": [
              "'y'"
            ]
          },
          "execution_count": 18,
          "metadata": {},
          "output_type": "execute_result"
        }
      ],
      "source": [
        "# Nós também podemos usar a indexação negativa e ler de trás para frente.\n",
        "s[-1]"
      ]
    },
    {
      "cell_type": "code",
      "execution_count": null,
      "metadata": {
        "id": "xLws1AgGHbOZ",
        "outputId": "4e9450ee-3f56-44a7-e4b2-67e90e667ace"
      },
      "outputs": [
        {
          "data": {
            "text/plain": [
              "'Data Science Academ'"
            ]
          },
          "execution_count": 19,
          "metadata": {},
          "output_type": "execute_result"
        }
      ],
      "source": [
        "# Retornar tudo, exceto a última letra\n",
        "s[:-1]"
      ]
    },
    {
      "cell_type": "markdown",
      "metadata": {
        "id": "t13-OWSGHbOa"
      },
      "source": [
        "Nós também podemos usar a notação de índice e fatiar a string em pedaços específicos (o padrão é 1). Por exemplo, podemos usar dois pontos duas vezes em uma linha e, em seguida, um número que especifica a frequência para retornar elementos. Por exemplo:"
      ]
    },
    {
      "cell_type": "code",
      "execution_count": null,
      "metadata": {
        "id": "eRliB0raHbOb",
        "outputId": "4caaef88-da9c-4cb0-ca06-eebaa5709a8a"
      },
      "outputs": [
        {
          "data": {
            "text/plain": [
              "'Data Science Academy'"
            ]
          },
          "execution_count": 20,
          "metadata": {},
          "output_type": "execute_result"
        }
      ],
      "source": [
        "s[::1]"
      ]
    },
    {
      "cell_type": "code",
      "execution_count": null,
      "metadata": {
        "id": "BJZfQu20HbOb",
        "outputId": "f031025d-e8c7-4f95-beb4-e27a2e7244e0"
      },
      "outputs": [
        {
          "data": {
            "text/plain": [
              "'Dt cec cdm'"
            ]
          },
          "execution_count": 21,
          "metadata": {},
          "output_type": "execute_result"
        }
      ],
      "source": [
        "s[::2]"
      ]
    },
    {
      "cell_type": "code",
      "execution_count": null,
      "metadata": {
        "id": "GdAFvAFiHbOc",
        "outputId": "318dc50b-d880-45e4-e091-0890bd3f0728"
      },
      "outputs": [
        {
          "data": {
            "text/plain": [
              "'ymedacA ecneicS ataD'"
            ]
          },
          "execution_count": 22,
          "metadata": {},
          "output_type": "execute_result"
        }
      ],
      "source": [
        "s[::-1]"
      ]
    },
    {
      "cell_type": "markdown",
      "metadata": {
        "id": "AwS1TPVlHbOc"
      },
      "source": [
        "### Propriedades de Strings"
      ]
    },
    {
      "cell_type": "code",
      "execution_count": null,
      "metadata": {
        "id": "8-ACO912HbOc",
        "outputId": "77543b22-07f1-43cd-c9db-afd5ce9425ac"
      },
      "outputs": [
        {
          "data": {
            "text/plain": [
              "'Data Science Academy'"
            ]
          },
          "execution_count": 23,
          "metadata": {},
          "output_type": "execute_result"
        }
      ],
      "source": [
        "s"
      ]
    },
    {
      "cell_type": "code",
      "execution_count": null,
      "metadata": {
        "id": "QL1kzvBOHbOd",
        "outputId": "e1e8b17b-384e-4c1b-b513-736c062c5387"
      },
      "outputs": [
        {
          "ename": "TypeError",
          "evalue": "'str' object does not support item assignment",
          "output_type": "error",
          "traceback": [
            "\u001b[0;31m---------------------------------------------------------------------------\u001b[0m",
            "\u001b[0;31mTypeError\u001b[0m                                 Traceback (most recent call last)",
            "\u001b[0;32m<ipython-input-24-3bfedcfbac44>\u001b[0m in \u001b[0;36m<module>\u001b[0;34m\u001b[0m\n\u001b[1;32m      1\u001b[0m \u001b[0;31m# Alterando um caracter\u001b[0m\u001b[0;34m\u001b[0m\u001b[0;34m\u001b[0m\u001b[0;34m\u001b[0m\u001b[0m\n\u001b[0;32m----> 2\u001b[0;31m \u001b[0ms\u001b[0m\u001b[0;34m[\u001b[0m\u001b[0;36m0\u001b[0m\u001b[0;34m]\u001b[0m \u001b[0;34m=\u001b[0m \u001b[0;34m'x'\u001b[0m\u001b[0;34m\u001b[0m\u001b[0;34m\u001b[0m\u001b[0m\n\u001b[0m",
            "\u001b[0;31mTypeError\u001b[0m: 'str' object does not support item assignment"
          ]
        }
      ],
      "source": [
        "# Alterando um caracter\n",
        "s[0] = 'x'"
      ]
    },
    {
      "cell_type": "code",
      "execution_count": null,
      "metadata": {
        "id": "dvMTDKtuHbOd",
        "outputId": "d13ee743-0127-4962-a0f3-7456715f710f"
      },
      "outputs": [
        {
          "data": {
            "text/plain": [
              "'Data Science Academy é a melhor maneira de estar preparado para o mercado de trabalho em Ciência de Dados!'"
            ]
          },
          "execution_count": 25,
          "metadata": {},
          "output_type": "execute_result"
        }
      ],
      "source": [
        "# Concatenando strings\n",
        "s + ' é a melhor maneira de estar preparado para o mercado de trabalho em Ciência de Dados!'"
      ]
    },
    {
      "cell_type": "code",
      "execution_count": null,
      "metadata": {
        "id": "cZLEl8sMHbOe"
      },
      "outputs": [],
      "source": [
        "s = s + ' é a melhor maneira de estar preparado para o mercado de trabalho em Ciência de Dados!'"
      ]
    },
    {
      "cell_type": "code",
      "execution_count": null,
      "metadata": {
        "id": "xt9Ef0tYHbOf",
        "outputId": "ccd08d99-5713-46c5-9303-009068f3c5d0"
      },
      "outputs": [
        {
          "name": "stdout",
          "output_type": "stream",
          "text": [
            "Data Science Academy é a melhor maneira de estar preparado para o mercado de trabalho em Ciência de Dados!\n"
          ]
        }
      ],
      "source": [
        "print(s)"
      ]
    },
    {
      "cell_type": "code",
      "execution_count": null,
      "metadata": {
        "id": "vjHUeSxIHbOf"
      },
      "outputs": [],
      "source": [
        "# Podemos usar o símbolo de multiplicação para criar repetição!\n",
        "letra = 'w'"
      ]
    },
    {
      "cell_type": "code",
      "execution_count": null,
      "metadata": {
        "id": "KES2_yFIHbOg",
        "outputId": "c4591a3a-9d39-4463-ea40-3fa539dab035"
      },
      "outputs": [
        {
          "data": {
            "text/plain": [
              "'www'"
            ]
          },
          "execution_count": 29,
          "metadata": {},
          "output_type": "execute_result"
        }
      ],
      "source": [
        "letra * 3"
      ]
    },
    {
      "cell_type": "markdown",
      "metadata": {
        "id": "YiSkOnQJHbOg"
      },
      "source": [
        "### Funções Built-in de Strings"
      ]
    },
    {
      "cell_type": "code",
      "execution_count": null,
      "metadata": {
        "id": "pzSfvPgVHbOg",
        "outputId": "5398057e-addd-4c84-d9a6-eeff50f086ff"
      },
      "outputs": [
        {
          "data": {
            "text/plain": [
              "'Data Science Academy é a melhor maneira de estar preparado para o mercado de trabalho em Ciência de Dados!'"
            ]
          },
          "execution_count": 30,
          "metadata": {},
          "output_type": "execute_result"
        }
      ],
      "source": [
        "s"
      ]
    },
    {
      "cell_type": "code",
      "execution_count": null,
      "metadata": {
        "id": "wMaERIPIHbOh",
        "outputId": "749a74db-2ccf-4466-baf2-6dc384b43749"
      },
      "outputs": [
        {
          "data": {
            "text/plain": [
              "'DATA SCIENCE ACADEMY É A MELHOR MANEIRA DE ESTAR PREPARADO PARA O MERCADO DE TRABALHO EM CIÊNCIA DE DADOS!'"
            ]
          },
          "execution_count": 31,
          "metadata": {},
          "output_type": "execute_result"
        }
      ],
      "source": [
        "# Upper Case \n",
        "s.upper()"
      ]
    },
    {
      "cell_type": "code",
      "execution_count": null,
      "metadata": {
        "id": "7gK4mjKkHbOi",
        "outputId": "4950dfcc-8e39-4995-bb52-d2e8b78c4dd2"
      },
      "outputs": [
        {
          "data": {
            "text/plain": [
              "'data science academy é a melhor maneira de estar preparado para o mercado de trabalho em ciência de dados!'"
            ]
          },
          "execution_count": 32,
          "metadata": {},
          "output_type": "execute_result"
        }
      ],
      "source": [
        "# Lower case\n",
        "s.lower()"
      ]
    },
    {
      "cell_type": "code",
      "execution_count": null,
      "metadata": {
        "id": "91s_YCiAHbOj",
        "outputId": "5fd7ecb8-78fd-4ce8-df8d-91b7d84edf11"
      },
      "outputs": [
        {
          "data": {
            "text/plain": [
              "['Data',\n",
              " 'Science',\n",
              " 'Academy',\n",
              " 'é',\n",
              " 'a',\n",
              " 'melhor',\n",
              " 'maneira',\n",
              " 'de',\n",
              " 'estar',\n",
              " 'preparado',\n",
              " 'para',\n",
              " 'o',\n",
              " 'mercado',\n",
              " 'de',\n",
              " 'trabalho',\n",
              " 'em',\n",
              " 'Ciência',\n",
              " 'de',\n",
              " 'Dados!']"
            ]
          },
          "execution_count": 33,
          "metadata": {},
          "output_type": "execute_result"
        }
      ],
      "source": [
        "# Dividir uma string por espaços em branco (padrão)\n",
        "s.split()"
      ]
    },
    {
      "cell_type": "code",
      "execution_count": null,
      "metadata": {
        "id": "VLBJUwC-HbOj",
        "outputId": "4b6c8906-415a-4bad-f320-4c40fb28de4b"
      },
      "outputs": [
        {
          "data": {
            "text/plain": [
              "['Data Science Academ',\n",
              " ' é a melhor maneira de estar preparado para o mercado de trabalho em Ciência de Dados!']"
            ]
          },
          "execution_count": 34,
          "metadata": {},
          "output_type": "execute_result"
        }
      ],
      "source": [
        "# Dividir uma string por um elemento específico\n",
        "s.split('y')"
      ]
    },
    {
      "cell_type": "markdown",
      "metadata": {
        "id": "E7vdSsyMHbOj"
      },
      "source": [
        "### Funções String"
      ]
    },
    {
      "cell_type": "code",
      "execution_count": null,
      "metadata": {
        "id": "zhH5wf7FHbOk"
      },
      "outputs": [],
      "source": [
        "s = 'seja bem vindo ao universo de python'"
      ]
    },
    {
      "cell_type": "code",
      "execution_count": null,
      "metadata": {
        "id": "RvVNIpLSHbOl",
        "outputId": "4554af6a-20d2-4fc3-f7b0-c2ec3c8b6080"
      },
      "outputs": [
        {
          "data": {
            "text/plain": [
              "'Seja bem vindo ao universo de python'"
            ]
          },
          "execution_count": 36,
          "metadata": {},
          "output_type": "execute_result"
        }
      ],
      "source": [
        "s.capitalize()"
      ]
    },
    {
      "cell_type": "code",
      "execution_count": null,
      "metadata": {
        "id": "IeIbVLRqHbOl",
        "outputId": "b91fd85c-bb7b-4379-e46d-2efc861421ce"
      },
      "outputs": [
        {
          "data": {
            "text/plain": [
              "2"
            ]
          },
          "execution_count": 37,
          "metadata": {},
          "output_type": "execute_result"
        }
      ],
      "source": [
        "s.count('a')"
      ]
    },
    {
      "cell_type": "code",
      "execution_count": null,
      "metadata": {
        "id": "m7-DDkMmHbOm",
        "outputId": "213827ec-937b-4971-9aee-ffc8873a45b8"
      },
      "outputs": [
        {
          "data": {
            "text/plain": [
              "30"
            ]
          },
          "execution_count": 38,
          "metadata": {},
          "output_type": "execute_result"
        }
      ],
      "source": [
        "s.find('p')"
      ]
    },
    {
      "cell_type": "code",
      "execution_count": null,
      "metadata": {
        "id": "sHYzg2WjHbOn",
        "outputId": "9c7387c8-f49e-41e6-eac6-8de9a56b3d40"
      },
      "outputs": [
        {
          "data": {
            "text/plain": [
              "'seja bem vindo ao universo de python'"
            ]
          },
          "execution_count": 39,
          "metadata": {},
          "output_type": "execute_result"
        }
      ],
      "source": [
        "s.center(20, 'z')"
      ]
    },
    {
      "cell_type": "code",
      "execution_count": null,
      "metadata": {
        "id": "hUtqt2LiHbOn",
        "outputId": "beffd90b-fea0-42a9-d48e-b59ca9973b05"
      },
      "outputs": [
        {
          "data": {
            "text/plain": [
              "False"
            ]
          },
          "execution_count": 40,
          "metadata": {},
          "output_type": "execute_result"
        }
      ],
      "source": [
        "s.isalnum()"
      ]
    },
    {
      "cell_type": "code",
      "execution_count": null,
      "metadata": {
        "id": "OdL2eU3qHbOo",
        "outputId": "b8db66ec-c8ca-405f-9cf3-65a6d1d4e477"
      },
      "outputs": [
        {
          "data": {
            "text/plain": [
              "False"
            ]
          },
          "execution_count": 41,
          "metadata": {},
          "output_type": "execute_result"
        }
      ],
      "source": [
        "s.isalpha()"
      ]
    },
    {
      "cell_type": "code",
      "execution_count": null,
      "metadata": {
        "id": "ArVtC_QGHbOp",
        "outputId": "5148c180-1343-4657-cdfc-e271d01614b1"
      },
      "outputs": [
        {
          "data": {
            "text/plain": [
              "True"
            ]
          },
          "execution_count": 42,
          "metadata": {},
          "output_type": "execute_result"
        }
      ],
      "source": [
        "s.islower()"
      ]
    },
    {
      "cell_type": "code",
      "execution_count": null,
      "metadata": {
        "id": "ZzA1gBrZHbOp",
        "outputId": "9ef807d2-104b-4fe9-a641-8375373265d8"
      },
      "outputs": [
        {
          "data": {
            "text/plain": [
              "False"
            ]
          },
          "execution_count": 43,
          "metadata": {},
          "output_type": "execute_result"
        }
      ],
      "source": [
        "s.isspace()"
      ]
    },
    {
      "cell_type": "code",
      "execution_count": null,
      "metadata": {
        "id": "iUu44qfYHbOq",
        "outputId": "6c5d2a53-73ed-44a7-f900-220cf1dd07bc"
      },
      "outputs": [
        {
          "data": {
            "text/plain": [
              "False"
            ]
          },
          "execution_count": 44,
          "metadata": {},
          "output_type": "execute_result"
        }
      ],
      "source": [
        "s.endswith('o')"
      ]
    },
    {
      "cell_type": "code",
      "execution_count": null,
      "metadata": {
        "id": "oPh8xAFyHbOr",
        "outputId": "ebe4a742-7c4e-4653-b8fb-03ce840a4523"
      },
      "outputs": [
        {
          "data": {
            "text/plain": [
              "('seja bem vindo ao universo de python', '', '')"
            ]
          },
          "execution_count": 45,
          "metadata": {},
          "output_type": "execute_result"
        }
      ],
      "source": [
        "s.partition('!')"
      ]
    },
    {
      "cell_type": "markdown",
      "metadata": {
        "id": "xycCSsGJHbOs"
      },
      "source": [
        "### Comparando Strings"
      ]
    },
    {
      "cell_type": "code",
      "execution_count": null,
      "metadata": {
        "id": "iEz6b7ntHbOs",
        "outputId": "344acdc3-85c0-40dd-d9f7-cf1f286e5614"
      },
      "outputs": [
        {
          "name": "stdout",
          "output_type": "stream",
          "text": [
            "False\n"
          ]
        }
      ],
      "source": [
        "print(\"Python\" == \"R\")"
      ]
    },
    {
      "cell_type": "code",
      "execution_count": null,
      "metadata": {
        "id": "ca3TR7tbHbOt",
        "outputId": "cefb845b-47e8-49ea-8868-e31b87e72793"
      },
      "outputs": [
        {
          "name": "stdout",
          "output_type": "stream",
          "text": [
            "True\n"
          ]
        }
      ],
      "source": [
        "print(\"Python\" == \"Python\")"
      ]
    }
  ],
  "metadata": {
    "anaconda-cloud": {},
    "colab": {
      "include_colab_link": true,
      "name": "Notebook_3_strings.ipynb",
      "provenance": []
    },
    "kernelspec": {
      "display_name": "Python 3.10.4 64-bit",
      "language": "python",
      "name": "python3"
    },
    "language_info": {
      "codemirror_mode": {
        "name": "ipython",
        "version": 3
      },
      "file_extension": ".py",
      "mimetype": "text/x-python",
      "name": "python",
      "nbconvert_exporter": "python",
      "pygments_lexer": "ipython3",
      "version": "3.10.4"
    },
    "vscode": {
      "interpreter": {
        "hash": "3819316905faff6794c24d0fd15c65d372f1ac94dfb324f82621ca27113ea7ab"
      }
    }
  },
  "nbformat": 4,
  "nbformat_minor": 0
}
