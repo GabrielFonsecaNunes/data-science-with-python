{
  "cells": [
    {
      "cell_type": "markdown",
      "metadata": {
        "colab_type": "text",
        "id": "view-in-github"
      },
      "source": [
        "<a href=\"https://colab.research.google.com/github/GabrielFonsecaNunes/data-science-with-python/blob/master/primeiros_passos_python.ipynb\" target=\"_parent\"><img src=\"https://colab.research.google.com/assets/colab-badge.svg\" alt=\"Open In Colab\"/></a>"
      ]
    },
    {
      "cell_type": "markdown",
      "metadata": {
        "id": "eAoCCwy1iOBK"
      },
      "source": [
        "---\n",
        "### Tipado Dinamicamente\n",
        "\n",
        "Python é uma linguagem tipada dinalicamente, ou seja,  não é necessário declarar uma variável e definir o tipo de seu dado: o tipo de dado será associado em tempo de execução de acordo com o valor atribuído para aquela variável. \n",
        "\n",
        "### Tipos básicos  \n",
        "\n",
        "O Python possui algunas funçoes nativas, chamadas de \"built-ins\"que nos ajudam na manipulação de strings\n",
        "\n",
        "|Python | O que significa  | Exemplos  | \n",
        "|:---:|:---|:---|\n",
        "| bool     | Valores booleanos: Verdadeiro ou Falso | eh_maior = 22 > 10 <br> status = False\n",
        "| float     | Valores com ponto flutuante |  nota = 7.5 <br> preco = 30.55 \n",
        "| int| Valores inteiros: …, -2, -1, 0, 1, 2, 3, ... |  alunos_presentes = 20 <br> numero_de_slides = 50\n",
        "| str     | Textos: python considera texto tudo que estiver entre aspas (simples ou duplas)        | dia = \"sábado\" <br> assunto = 'python  básico' <br> semana = \"5\"\n",
        "| Lista   | Sequência de objetos separados por vírgula, e dentro de colchetes.  | devs = [\"ana\", \"amanda, \"andorinha\"] <br> idades = [23, 19, 38]\n",
        "\n",
        "Execute os comandos de exemplo para visualizar os resultados:"
      ]
    },
    {
      "cell_type": "code",
      "execution_count": 1,
      "metadata": {
        "colab": {
          "base_uri": "https://localhost:8080/"
        },
        "id": "-5UyZbWZneeJ",
        "outputId": "9ec8a4bc-3c98-48b1-9ec6-0349ec29209f"
      },
      "outputs": [
        {
          "data": {
            "text/plain": [
              "True"
            ]
          },
          "execution_count": 1,
          "metadata": {},
          "output_type": "execute_result"
        }
      ],
      "source": [
        "eh_maior = 22 > 10\n",
        "eh_maior\n"
      ]
    },
    {
      "cell_type": "code",
      "execution_count": 2,
      "metadata": {
        "colab": {
          "base_uri": "https://localhost:8080/"
        },
        "id": "-q1mDR50e0Vg",
        "outputId": "bc7237ea-cf4e-4906-813f-fb700b6d3412"
      },
      "outputs": [
        {
          "data": {
            "text/plain": [
              "False"
            ]
          },
          "execution_count": 2,
          "metadata": {},
          "output_type": "execute_result"
        }
      ],
      "source": [
        "Status = False\n",
        "Status"
      ]
    },
    {
      "cell_type": "markdown",
      "metadata": {
        "id": "PwrNWAoNqBGB"
      },
      "source": [
        "\n",
        "\n",
        "### Variáveis\n",
        "\n",
        "Em Python os nomes das variáveis podem ser compostos de letras maiúsculas, minúsculas, underscore e números, iniciando com letras ou underscore (_).\n",
        "\n",
        "\n",
        "### Tipagem das variáveis\n",
        "\n",
        "Há um comando para descobrir o tipo de uma variável: type().\n",
        "\n",
        "Exemplo:\n",
        "```\n",
        "nome = \"Alini\"\n",
        "valor = 10\n",
        "expressao = 1 + valor / 3\n",
        "\n",
        "print(nome)\n",
        "print(valor)\n",
        "print(expressao)\n",
        "\n",
        "print(type(nome))\n",
        "print(type(valor))\n",
        "print(type(expressao))\n",
        "``` \n",
        "Execute os comandos de exemplo para visualizar os resultados:\n",
        "\n"
      ]
    },
    {
      "cell_type": "code",
      "execution_count": null,
      "metadata": {
        "colab": {
          "base_uri": "https://localhost:8080/",
          "height": 119
        },
        "id": "QOq3K556Gzsj",
        "outputId": "55c49764-c168-4892-e4a8-c9ea781a2b4b"
      },
      "outputs": [
        {
          "name": "stdout",
          "output_type": "stream",
          "text": [
            "Alini\n",
            "10\n",
            "4.333333333333334\n",
            "<class 'str'>\n",
            "<class 'int'>\n",
            "<class 'float'>\n"
          ]
        }
      ],
      "source": []
    },
    {
      "cell_type": "markdown",
      "metadata": {
        "id": "J7L0SYIrseck"
      },
      "source": [
        "---\n",
        "\n",
        "### Exercícios Python [1]\n",
        "Você possui uma variável a = 10 e uma variável b = 5, e precisa trocar o valor das duas. Como você faria?\n"
      ]
    },
    {
      "cell_type": "code",
      "execution_count": null,
      "metadata": {
        "colab": {
          "base_uri": "https://localhost:8080/",
          "height": 34
        },
        "id": "B_sXZErjsonx",
        "outputId": "136b1e10-ea40-4c62-d142-68121119f6c8"
      },
      "outputs": [
        {
          "data": {
            "text/plain": [
              "(5, 10)"
            ]
          },
          "execution_count": 15,
          "metadata": {
            "tags": []
          },
          "output_type": "execute_result"
        }
      ],
      "source": [
        "a = 10\n",
        "b = 5\n",
        "a,b = b,a\n",
        "a,b"
      ]
    },
    {
      "cell_type": "markdown",
      "metadata": {
        "id": "z30WuoVE7fFE"
      },
      "source": [
        "---\n",
        "### Entradas e saídas\n",
        "\n",
        "Perceberam que no exercício anterior eu utilizei uma função chamada print, para apresentar a informação da variável na tela?\n",
        "Print é uma função de saída, e também possuímos uma função de entrada, chamada input.\n",
        "```\n",
        "Entrada: \n",
        "\tinput(“Texto opcional que será exibido para o usuário”)\n",
        "Saída:\n",
        "\tprint(f\"Textos a serem exibidos e {variaveis}\")\n",
        "```\n",
        "**Os textos devem ser colocados entre aspas.\n",
        "\n",
        "### Exercícios Python [2]\n",
        "Faça um programa que pergunte que dia é, e diga quantos faltam até o final do mês. Considere o mês com trinta e um dias.\n"
      ]
    },
    {
      "cell_type": "code",
      "execution_count": null,
      "metadata": {
        "colab": {
          "base_uri": "https://localhost:8080/",
          "height": 51
        },
        "id": "6g1aF_u87lc2",
        "outputId": "13f83a8e-5299-4e1d-8fd0-1023aa1b3d18"
      },
      "outputs": [
        {
          "name": "stdout",
          "output_type": "stream",
          "text": [
            "Dia 6\n",
            " Falta 25 dia\n"
          ]
        }
      ],
      "source": [
        "dia = 31 - int(input('Dia '))\n",
        "print (f' Falta {dia} dia')\n"
      ]
    },
    {
      "cell_type": "markdown",
      "metadata": {
        "id": "BhGYYkf680M0"
      },
      "source": [
        "--------------------------------------------------------------------------------\n",
        "### Exercícios Python [3]\n",
        "\n",
        "Faça um programa que receba o número de brindes do Maria vai com as Devs que  a Jéssica vai mandar fazer, e imprima quanto de entrada ela irá que pagar. Considere que cada brinde custa R$25,00, e a entrada para o fabricante é de 50% do valor total."
      ]
    },
    {
      "cell_type": "code",
      "execution_count": null,
      "metadata": {
        "colab": {
          "base_uri": "https://localhost:8080/",
          "height": 51
        },
        "id": "4r_YkULZ9fF6",
        "outputId": "3c36b604-7088-468c-f52c-767a442988c1"
      },
      "outputs": [
        {
          "name": "stdout",
          "output_type": "stream",
          "text": [
            "Digíte o número de brindes a serem confeccionados 34\n",
            "valor de entrada: 425.00\n"
          ]
        }
      ],
      "source": [
        "valor = 25\n",
        "quantidade = int(input(\"Digíte o número de brindes a serem confeccionados \"))\n",
        "valor_entrada = (valor * quantidade) / 2\n",
        "\n",
        "\n",
        "print(f'valor de entrada: {valor_entrada:.2f}')"
      ]
    },
    {
      "cell_type": "markdown",
      "metadata": {
        "id": "cQnKK8urA5El"
      },
      "source": [
        "---\n",
        "\n",
        "### Exercícios Python [4]\n",
        "A Serasa irá gerar um minicurso de aprendizagem financeira e está planejando um coffee break ás 15 horas.\n",
        "\n",
        "Leia o número de participantes do minicurso e imprima: \n",
        "* Quantos litros de refrigerante teremos que comprar\n",
        "* Quantas coxinhas e quanto iremos gastar.\n",
        "\n",
        "Considere que cada participante toma 400ml de refrigerante, come 10 coxinhas, que cada litro de refrigerante custa 4,00 e cada coxinha  custa  0,50. "
      ]
    },
    {
      "cell_type": "code",
      "execution_count": null,
      "metadata": {
        "colab": {
          "base_uri": "https://localhost:8080/",
          "height": 85
        },
        "id": "pZQdq96WBDfj",
        "outputId": "ab4e8bb5-3673-42a6-90f3-1cb030cbc9ae"
      },
      "outputs": [
        {
          "name": "stdout",
          "output_type": "stream",
          "text": [
            "Dígite o número de participantes do minicurso8000\n",
            "Serão necessários comprar 3200.0 litros de refrigerante\n",
            "Serão necessários comprar 80000 unidades de refrigerante\n",
            "Iremos gastar 52800.0\n"
          ]
        }
      ],
      "source": [
        "participantes = int(input(\"Dígite o número de participantes do minicurso\"))\n",
        "litro_refri = 0.4 * participantes\n",
        "preco_refri = litro_refri * 4\n",
        "\n",
        "coxinhas = 10 * participantes\n",
        "preco_coxinha = coxinhas * 0.50\n",
        "\n",
        "\n",
        "custo_total = preco_coxinha + preco_refri\n",
        "\n",
        "print(f\"Serão necessários comprar {litro_refri} litros de refrigerante\")\n",
        "\n",
        "print(f\"Serão necessários comprar {coxinhas} unidades de refrigerante\")\n",
        "\n",
        "print(f\"Iremos gastar {custo_total}\")"
      ]
    },
    {
      "cell_type": "markdown",
      "metadata": {
        "id": "HS-_7ddqNgOn"
      },
      "source": [
        "----\n",
        "### Dicas [Comentários]"
      ]
    },
    {
      "cell_type": "code",
      "execution_count": null,
      "metadata": {
        "colab": {
          "base_uri": "https://localhost:8080/",
          "height": 34
        },
        "id": "q_e7tFE2D-VL",
        "outputId": "90d4c32b-30ca-4815-dc09-8b4313b2ac8a"
      },
      "outputs": [
        {
          "name": "stdout",
          "output_type": "stream",
          "text": [
            "Exemplo de código que não vai ser ignorado pelo Python\n"
          ]
        }
      ],
      "source": [
        "print(\"Exemplo de código que não vai ser ignorado pelo Python\")\n",
        "#Comentário que o Python não vai processar ^-^"
      ]
    },
    {
      "cell_type": "markdown",
      "metadata": {
        "id": "CDFYRqmKQT7D"
      },
      "source": [
        "---\n",
        "### Dicas [Incremento e Decremento]\n",
        "\n",
        "No Python você pode incrementar ou decrementar um valor e salvar o resultado na mesma variável. "
      ]
    },
    {
      "cell_type": "code",
      "execution_count": null,
      "metadata": {
        "id": "j4vF7odGG8T7"
      },
      "outputs": [],
      "source": []
    },
    {
      "cell_type": "markdown",
      "metadata": {
        "id": "zbsjwxliNTuI"
      },
      "source": [
        "---\n",
        "### Dicas [Separando um texto com split()]\n",
        "\n",
        "Se você não determinar nenhum caractere de espaçamento para o split(), ele assumirá que é um espaço em branco.\n",
        "Como você dividirá sua entrada em duas, poderá armazená-la em duas variáveis diferentes! Se você não colocar variáveis suficientes, python criará uma lista*."
      ]
    },
    {
      "cell_type": "code",
      "execution_count": null,
      "metadata": {
        "colab": {
          "base_uri": "https://localhost:8080/",
          "height": 68
        },
        "id": "O7lKfRKvKOaQ",
        "outputId": "74dc1f2b-5f34-4643-c72a-bec49407f65e"
      },
      "outputs": [
        {
          "name": "stdout",
          "output_type": "stream",
          "text": [
            "12.0\n",
            "14.0\n",
            "22.0\n"
          ]
        }
      ],
      "source": [
        "pal1, pal2, pal3 = map(float, texto1.split())\n",
        "print(pal1)\n",
        "print(pal2)\n",
        "print(pal3)\n"
      ]
    },
    {
      "cell_type": "markdown",
      "metadata": {
        "id": "_P6HpGYtP_5y"
      },
      "source": [
        "---- \n",
        "#### Dicas [Separando um texto com split()]\n",
        "Na conversão de tipos de dados de entrada, para dividir a entrada em mais de uma variável e já transformar ela para o tipo desejado, utilizamos um comando auxiliar chamado map()\n"
      ]
    },
    {
      "cell_type": "code",
      "execution_count": null,
      "metadata": {
        "colab": {
          "base_uri": "https://localhost:8080/",
          "height": 102
        },
        "id": "M92fJzVTRUVf",
        "outputId": "224f6d64-0809-4797-9b6d-0e1f586e6cda"
      },
      "outputs": [
        {
          "name": "stdout",
          "output_type": "stream",
          "text": [
            "12 14 22\n",
            "12.0\n",
            "14.0\n",
            "22.0\n",
            "informe separado por virgulas quantas participantes por cor: 2,5,6\n"
          ]
        }
      ],
      "source": [
        "rosa, roxo, azul = map(int, input(\"informe separado por virgulas quantas participantes por cor: \").split(\",\"))"
      ]
    },
    {
      "cell_type": "markdown",
      "metadata": {
        "id": "1FHOm1QJUzrW"
      },
      "source": [
        "---\n",
        "### Exercícios Python [5]\n",
        "\n",
        "Para que a jéssica consiga enviar os brindes e não errar na preferência de cores de todas as participantes, ela precisa saber a quantidade de pessoas que preferem a cor rosa, roxo ou azul.\n",
        "Faça um programa que leia a quantidade de pessoas que preferem cada cor e retorne a porcentagem de cada uma destas cores."
      ]
    },
    {
      "cell_type": "code",
      "execution_count": null,
      "metadata": {
        "id": "ff9YwbCIVCR1"
      },
      "outputs": [],
      "source": [
        "rosa, roxo, azul = map(int, input(\"informe separado por virgulas quantas participantes por cor: \").split(\",\"))\n",
        "\n",
        "total = rosa + roxo + azul\n",
        "\n",
        "por_rosa = rosa / total * 100\n",
        "por_roxo = roxo / total * 100\n",
        "por_azul = azul / total * 100\n",
        "\n",
        "print(f'Porcentagem da cor Rosa: {por_rosa:.2f}% - Porcentagem da cor roxo: {por_roxo:.2f}% - Porcentagem da cor azul: {por_azul:.2f}%')\n"
      ]
    },
    {
      "cell_type": "markdown",
      "metadata": {
        "id": "3utXBlm-sWbH"
      },
      "source": [
        "---\n",
        "### Estruturas condicionais\n",
        "\n",
        "Uma Estrutura de Condição, como o próprio nome já diz, verifica a condição dos argumentos passados e, executa um comando caso a condição seja verdadeira.\n",
        "\n",
        "```\n",
        "SE condição\n",
        "ENTÃO comando\n",
        "```\n",
        "\n",
        "Sintaxe em python:\n",
        "```\n",
        "if condição:\n",
        "    código\n",
        "elif condição:\n",
        "    código\n",
        "else:\n",
        "    código\n",
        "```\n",
        "\n",
        "### Exercícios Python [6]\n",
        "\n",
        "Dez pessoas assinalaram que iriam participar do encontro do Maria vai com as Devs hoje. \n",
        "\n",
        "Faça um programa que leia o número de pessoas presentes e escreva “Sucesso!” se todas as pessoas compareceram, e “Alguém faltou :/” caso contrário.\n",
        "\n",
        "Se houverem mais de dez pessoas imprima “Temos um intruso entre nós :v”."
      ]
    },
    {
      "cell_type": "code",
      "execution_count": null,
      "metadata": {
        "colab": {
          "base_uri": "https://localhost:8080/",
          "height": 51
        },
        "id": "DO9r6mi1Hn5P",
        "outputId": "b8e60f65-fabc-4e61-9cb1-a0c7d0d7de83"
      },
      "outputs": [
        {
          "name": "stdout",
          "output_type": "stream",
          "text": [
            "Dígite o número de participantes do minicurso: 127\n",
            " Temos um intruso entre nós :v\n"
          ]
        }
      ],
      "source": [
        "participantes = int(input(\"Dígite o número de participantes do minicurso: \"))\n",
        "\n",
        "if participantes == 10:\n",
        "    print(f' Todas presente, Sucesso!:')\n",
        "elif participantes < 10:\n",
        "    print(f' Alguém faltou :/')\n",
        "else:\n",
        "    print(f' Temos um intruso entre nós :v')"
      ]
    },
    {
      "cell_type": "code",
      "execution_count": null,
      "metadata": {
        "id": "zirbCPrerl7y"
      },
      "outputs": [],
      "source": []
    },
    {
      "cell_type": "markdown",
      "metadata": {
        "id": "rCAns0Ox0XHN"
      },
      "source": [
        "---\n",
        "### Álgebra booleana em Python\n",
        "Para facilitar a estruturação das condições, podemos utilizar os operadores booleanos\n",
        "\n",
        "| Operador  | Python | Exemplo  | Descrição  |\n",
        "|---|:---|:---|:---|\n",
        "| E| and|P and Q |Se P e Q forem verdadeiros retorna True, se não retorna False \n",
        "|OU| or|P or Q|Se P ou Q forem verdadeiros retorna True, se não retorna False\n",
        "|Não  | not | not Q |Se Q é verdadeiro retorna False, se não retorna True\n"
      ]
    },
    {
      "cell_type": "code",
      "execution_count": null,
      "metadata": {
        "id": "P60FgvQ3HTaG"
      },
      "outputs": [],
      "source": []
    },
    {
      "cell_type": "code",
      "execution_count": null,
      "metadata": {
        "colab": {
          "base_uri": "https://localhost:8080/",
          "height": 68
        },
        "id": "f_7IXsHzul2o",
        "outputId": "c426738b-62f7-4897-859e-398045d6a9ad"
      },
      "outputs": [
        {
          "name": "stdout",
          "output_type": "stream",
          "text": [
            "Condicional not (not c): True\n",
            "Condicional or (a or b): True\n",
            "Condicional and (a and b): False\n"
          ]
        }
      ],
      "source": [
        "a = True\n",
        "b = False\n",
        "c = None \n",
        "\n",
        "# Retorna True, porque o c é None, ou seja, não á valor nenhum atribuído a ele\n",
        "print(f\"Condicional not (not c): {not c}\")\n",
        "\n",
        "#Retorna True, porque o a é verdadeiro. Para retornar True, uma das opções deve ser verdadeira\n",
        "print(f\"Condicional or (a or b): {a or b}\")\n",
        "\n",
        "#Retorna False, porque o a é verdadeiro e o b é False. Para retornar True, ambos devem ser verdadeiros\n",
        "print(f\"Condicional and (a and b): {a and b}\")"
      ]
    },
    {
      "cell_type": "markdown",
      "metadata": {
        "id": "dPgxj5P_QM6-"
      },
      "source": [
        "---\n",
        "### Exercícios Python [7]\n",
        "Receba duas notas, uma é de uma prova e outra é de um trabalho, por fim retorne:\n",
        "\n",
        "Se a nota da prova for maior ou igual a 5 e nota do trabalho maior que 6: “Aprovado”;\n",
        "Senão: “Reprovado”."
      ]
    },
    {
      "cell_type": "code",
      "execution_count": null,
      "metadata": {
        "colab": {
          "base_uri": "https://localhost:8080/",
          "height": 50
        },
        "id": "t7GuTZQJ0hN3",
        "outputId": "f71ab06a-bf53-4375-e004-a2b648678caa"
      },
      "outputs": [
        {
          "name": "stdout",
          "output_type": "stream",
          "text": [
            "informe a nota da prova e trabalho separado por ',' : 5,9\n",
            "Aprovado\n"
          ]
        }
      ],
      "source": [
        "prova, trabalho = map(int, input(\"informe a nota da prova e trabalho separado por ',' : \").split(\",\"))\n",
        "\n",
        "if prova >= 5 and trabalho >= 6:\n",
        "  print(\"Aprovado\")\n",
        "else:\n",
        "  print(\"Reprovado\")"
      ]
    },
    {
      "cell_type": "markdown",
      "metadata": {
        "id": "mCXGIpi54QhY"
      },
      "source": [
        "---\n",
        "### Exercícios Python [8]\n",
        "\n",
        "A Serasa anualmente promove a ida dos desenvolvedores para a Python Brasil, mas como temos um número limitado de ingressos disponíveis, pode ser necessário decidir quem irá.\n",
        "\n",
        "Como critério de desempate sobre os ingressos, quem nunca participou do evento terá prioridade.\n",
        "\n",
        "Receba o número de ingressos disponíveis, o número total de interessados e o número de interessados que já participaram do evento antes, diga se é possível distribuir os ingressos apenas com essas regras, ou se será necessário um sorteio.\n",
        "\n",
        "\n"
      ]
    },
    {
      "cell_type": "code",
      "execution_count": null,
      "metadata": {
        "colab": {
          "base_uri": "https://localhost:8080/",
          "height": 131
        },
        "id": "AduAMBIq5AJr",
        "outputId": "1d479026-d3b5-4dab-8887-001cd342af8b"
      },
      "outputs": [
        {
          "name": "stdout",
          "output_type": "stream",
          "text": [
            " Número de vagas disponíveis:\n",
            "10\n",
            " quantas pessoas irão participar:\n",
            "15\n",
            " quantas pessoas já foi no evento:\n",
            "8\n",
            "Irão para o evento pela primeira vez 2 pessoa(as) e precisará fazer o sorteio para 8 vaga(as)\n"
          ]
        }
      ],
      "source": [
        "vagas = int( input( print(\" Número de vagas disponíveis:\")))\n",
        "participar = int( input( print(\" quantas pessoas irão participar:\")))\n",
        "foi_eventos = int( input( print(\" quantas pessoas já foi no evento:\")))\n",
        "\n",
        "total_participantes = vagas - foi_eventos\n",
        "total_sorteio = vagas - total_participantes\n",
        "total_vagas_excedente = vagas - participar\n",
        "total = participar - foi_eventos\n",
        "\n",
        "if participar == vagas:\n",
        "    print(\"Todos irão\")\n",
        "elif foi_eventos > vagas or total_participantes <= 0 or total > vagas:\n",
        "    print(f'será necessário um sorteio')\n",
        "elif vagas == total:\n",
        "    print(f'Irão para o evento pela primeira vez {total} pessoa(as) fazendo {foi_eventos} pessoa(as) que já foi ao evento não participará.')\n",
        "elif participar > vagas and total_participantes > 0 < vagas:\n",
        "    print(f'Irão para o evento pela primeira vez {total_participantes} pessoa(as) e precisará fazer o sorteio para {total_sorteio} vaga(as)')\n",
        "elif vagas >= 0 < foi_eventos and total_vagas_excedente > 0 :\n",
        "    print(f'Todos irão e irá sobra vagas para {total_vagas_excedente} pessoa(as)')\n",
        "else:\n",
        "    print('número digitado fora do range')\n"
      ]
    },
    {
      "cell_type": "markdown",
      "metadata": {
        "id": "6W4nRnrK-iN_"
      },
      "source": [
        "---\n",
        "### Exercícios Python [9]\n",
        "\n",
        "Nos últimos anos o Brasil está com muita variação de temperatura, e uma coisa louca acontecendo é que você pode passar por várias estações do ano num mesmo dia!\n",
        "Para ajudar as pessoas a não pegar uma gripe ou uma insolação, você vai ler a temperatura e a umidade do ar da tabela a seguir,e criar um programa que classifica quais itens de sobrevivência são necessários para nossos dias de “verão”.\n",
        "\n",
        "| Temperatura às 8h - ºC  |  Umidade do ar - % | Itens de sobrevivência  |\n",
        "|---|---|---|\n",
        "| 10ºC < 15ºC  | 0 <= 40    | Blusa de frio e regata                |\n",
        "| 10ºC < 15ºC  | 40 <= 100 | Blusa de frio, regata e guarda-chuva  |\n",
        "| 15ºC < 20ºC  | 0 < 40    | Blusa de frio e regata                |\n",
        "| 15ºC < 20ºC  | 40 <= 100 | Blusa de frio, regata e guarda-chuva  |\n",
        "| 20ºC < 25ºC  | 0 < 40    | Regata                                |\n",
        "| 20ºC < 25ºC  | 40 <= 100 | Regata e guarda-chuva                 |\n"
      ]
    },
    {
      "cell_type": "code",
      "execution_count": null,
      "metadata": {
        "colab": {
          "base_uri": "https://localhost:8080/",
          "height": 68
        },
        "id": "dg_NLKdY-mJr",
        "outputId": "0248f519-491d-4b1f-b5b3-6c8a4906cf9c"
      },
      "outputs": [
        {
          "name": "stdout",
          "output_type": "stream",
          "text": [
            "Temperatura:20\n",
            "Umidade:40\n",
            "Regata\n"
          ]
        }
      ],
      "source": [
        "temperatura = int( input( print(\" Informe a temperatura\")))\n",
        "umidade = int( input( print(\" Informe a umidade do ar\")))\n",
        "if temperatura >=20 < 25 and umidade <40:\n",
        "    print(\"Regata\")\n",
        "elif temperatura >=10 < 15 and umidade >40 <=100:\n",
        "    print(\"Blusa de frio, regata e guarda-chuva\")\n",
        "elif temperatura >=15 < 20 and umidade <40:\n",
        "    print(\"Blusa de frio e regata\")\n",
        "elif temperatura >=15 < 20 and umidade >40 <=100:\n",
        "    print(\"Blusa de frio, regata e guarda-chuva\")\n",
        "elif temperatura >=10 < 15 and umidade <=40:\n",
        "    print(\"Blusa de frio e regata\")\n",
        "else:\n",
        "    print(\"Regata e guarda-chuva\")"
      ]
    },
    {
      "cell_type": "markdown",
      "metadata": {
        "id": "SzGfxrLeMY84"
      },
      "source": [
        "---\n",
        "###  Strings [Símbolos]\n",
        "\n",
        "O Python possui alguns símbolos que nos auxiliam na manipulação de strings:\n",
        "\n",
        "\n",
        "|Símbolo | Signficado  | Exemplo  | Resultado  | \n",
        "|:---:|:---|:---|:---:|\n",
        "| +      | Concatenação  |  'bolinho de ' + 'chuva '+ 'quero' | ?  |\n",
        "| -      | Repetição     |  'Maria vai com as devs '*4        | ?  |\n",
        "|[]      | Indexação     |  'chuva'[1]                        | ?  |\n",
        "|[:]     | Fatiamento    |  'chuva'[0:1]                      | ?  |\n",
        "|{}      | Substituição  |  'chuv{}'.format('inha')           | ?  |\n",
        "|in      | Verificação   |  'chuv' in 'chuvinha'              | ?  |\n",
        "|not in  | Verificação   |  'chuva' not in 'chuvinha'         | ?  |\n",
        "\n",
        "\n",
        "\n",
        "Execute os comandos de exemplo para visualizar os resultados:"
      ]
    },
    {
      "cell_type": "code",
      "execution_count": null,
      "metadata": {
        "colab": {
          "base_uri": "https://localhost:8080/",
          "height": 35
        },
        "id": "UP9aVk5QPDsD",
        "outputId": "010e96b7-4ac2-4c90-8df0-cc4e295229b8"
      },
      "outputs": [
        {
          "data": {
            "application/vnd.google.colaboratory.intrinsic+json": {
              "type": "string"
            },
            "text/plain": [
              "'chuvinha'"
            ]
          },
          "execution_count": 70,
          "metadata": {
            "tags": []
          },
          "output_type": "execute_result"
        }
      ],
      "source": [
        "'chuv{}'.format('inha')"
      ]
    },
    {
      "cell_type": "markdown",
      "metadata": {
        "id": "bY4eutVtSctJ"
      },
      "source": [
        "---\n",
        "\n",
        "### Strings [Funções]  \n",
        "\n",
        "O Python possui algunas funçoes nativas, chamadas de \"built-ins\"que nos ajudam na manipulação de strings\n",
        "\n",
        "|Função | Parâmetro  | Aplicação  | Resultado  | \n",
        "|:---:|:---|:---|:---:|\n",
        "| upper     | nenhum      |  \"bolinho de chuva\".upper()              | ?  |\n",
        "| lower     | nenhum      |  \"BOLINHO DE CHUVA\".lower()              | ?  |\n",
        "| capitalize| nenhum      |  \"bolinho de chuva\".capitalize()         | ?  |\n",
        "| count     | item        |  \"bolinho de chuva\".count(\"h\")           | ?  |\n",
        "| replace   | (old, new)  |  \"bolinho de chuva\".replace(\"a\", \"inha\") | ?  |\n",
        "| find      | item        |  \"bolinho de chuva\".find(\"chu\")          | ?  |\n",
        "| len       | item        |  len(\"bolinho de chuva\")                 | ?  |\n",
        "\n",
        "\n",
        "\n",
        "\n",
        "\n",
        "\n",
        "\n",
        "\n",
        "\n",
        "\n",
        "Execute os comandos de exemplo para visualizar os resultados:"
      ]
    },
    {
      "cell_type": "code",
      "execution_count": null,
      "metadata": {
        "colab": {
          "base_uri": "https://localhost:8080/",
          "height": 35
        },
        "id": "Sq6K0DVnT4lo",
        "outputId": "4c4947e2-6586-4fe3-84ed-8f00e28d31e3"
      },
      "outputs": [
        {
          "data": {
            "application/vnd.google.colaboratory.intrinsic+json": {
              "type": "string"
            },
            "text/plain": [
              "'Bolinho de chuva'"
            ]
          },
          "execution_count": 21,
          "metadata": {
            "tags": []
          },
          "output_type": "execute_result"
        }
      ],
      "source": [
        "\"bolinho de chuva\".capitalize()"
      ]
    },
    {
      "cell_type": "markdown",
      "metadata": {
        "id": "HU6nB81LWHub"
      },
      "source": [
        "---\n",
        "### Exercícios Python [10]\n",
        "\n",
        "Você é o responsável por gerar os certificados dos da trilha financeira da serasa, porém, sabemos que eventualmente os participantes não cooperam e escrevem seus nomes sem seguir a norma padrão, apenas com a primeira letra maiúscula. Para evitar certificados despadronizados, você resolveu escrever um programa em Python para normalizar os nomes para você!\n",
        "\n",
        "O programa recebe um nome e padroniza o nome para você:\n",
        "\n"
      ]
    },
    {
      "cell_type": "code",
      "execution_count": null,
      "metadata": {
        "colab": {
          "base_uri": "https://localhost:8080/",
          "height": 51
        },
        "id": "3yWKzpxOWNEz",
        "outputId": "618dee85-36ed-42af-b0c0-4d96d9647f8a"
      },
      "outputs": [
        {
          "name": "stdout",
          "output_type": "stream",
          "text": [
            "Primeiro nome do Participante: DaVIny\n"
          ]
        },
        {
          "data": {
            "application/vnd.google.colaboratory.intrinsic+json": {
              "type": "string"
            },
            "text/plain": [
              "'Daviny'"
            ]
          },
          "execution_count": 27,
          "metadata": {
            "tags": []
          },
          "output_type": "execute_result"
        }
      ],
      "source": [
        "participante = input(\"Primeiro nome do Participante: \")\n",
        "participante.capitalize()"
      ]
    },
    {
      "cell_type": "markdown",
      "metadata": {
        "id": "bY5WBo5pXEfi"
      },
      "source": [
        "---\n",
        "### Estruturas de repetição\n",
        "\n",
        "As estruturas padrões para repetição em Python são:\n",
        " ```\n",
        " while (condição):\n",
        "    # código\n",
        " ``` \n",
        "\n",
        " ```\n",
        " for item in iterável:\n",
        "  # código\n",
        "```  \n",
        "\n",
        "### Exercício Python[11]\n",
        "\n",
        "Leia números enquanto a soma dos números lidos seja menor que 20.\n",
        "\n"
      ]
    },
    {
      "cell_type": "code",
      "execution_count": null,
      "metadata": {
        "colab": {
          "base_uri": "https://localhost:8080/",
          "height": 180
        },
        "id": "VvdQ_05Nwttx",
        "outputId": "830ebb19-abe5-4814-db02-3f4f6c1f48cb"
      },
      "outputs": [
        {
          "name": "stdout",
          "output_type": "stream",
          "text": [
            "1\n",
            "2\n",
            "0\n",
            "1\n",
            "2\n",
            "1\n",
            "3\n",
            "5\n",
            "7\n",
            "9\n"
          ]
        }
      ],
      "source": [
        "for x in range(1, 3):\n",
        "    print(x)\n",
        "\n",
        "# Até qual posição eu quero ir\n",
        "for x in range(3):\n",
        "    print(x)\n",
        "\n",
        "# Fala que quero começar do 1 e ir até a posição 10, incrementando de 2 em 2.\n",
        "for x in range(1, 10, 2):\n",
        "    print(x)"
      ]
    },
    {
      "cell_type": "code",
      "execution_count": null,
      "metadata": {
        "colab": {
          "base_uri": "https://localhost:8080/",
          "height": 102
        },
        "id": "ajde_SZmY79z",
        "outputId": "76d845d0-d987-4a5a-b61c-60210f017453"
      },
      "outputs": [
        {
          "name": "stdout",
          "output_type": "stream",
          "text": [
            "Digíte o próximo número:3\n",
            "Digíte o próximo número:5\n",
            "Digíte o próximo número:3\n",
            "Digíte o próximo número:12\n",
            "23\n"
          ]
        }
      ],
      "source": [
        "\n"
      ]
    },
    {
      "cell_type": "markdown",
      "metadata": {
        "id": "c-aftXfOgEXT"
      },
      "source": [
        "---\n",
        "### Exercicio Pyhton [12]\n",
        "Possuímos uma lista de cinco desenvolvedoras que participam do programa Maria vai com as devs. Elas se chamam: Andorinha, Azaléia, Amélia, Margarida e Rosa.\n",
        "\n",
        "Construa um programa que descubra quantas delas possuem o nome começando com a letra “A”.\n",
        "\n"
      ]
    },
    {
      "cell_type": "code",
      "execution_count": null,
      "metadata": {
        "colab": {
          "base_uri": "https://localhost:8080/",
          "height": 34
        },
        "id": "bFF8uV4LgSdj",
        "outputId": "c0656b42-aacb-48a8-bcba-8197a9a95e22"
      },
      "outputs": [
        {
          "name": "stdout",
          "output_type": "stream",
          "text": [
            "Foram encontradas 3 desenvolvedoras que começam com a letra A\n"
          ]
        }
      ],
      "source": []
    }
  ],
  "metadata": {
    "colab": {
      "collapsed_sections": [
        "eAoCCwy1iOBK",
        "PwrNWAoNqBGB",
        "SzGfxrLeMY84"
      ],
      "include_colab_link": true,
      "name": "primeiros_passos_python.ipynb",
      "provenance": []
    },
    "kernelspec": {
      "display_name": "Python 3.10.4 64-bit",
      "language": "python",
      "name": "python3"
    },
    "language_info": {
      "name": "python",
      "version": "3.10.4"
    },
    "vscode": {
      "interpreter": {
        "hash": "3819316905faff6794c24d0fd15c65d372f1ac94dfb324f82621ca27113ea7ab"
      }
    }
  },
  "nbformat": 4,
  "nbformat_minor": 0
}
