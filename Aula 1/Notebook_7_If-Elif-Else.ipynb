{
  "cells": [
    {
      "cell_type": "markdown",
      "metadata": {
        "id": "view-in-github",
        "colab_type": "text"
      },
      "source": [
        "<a href=\"https://colab.research.google.com/github/GabrielFonsecaNunes/data-science-with-python/blob/master/Aula%201/Notebook_7_If-Elif-Else.ipynb\" target=\"_parent\"><img src=\"https://colab.research.google.com/assets/colab-badge.svg\" alt=\"Open In Colab\"/></a>"
      ]
    },
    {
      "cell_type": "markdown",
      "metadata": {
        "id": "b7ydVQoiKul8"
      },
      "source": [
        "# <font color='orange'> AULA 1 - Python Fundamentos - Estruturas de Decisão (If, Elif, Else)  </font>"
      ]
    },
    {
      "cell_type": "code",
      "execution_count": null,
      "metadata": {
        "id": "yCcLrMNgKumA",
        "outputId": "ef871855-6057-4bf3-dacd-30bd9cbf7f51"
      },
      "outputs": [
        {
          "name": "stdout",
          "output_type": "stream",
          "text": [
            "Versão da Linguagem Python Usada Neste Jupyter Notebook: 3.8.8\n"
          ]
        }
      ],
      "source": [
        "# Versão da Linguagem Python\n",
        "from platform import python_version\n",
        "print('Versão da Linguagem Python Usada Neste Jupyter Notebook:', python_version())"
      ]
    },
    {
      "cell_type": "markdown",
      "metadata": {
        "id": "r5F0nG6IKumD"
      },
      "source": [
        "### Condicional If"
      ]
    },
    {
      "cell_type": "code",
      "execution_count": null,
      "metadata": {
        "id": "l0uLX7fHKumF",
        "outputId": "a898aff0-30ed-4d9a-d7ee-db574b8a82c4"
      },
      "outputs": [
        {
          "name": "stdout",
          "output_type": "stream",
          "text": [
            "Python funciona!\n"
          ]
        }
      ],
      "source": [
        "# Condicional If\n",
        "if 5 > 2:\n",
        "    print(\"Python funciona!\")"
      ]
    },
    {
      "cell_type": "code",
      "execution_count": null,
      "metadata": {
        "id": "vLvK3DDTKumH",
        "outputId": "ff6edda8-3371-4e20-db94-e34d585ce81e"
      },
      "outputs": [
        {
          "name": "stdout",
          "output_type": "stream",
          "text": [
            "Algo está errado!\n"
          ]
        }
      ],
      "source": [
        "# Statement If...Else\n",
        "if 5 < 2:\n",
        "    print(\"Python funciona!\")\n",
        "else:\n",
        "    print(\"Algo está errado!\")"
      ]
    },
    {
      "cell_type": "code",
      "execution_count": null,
      "metadata": {
        "id": "O1ta4BvuKumJ",
        "outputId": "e62a7b50-a8e4-4f5f-c2e9-02a1b7026cc6"
      },
      "outputs": [
        {
          "data": {
            "text/plain": [
              "True"
            ]
          },
          "execution_count": 4,
          "metadata": {},
          "output_type": "execute_result"
        }
      ],
      "source": [
        "6 > 3"
      ]
    },
    {
      "cell_type": "code",
      "execution_count": null,
      "metadata": {
        "id": "7nfp_C6wKumM",
        "outputId": "898ed27a-3cc7-47b4-ef52-168c1a4ad230"
      },
      "outputs": [
        {
          "data": {
            "text/plain": [
              "False"
            ]
          },
          "execution_count": 5,
          "metadata": {},
          "output_type": "execute_result"
        }
      ],
      "source": [
        "3 > 7"
      ]
    },
    {
      "cell_type": "code",
      "execution_count": null,
      "metadata": {
        "id": "jC4W9MaYKumO",
        "outputId": "0f06bc74-b61b-41d4-eae6-c044050fa502"
      },
      "outputs": [
        {
          "data": {
            "text/plain": [
              "True"
            ]
          },
          "execution_count": 6,
          "metadata": {},
          "output_type": "execute_result"
        }
      ],
      "source": [
        "4 < 8"
      ]
    },
    {
      "cell_type": "code",
      "execution_count": null,
      "metadata": {
        "id": "CRmG9E6fKumQ",
        "outputId": "8eeb61d5-352a-4ab9-8ae3-b5170fcc1e75"
      },
      "outputs": [
        {
          "data": {
            "text/plain": [
              "True"
            ]
          },
          "execution_count": 7,
          "metadata": {},
          "output_type": "execute_result"
        }
      ],
      "source": [
        "4 >= 4"
      ]
    },
    {
      "cell_type": "code",
      "execution_count": null,
      "metadata": {
        "id": "rvpTsXqnKumT",
        "outputId": "b87d15fb-7731-41e4-ac83-19b214b47fae"
      },
      "outputs": [
        {
          "name": "stdout",
          "output_type": "stream",
          "text": [
            "Testando Python!\n"
          ]
        }
      ],
      "source": [
        "if 5 == 5:\n",
        "    print(\"Testando Python!\")"
      ]
    },
    {
      "cell_type": "code",
      "execution_count": null,
      "metadata": {
        "id": "OSa6UxrlKumU",
        "outputId": "26e2bde6-f9fc-4d5a-cccd-20717a0e1e75"
      },
      "outputs": [
        {
          "name": "stdout",
          "output_type": "stream",
          "text": [
            "Parece que Python funciona!\n"
          ]
        }
      ],
      "source": [
        "if True:\n",
        "    print('Parece que Python funciona!')"
      ]
    },
    {
      "cell_type": "code",
      "execution_count": null,
      "metadata": {
        "id": "nslp8_LGKumV",
        "outputId": "6c4c811b-636b-4097-98b4-d880144cc4f9"
      },
      "outputs": [
        {
          "ename": "SyntaxError",
          "evalue": "invalid syntax (<ipython-input-10-8ee0e161c41f>, line 2)",
          "output_type": "error",
          "traceback": [
            "\u001b[0;36m  File \u001b[0;32m\"<ipython-input-10-8ee0e161c41f>\"\u001b[0;36m, line \u001b[0;32m2\u001b[0m\n\u001b[0;31m    if 4 > 3\u001b[0m\n\u001b[0m            ^\u001b[0m\n\u001b[0;31mSyntaxError\u001b[0m\u001b[0;31m:\u001b[0m invalid syntax\n"
          ]
        }
      ],
      "source": [
        "# Atenção com a sintaxe\n",
        "if 4 > 3\n",
        "    print(\"Tudo funciona!\")"
      ]
    },
    {
      "cell_type": "code",
      "execution_count": null,
      "metadata": {
        "id": "oJjOOTNhKumX",
        "outputId": "16fe61b1-6302-4a25-9fbc-a03643751d58"
      },
      "outputs": [
        {
          "ename": "IndentationError",
          "evalue": "expected an indented block (<ipython-input-11-f919ae27c9f2>, line 3)",
          "output_type": "error",
          "traceback": [
            "\u001b[0;36m  File \u001b[0;32m\"<ipython-input-11-f919ae27c9f2>\"\u001b[0;36m, line \u001b[0;32m3\u001b[0m\n\u001b[0;31m    print(\"Tudo funciona!\")\u001b[0m\n\u001b[0m    ^\u001b[0m\n\u001b[0;31mIndentationError\u001b[0m\u001b[0;31m:\u001b[0m expected an indented block\n"
          ]
        }
      ],
      "source": [
        "# Atenção com a sintaxe\n",
        "if 4 > 3:\n",
        "print(\"Tudo funciona!\")"
      ]
    },
    {
      "cell_type": "markdown",
      "metadata": {
        "id": "NIvh9UdXKumY"
      },
      "source": [
        "### Condicionais Aninhados"
      ]
    },
    {
      "cell_type": "code",
      "execution_count": null,
      "metadata": {
        "id": "HOhEgvqhKumZ",
        "outputId": "b2eac1c1-d10b-4f7d-c9cc-e23b8dc31e1a"
      },
      "outputs": [
        {
          "name": "stdout",
          "output_type": "stream",
          "text": [
            "Você pode dirigir!\n"
          ]
        }
      ],
      "source": [
        "idade = 18\n",
        "if idade > 17:\n",
        "    print(\"Você pode dirigir!\")"
      ]
    },
    {
      "cell_type": "code",
      "execution_count": null,
      "metadata": {
        "id": "W8lF27ekKuma",
        "outputId": "913df430-8cdc-49b3-ba8c-fff71f8496e4"
      },
      "outputs": [
        {
          "name": "stdout",
          "output_type": "stream",
          "text": [
            "Ok Bob, você está autorizado a entrar!\n"
          ]
        }
      ],
      "source": [
        "Nome = \"Bob\"\n",
        "if idade > 13:\n",
        "    if Nome == \"Bob\":\n",
        "        print(\"Ok Bob, você está autorizado a entrar!\")\n",
        "    else:\n",
        "        print(\"Desculpe, mas você não pode entrar!\")"
      ]
    },
    {
      "cell_type": "code",
      "execution_count": null,
      "metadata": {
        "id": "IafEbjl-Kuma",
        "outputId": "bb7ded02-d396-4f99-bfac-8d2323ddaf43"
      },
      "outputs": [
        {
          "name": "stdout",
          "output_type": "stream",
          "text": [
            "Ok Bob, você está autorizado a entrar!\n"
          ]
        }
      ],
      "source": [
        "idade = 13\n",
        "Nome = \"Bob\"\n",
        "if idade >= 13 and Nome == \"Bob\":\n",
        "    print(\"Ok Bob, você está autorizado a entrar!\")"
      ]
    },
    {
      "cell_type": "code",
      "execution_count": null,
      "metadata": {
        "id": "O8114eCXKumc",
        "outputId": "35c19151-9153-4731-ea1c-a1f6a47b767b"
      },
      "outputs": [
        {
          "name": "stdout",
          "output_type": "stream",
          "text": [
            "Ok Bob, você está autorizado a entrar!\n"
          ]
        }
      ],
      "source": [
        "idade = 12\n",
        "Nome = \"Bob\"\n",
        "if (idade >= 13) or (Nome == \"Bob\"):\n",
        "    print(\"Ok Bob, você está autorizado a entrar!\")"
      ]
    },
    {
      "cell_type": "markdown",
      "metadata": {
        "id": "WHcRZSWqKumc"
      },
      "source": [
        "### Elif"
      ]
    },
    {
      "cell_type": "code",
      "execution_count": null,
      "metadata": {
        "id": "LBCyKTBSKumd",
        "outputId": "f8daa4df-28d5-4ee5-d1a9-fcf85aafc115"
      },
      "outputs": [
        {
          "name": "stdout",
          "output_type": "stream",
          "text": [
            "Hoje vai chover!\n"
          ]
        }
      ],
      "source": [
        "dia = \"Terça\"\n",
        "if dia == \"Segunda\":\n",
        "    print(\"Hoje fará sol!\")\n",
        "else:\n",
        "    print(\"Hoje vai chover!\")"
      ]
    },
    {
      "cell_type": "code",
      "execution_count": null,
      "metadata": {
        "id": "f4WsVEOdKume",
        "outputId": "13678d01-c623-4509-927b-5db46c155e0c"
      },
      "outputs": [
        {
          "name": "stdout",
          "output_type": "stream",
          "text": [
            "Hoje vai chover!\n"
          ]
        }
      ],
      "source": [
        "if dia == \"Segunda\":\n",
        "    print(\"Hoje fará sol!\")\n",
        "elif dia == \"Terça\":\n",
        "    print(\"Hoje vai chover!\")\n",
        "else:\n",
        "    print(\"Sem previsão do tempo para o dia selecionado\")"
      ]
    },
    {
      "cell_type": "markdown",
      "metadata": {
        "id": "7guTnCPIKumf"
      },
      "source": [
        "### Operadores Lógicos"
      ]
    },
    {
      "cell_type": "code",
      "execution_count": null,
      "metadata": {
        "id": "_yKEEyi1Kumf",
        "outputId": "3afd080d-93d0-42b4-b564-efa4cd3017a0"
      },
      "outputs": [
        {
          "name": "stdout",
          "output_type": "stream",
          "text": [
            "Você pode dirigir!\n"
          ]
        }
      ],
      "source": [
        "idade = 18\n",
        "nome = \"Bob\"\n",
        "if idade > 17:\n",
        "    print(\"Você pode dirigir!\")"
      ]
    },
    {
      "cell_type": "code",
      "execution_count": null,
      "metadata": {
        "id": "pM0wPGK-Kumg",
        "outputId": "e0ed55b1-28df-48ea-f1c0-4b5b61cdfa80"
      },
      "outputs": [
        {
          "name": "stdout",
          "output_type": "stream",
          "text": [
            "Autorizado!\n"
          ]
        }
      ],
      "source": [
        "idade = 18\n",
        "if idade > 17 and nome == \"Bob\":\n",
        "    print(\"Autorizado!\")"
      ]
    },
    {
      "cell_type": "code",
      "execution_count": null,
      "metadata": {
        "id": "QdFxyumjKumh",
        "outputId": "40583434-8b03-4a0f-a1a1-9cced1fa104f"
      },
      "outputs": [
        {
          "name": "stdout",
          "output_type": "stream",
          "text": [
            "Digite o nome da disciplina: Geografia\n",
            "Digite a nota final (entre 0 e 100): 70\n",
            "Você foi aprovado!\n"
          ]
        }
      ],
      "source": [
        "# Usando mais de uma condição na cláusula if \n",
        "\n",
        "disciplina = input('Digite o nome da disciplina: ')\n",
        "nota_final = input('Digite a nota final (entre 0 e 100): ')\n",
        "\n",
        "if disciplina == 'Geografia' and nota_final >= '70':\n",
        "    print('Você foi aprovado!')\n",
        "else:\n",
        "    print('Lamento, acho que você precisa estudar mais!')"
      ]
    },
    {
      "cell_type": "code",
      "execution_count": null,
      "metadata": {
        "id": "05qcfDL3Kumj",
        "outputId": "445ae04c-8bab-4abd-8672-12b99590b82d"
      },
      "outputs": [
        {
          "name": "stdout",
          "output_type": "stream",
          "text": [
            "Digite o nome da disciplina: Matemática\n",
            "Digite a nota final (entre 0 e 100): 40\n",
            "Digite o semestre (1 a 4): 2\n",
            "Lamento, acho que você precisa estudar mais!\n"
          ]
        }
      ],
      "source": [
        "# Usando mais de uma condição na cláusula if e introduzindo Placeholders\n",
        "\n",
        "disciplina = input('Digite o nome da disciplina: ')\n",
        "nota_final = input('Digite a nota final (entre 0 e 100): ')\n",
        "semestre = input('Digite o semestre (1 a 4): ')\n",
        "\n",
        "if disciplina == 'Geografia' and nota_final >= '50' and int(semestre) != 1:\n",
        "    print('Você foi aprovado em %s com média final %r!' %(disciplina, nota_final))\n",
        "else:\n",
        "    print('Lamento, acho que você precisa estudar mais!')"
      ]
    },
    {
      "cell_type": "markdown",
      "metadata": {
        "id": "TY7P-A5BKumk"
      },
      "source": [
        "### --> Fique atento aos espaços entre a margem e cada um dos seus comandos. Falaremos mais sobre indentação ao longo do curso. A indentação faz parte da sintaxe da linguagem Python."
      ]
    }
  ],
  "metadata": {
    "kernelspec": {
      "display_name": "Python 3",
      "language": "python",
      "name": "python3"
    },
    "language_info": {
      "codemirror_mode": {
        "name": "ipython",
        "version": 3
      },
      "file_extension": ".py",
      "mimetype": "text/x-python",
      "name": "python",
      "nbconvert_exporter": "python",
      "pygments_lexer": "ipython3",
      "version": "3.8.8"
    },
    "colab": {
      "name": "Notebook_7_If-Elif-Else.ipynb",
      "provenance": [],
      "include_colab_link": true
    }
  },
  "nbformat": 4,
  "nbformat_minor": 0
}