{
  "cells": [
    {
      "cell_type": "markdown",
      "metadata": {
        "id": "view-in-github",
        "colab_type": "text"
      },
      "source": [
        "<a href=\"https://colab.research.google.com/github/GabrielFonsecaNunes/data-science-with-python/blob/master/Aula%201/Notebook_5_dicionarios.ipynb\" target=\"_parent\"><img src=\"https://colab.research.google.com/assets/colab-badge.svg\" alt=\"Open In Colab\"/></a>"
      ]
    },
    {
      "cell_type": "markdown",
      "metadata": {
        "id": "L9vrt0iPH7GW"
      },
      "source": [
        "# <font color='orange'> AULA 1 - Python Fundamentos - Dicionários </font>"
      ]
    },
    {
      "cell_type": "code",
      "execution_count": null,
      "metadata": {
        "id": "Atm26_DmH7GY",
        "outputId": "78273e38-ea4d-4581-cb65-a7c048281d7f"
      },
      "outputs": [
        {
          "name": "stdout",
          "output_type": "stream",
          "text": [
            "Versão da Linguagem Python Usada Neste Jupyter Notebook: 3.8.8\n"
          ]
        }
      ],
      "source": [
        "# Versão da Linguagem Python\n",
        "from platform import python_version\n",
        "print('Versão da Linguagem Python Usada Neste Jupyter Notebook:', python_version())"
      ]
    },
    {
      "cell_type": "markdown",
      "metadata": {
        "id": "mJYnogKYH7Gb"
      },
      "source": [
        "## Dicionários"
      ]
    },
    {
      "cell_type": "code",
      "execution_count": null,
      "metadata": {
        "id": "ouAfsfR2H7Gd"
      },
      "outputs": [],
      "source": [
        "# Isso é uma lista\n",
        "estudantes_lst = [\"Mateus\", 24, \"Fernanda\", 22, \"Tamires\", 26, \"Cristiano\", 25]   "
      ]
    },
    {
      "cell_type": "code",
      "execution_count": null,
      "metadata": {
        "id": "22eyfo_4H7Ge",
        "outputId": "86f39b1f-427c-4743-82d4-ed0e92121b56"
      },
      "outputs": [
        {
          "data": {
            "text/plain": [
              "['Mateus', 24, 'Fernanda', 22, 'Tamires', 26, 'Cristiano', 25]"
            ]
          },
          "execution_count": 3,
          "metadata": {},
          "output_type": "execute_result"
        }
      ],
      "source": [
        "estudantes_lst"
      ]
    },
    {
      "cell_type": "code",
      "execution_count": null,
      "metadata": {
        "id": "dfM3OTxHH7Gf"
      },
      "outputs": [],
      "source": [
        "# Isso é um dicionário\n",
        "estudantes_dict = {\"Mateus\":24, \"Fernanda\":22, \"Tamires\":26, \"Cristiano\":25}"
      ]
    },
    {
      "cell_type": "code",
      "execution_count": null,
      "metadata": {
        "id": "ai4wkoBLH7Gg",
        "outputId": "9bf49b42-c4a3-46ab-823f-fdaf9a794a95"
      },
      "outputs": [
        {
          "data": {
            "text/plain": [
              "{'Mateus': 24, 'Fernanda': 22, 'Tamires': 26, 'Cristiano': 25}"
            ]
          },
          "execution_count": 5,
          "metadata": {},
          "output_type": "execute_result"
        }
      ],
      "source": [
        "estudantes_dict "
      ]
    },
    {
      "cell_type": "code",
      "execution_count": null,
      "metadata": {
        "id": "WKZLIhPHH7Gi",
        "outputId": "be11ef40-060f-4a8b-91d5-fe9f3995a0ba"
      },
      "outputs": [
        {
          "data": {
            "text/plain": [
              "24"
            ]
          },
          "execution_count": 6,
          "metadata": {},
          "output_type": "execute_result"
        }
      ],
      "source": [
        "estudantes_dict[\"Mateus\"]"
      ]
    },
    {
      "cell_type": "code",
      "execution_count": null,
      "metadata": {
        "id": "6laESiH1H7Gm"
      },
      "outputs": [],
      "source": [
        "estudantes_dict[\"Pedro\"] = 23"
      ]
    },
    {
      "cell_type": "code",
      "execution_count": null,
      "metadata": {
        "id": "lBMYHMCeH7Gn",
        "outputId": "effd8074-ec11-4bb8-cdbb-4f62302adc47"
      },
      "outputs": [
        {
          "data": {
            "text/plain": [
              "23"
            ]
          },
          "execution_count": 8,
          "metadata": {},
          "output_type": "execute_result"
        }
      ],
      "source": [
        "estudantes_dict[\"Pedro\"]"
      ]
    },
    {
      "cell_type": "code",
      "execution_count": null,
      "metadata": {
        "id": "Aqxs1btPH7Go",
        "outputId": "b1f5a167-76c1-4914-e49e-5bb33c31086b"
      },
      "outputs": [
        {
          "data": {
            "text/plain": [
              "26"
            ]
          },
          "execution_count": 9,
          "metadata": {},
          "output_type": "execute_result"
        }
      ],
      "source": [
        "estudantes_dict[\"Tamires\"]"
      ]
    },
    {
      "cell_type": "code",
      "execution_count": null,
      "metadata": {
        "id": "NY63P83FH7Gp"
      },
      "outputs": [],
      "source": [
        "estudantes_dict.clear()"
      ]
    },
    {
      "cell_type": "code",
      "execution_count": null,
      "metadata": {
        "id": "JEKwejy4H7Gp",
        "outputId": "1476e938-c671-48bd-9aa3-daacd4f9892a"
      },
      "outputs": [
        {
          "data": {
            "text/plain": [
              "{}"
            ]
          },
          "execution_count": 11,
          "metadata": {},
          "output_type": "execute_result"
        }
      ],
      "source": [
        "estudantes_dict"
      ]
    },
    {
      "cell_type": "code",
      "execution_count": null,
      "metadata": {
        "id": "c_ePtJqLH7Gr"
      },
      "outputs": [],
      "source": [
        "del estudantes_dict"
      ]
    },
    {
      "cell_type": "code",
      "execution_count": null,
      "metadata": {
        "id": "S9MZzknDH7Gs",
        "outputId": "38b29676-b365-4669-84a7-f39455c1e06b"
      },
      "outputs": [
        {
          "ename": "NameError",
          "evalue": "name 'estudantes_dict' is not defined",
          "output_type": "error",
          "traceback": [
            "\u001b[0;31m---------------------------------------------------------------------------\u001b[0m",
            "\u001b[0;31mNameError\u001b[0m                                 Traceback (most recent call last)",
            "\u001b[0;32m<ipython-input-13-29b87ec1321c>\u001b[0m in \u001b[0;36m<module>\u001b[0;34m\u001b[0m\n\u001b[0;32m----> 1\u001b[0;31m \u001b[0mestudantes_dict\u001b[0m\u001b[0;34m\u001b[0m\u001b[0;34m\u001b[0m\u001b[0m\n\u001b[0m",
            "\u001b[0;31mNameError\u001b[0m: name 'estudantes_dict' is not defined"
          ]
        }
      ],
      "source": [
        "estudantes_dict"
      ]
    },
    {
      "cell_type": "code",
      "execution_count": null,
      "metadata": {
        "id": "hfAUAL95H7Gs"
      },
      "outputs": [],
      "source": [
        "estudantes = {\"Mateus\":24, \"Fernanda\":22, \"Tamires\":26, \"Cristiano\":25}"
      ]
    },
    {
      "cell_type": "code",
      "execution_count": null,
      "metadata": {
        "id": "Nga6YthOH7Gt",
        "outputId": "c91ef1fa-237b-42b3-8faf-c89a12a94d66"
      },
      "outputs": [
        {
          "data": {
            "text/plain": [
              "{'Mateus': 24, 'Fernanda': 22, 'Tamires': 26, 'Cristiano': 25}"
            ]
          },
          "execution_count": 15,
          "metadata": {},
          "output_type": "execute_result"
        }
      ],
      "source": [
        "estudantes"
      ]
    },
    {
      "cell_type": "code",
      "execution_count": null,
      "metadata": {
        "id": "NRnPP6FXH7Gu",
        "outputId": "226ba3de-7a42-4a3a-bd07-904283abf7d6"
      },
      "outputs": [
        {
          "data": {
            "text/plain": [
              "4"
            ]
          },
          "execution_count": 16,
          "metadata": {},
          "output_type": "execute_result"
        }
      ],
      "source": [
        "len(estudantes)"
      ]
    },
    {
      "cell_type": "code",
      "execution_count": null,
      "metadata": {
        "id": "aZhzpzADH7Gu",
        "outputId": "e1476a1f-0060-45df-8e8d-79bc862d56b7"
      },
      "outputs": [
        {
          "data": {
            "text/plain": [
              "dict_keys(['Mateus', 'Fernanda', 'Tamires', 'Cristiano'])"
            ]
          },
          "execution_count": 17,
          "metadata": {},
          "output_type": "execute_result"
        }
      ],
      "source": [
        "estudantes.keys()"
      ]
    },
    {
      "cell_type": "code",
      "execution_count": null,
      "metadata": {
        "id": "bYmnu72XH7Gv",
        "outputId": "66430ebf-867c-43ec-95fd-201f7ce87a2d"
      },
      "outputs": [
        {
          "data": {
            "text/plain": [
              "dict_values([24, 22, 26, 25])"
            ]
          },
          "execution_count": 18,
          "metadata": {},
          "output_type": "execute_result"
        }
      ],
      "source": [
        "estudantes.values()"
      ]
    },
    {
      "cell_type": "code",
      "execution_count": null,
      "metadata": {
        "id": "MMsKa6LIH7Gw",
        "outputId": "57b91d85-4d0a-4604-e69b-e74f18e3fa2c"
      },
      "outputs": [
        {
          "data": {
            "text/plain": [
              "dict_items([('Mateus', 24), ('Fernanda', 22), ('Tamires', 26), ('Cristiano', 25)])"
            ]
          },
          "execution_count": 19,
          "metadata": {},
          "output_type": "execute_result"
        }
      ],
      "source": [
        "estudantes.items()"
      ]
    },
    {
      "cell_type": "code",
      "execution_count": null,
      "metadata": {
        "id": "cEJGOZZEH7Gw"
      },
      "outputs": [],
      "source": [
        "estudantes2 = {\"Maria\":27, \"Erika\":28, \"Milton\":26}"
      ]
    },
    {
      "cell_type": "code",
      "execution_count": null,
      "metadata": {
        "id": "HmNMcMnuH7Gx",
        "outputId": "5285a04f-3ca9-4844-e5aa-c1d9055e8492"
      },
      "outputs": [
        {
          "data": {
            "text/plain": [
              "{'Maria': 27, 'Erika': 28, 'Milton': 26}"
            ]
          },
          "execution_count": 21,
          "metadata": {},
          "output_type": "execute_result"
        }
      ],
      "source": [
        "estudantes2"
      ]
    },
    {
      "cell_type": "code",
      "execution_count": null,
      "metadata": {
        "id": "4B8nV63sH7Gx"
      },
      "outputs": [],
      "source": [
        "estudantes.update(estudantes2)"
      ]
    },
    {
      "cell_type": "code",
      "execution_count": null,
      "metadata": {
        "id": "Xjsub4m_H7Gy",
        "outputId": "80ffb5b7-34d5-4e4a-e556-da8260091dc1"
      },
      "outputs": [
        {
          "data": {
            "text/plain": [
              "{'Mateus': 24,\n",
              " 'Fernanda': 22,\n",
              " 'Tamires': 26,\n",
              " 'Cristiano': 25,\n",
              " 'Maria': 27,\n",
              " 'Erika': 28,\n",
              " 'Milton': 26}"
            ]
          },
          "execution_count": 23,
          "metadata": {},
          "output_type": "execute_result"
        }
      ],
      "source": [
        "estudantes"
      ]
    },
    {
      "cell_type": "code",
      "execution_count": null,
      "metadata": {
        "id": "_B8LRVtOH7Gy"
      },
      "outputs": [],
      "source": [
        "dic1 = {}"
      ]
    },
    {
      "cell_type": "code",
      "execution_count": null,
      "metadata": {
        "id": "4ZgCHWlSH7Gz",
        "outputId": "52b7d6a9-eca4-4f1f-efd2-40ec469f1e43"
      },
      "outputs": [
        {
          "data": {
            "text/plain": [
              "{}"
            ]
          },
          "execution_count": 25,
          "metadata": {},
          "output_type": "execute_result"
        }
      ],
      "source": [
        "dic1"
      ]
    },
    {
      "cell_type": "code",
      "execution_count": null,
      "metadata": {
        "id": "A_6TVuk_H7Gz"
      },
      "outputs": [],
      "source": [
        "dic1[\"key_one\"] = 2"
      ]
    },
    {
      "cell_type": "code",
      "execution_count": null,
      "metadata": {
        "id": "-SmG_kuoH7G0",
        "outputId": "f37dde0b-0cba-4ddd-db38-c43d6af13215"
      },
      "outputs": [
        {
          "name": "stdout",
          "output_type": "stream",
          "text": [
            "{'key_one': 2}\n"
          ]
        }
      ],
      "source": [
        "print(dic1)"
      ]
    },
    {
      "cell_type": "code",
      "execution_count": null,
      "metadata": {
        "id": "FefMV0pDH7G0"
      },
      "outputs": [],
      "source": [
        "dic1[10] = 5"
      ]
    },
    {
      "cell_type": "code",
      "execution_count": null,
      "metadata": {
        "id": "92EjvwDUH7G0",
        "outputId": "79431146-2072-4a59-ee51-aa7d67f58934"
      },
      "outputs": [
        {
          "data": {
            "text/plain": [
              "{'key_one': 2, 10: 5}"
            ]
          },
          "execution_count": 29,
          "metadata": {},
          "output_type": "execute_result"
        }
      ],
      "source": [
        "dic1"
      ]
    },
    {
      "cell_type": "code",
      "execution_count": null,
      "metadata": {
        "id": "lIXIJK2BH7G1"
      },
      "outputs": [],
      "source": [
        "dic1[8.2] = \"Python\""
      ]
    },
    {
      "cell_type": "code",
      "execution_count": null,
      "metadata": {
        "id": "_YieOPkMH7G2",
        "outputId": "15786f18-6039-40db-8b42-1b27d4b4cc2c"
      },
      "outputs": [
        {
          "data": {
            "text/plain": [
              "{'key_one': 2, 10: 5, 8.2: 'Python'}"
            ]
          },
          "execution_count": 31,
          "metadata": {},
          "output_type": "execute_result"
        }
      ],
      "source": [
        "dic1"
      ]
    },
    {
      "cell_type": "code",
      "execution_count": null,
      "metadata": {
        "id": "vshVgRpPH7G3"
      },
      "outputs": [],
      "source": [
        "dic1[\"teste\"] = 5"
      ]
    },
    {
      "cell_type": "code",
      "execution_count": null,
      "metadata": {
        "id": "WhhjgLNAH7G3",
        "outputId": "8226215a-db6b-4ba5-fb99-9cf648f47b05"
      },
      "outputs": [
        {
          "data": {
            "text/plain": [
              "{'key_one': 2, 10: 5, 8.2: 'Python', 'teste': 5}"
            ]
          },
          "execution_count": 33,
          "metadata": {},
          "output_type": "execute_result"
        }
      ],
      "source": [
        "dic1"
      ]
    },
    {
      "cell_type": "code",
      "execution_count": null,
      "metadata": {
        "id": "URj1C-3UH7G4"
      },
      "outputs": [],
      "source": [
        "dict1 = {}"
      ]
    },
    {
      "cell_type": "code",
      "execution_count": null,
      "metadata": {
        "id": "--dIJh0oH7G4",
        "outputId": "a8b92922-13e6-48da-c0a0-e1fad9b0e3d3"
      },
      "outputs": [
        {
          "data": {
            "text/plain": [
              "{}"
            ]
          },
          "execution_count": 35,
          "metadata": {},
          "output_type": "execute_result"
        }
      ],
      "source": [
        "dict1"
      ]
    },
    {
      "cell_type": "code",
      "execution_count": null,
      "metadata": {
        "id": "3OvkHpMpH7G5"
      },
      "outputs": [],
      "source": [
        "dict1[\"teste\"] = 10"
      ]
    },
    {
      "cell_type": "code",
      "execution_count": null,
      "metadata": {
        "id": "6BqXD3aoH7G5"
      },
      "outputs": [],
      "source": [
        "dict1[\"key\"] = \"teste\""
      ]
    },
    {
      "cell_type": "code",
      "execution_count": null,
      "metadata": {
        "id": "rz_qMr-MH7G5",
        "outputId": "f87c7e87-9e94-4d5c-9e1a-60b00b7b5fb6"
      },
      "outputs": [
        {
          "data": {
            "text/plain": [
              "{'teste': 10, 'key': 'teste'}"
            ]
          },
          "execution_count": 38,
          "metadata": {},
          "output_type": "execute_result"
        }
      ],
      "source": [
        "# Atenção, pois chave e valor podem ser iguais, mas representam coisas diferentes.\n",
        "dict1"
      ]
    },
    {
      "cell_type": "code",
      "execution_count": null,
      "metadata": {
        "id": "6-SVa_UlH7G6"
      },
      "outputs": [],
      "source": [
        "dict2 = {}"
      ]
    },
    {
      "cell_type": "code",
      "execution_count": null,
      "metadata": {
        "id": "3iDhKsCYH7G7"
      },
      "outputs": [],
      "source": [
        "dict2[\"key1\"] = \"Big Data\""
      ]
    },
    {
      "cell_type": "code",
      "execution_count": null,
      "metadata": {
        "id": "Nf0VjD3zH7G7"
      },
      "outputs": [],
      "source": [
        "dict2[\"key2\"] = 10"
      ]
    },
    {
      "cell_type": "code",
      "execution_count": null,
      "metadata": {
        "id": "2QVPQEnSH7G7"
      },
      "outputs": [],
      "source": [
        "dict2[\"key3\"] = 5.6"
      ]
    },
    {
      "cell_type": "code",
      "execution_count": null,
      "metadata": {
        "id": "7rgvCpwvH7G8",
        "outputId": "a63d7276-4df8-4a37-b363-86cc869b4a53"
      },
      "outputs": [
        {
          "data": {
            "text/plain": [
              "{'key1': 'Big Data', 'key2': 10, 'key3': 5.6}"
            ]
          },
          "execution_count": 43,
          "metadata": {},
          "output_type": "execute_result"
        }
      ],
      "source": [
        "dict2"
      ]
    },
    {
      "cell_type": "code",
      "execution_count": null,
      "metadata": {
        "id": "16NFCE01H7G9"
      },
      "outputs": [],
      "source": [
        "a = dict2[\"key1\"]"
      ]
    },
    {
      "cell_type": "code",
      "execution_count": null,
      "metadata": {
        "id": "6JD5CvfMH7G9"
      },
      "outputs": [],
      "source": [
        "b = dict2[\"key2\"]"
      ]
    },
    {
      "cell_type": "code",
      "execution_count": null,
      "metadata": {
        "id": "dsJPhoNxH7G-"
      },
      "outputs": [],
      "source": [
        "c = dict2[\"key3\"]"
      ]
    },
    {
      "cell_type": "code",
      "execution_count": null,
      "metadata": {
        "id": "66yTo3MUH7G-",
        "outputId": "c33f1dd6-0558-4f29-ca37-a1f8cff348a2"
      },
      "outputs": [
        {
          "data": {
            "text/plain": [
              "('Big Data', 10, 5.6)"
            ]
          },
          "execution_count": 47,
          "metadata": {},
          "output_type": "execute_result"
        }
      ],
      "source": [
        "a, b, c"
      ]
    },
    {
      "cell_type": "code",
      "execution_count": null,
      "metadata": {
        "id": "U1HOINtbH7G_"
      },
      "outputs": [],
      "source": [
        "# Dicionário de listas\n",
        "dict3 = {'key1':1230,'key2':[22,453,73.4],'key3':['leite','maça','batata']}"
      ]
    },
    {
      "cell_type": "code",
      "execution_count": null,
      "metadata": {
        "id": "QZ-oudwaH7HA",
        "outputId": "857e19ae-3bcc-4d83-9b38-214019319656"
      },
      "outputs": [
        {
          "data": {
            "text/plain": [
              "{'key1': 1230, 'key2': [22, 453, 73.4], 'key3': ['leite', 'maça', 'batata']}"
            ]
          },
          "execution_count": 49,
          "metadata": {},
          "output_type": "execute_result"
        }
      ],
      "source": [
        "dict3"
      ]
    },
    {
      "cell_type": "code",
      "execution_count": null,
      "metadata": {
        "id": "E_bXJHxJH7HB",
        "outputId": "82f5857f-d66c-4efa-bf5a-c96d65dd78d1"
      },
      "outputs": [
        {
          "data": {
            "text/plain": [
              "[22, 453, 73.4]"
            ]
          },
          "execution_count": 50,
          "metadata": {},
          "output_type": "execute_result"
        }
      ],
      "source": [
        "dict3['key2']"
      ]
    },
    {
      "cell_type": "code",
      "execution_count": null,
      "metadata": {
        "id": "Uusw8AY_H7HC",
        "outputId": "8aa27c4b-e929-4719-a2c0-8ab06fe46b7c"
      },
      "outputs": [
        {
          "data": {
            "text/plain": [
              "'LEITE'"
            ]
          },
          "execution_count": 51,
          "metadata": {},
          "output_type": "execute_result"
        }
      ],
      "source": [
        "# Acessando um item da lista, dentro do dicionário\n",
        "dict3['key3'][0].upper()"
      ]
    },
    {
      "cell_type": "code",
      "execution_count": null,
      "metadata": {
        "id": "LBunh3f7H7HD"
      },
      "outputs": [],
      "source": [
        "# Operações com itens da lista, dentro do dicionário\n",
        "var1 = dict3['key2'][0] - 2"
      ]
    },
    {
      "cell_type": "code",
      "execution_count": null,
      "metadata": {
        "id": "KxjvP9PdH7HD",
        "outputId": "450f39e0-e2a9-43a4-cbff-f6d93a296ce3"
      },
      "outputs": [
        {
          "data": {
            "text/plain": [
              "20"
            ]
          },
          "execution_count": 53,
          "metadata": {},
          "output_type": "execute_result"
        }
      ],
      "source": [
        "var1"
      ]
    },
    {
      "cell_type": "code",
      "execution_count": null,
      "metadata": {
        "id": "GYKVxLsJH7HE"
      },
      "outputs": [],
      "source": [
        "# Duas operações no mesmo comando, para atualizar um item dentro da lista\n",
        "dict3['key2'][0] -= 2"
      ]
    },
    {
      "cell_type": "code",
      "execution_count": null,
      "metadata": {
        "id": "b9A9SmpWH7HE",
        "outputId": "112d2809-df6c-48bb-ca1e-fbe7e41e7238"
      },
      "outputs": [
        {
          "data": {
            "text/plain": [
              "{'key1': 1230, 'key2': [20, 453, 73.4], 'key3': ['leite', 'maça', 'batata']}"
            ]
          },
          "execution_count": 55,
          "metadata": {},
          "output_type": "execute_result"
        }
      ],
      "source": [
        "dict3"
      ]
    },
    {
      "cell_type": "markdown",
      "metadata": {
        "id": "OVasVuueH7HF"
      },
      "source": [
        "### Criando dicionários aninhados"
      ]
    },
    {
      "cell_type": "code",
      "execution_count": null,
      "metadata": {
        "id": "kyH8O-luH7HG"
      },
      "outputs": [],
      "source": [
        "# Criando dicionários aninhados\n",
        "dict_aninhado = {'key1':{'key2_aninhada':{'key3_aninhada':'Dict aninhado em Python'}}}"
      ]
    },
    {
      "cell_type": "code",
      "execution_count": null,
      "metadata": {
        "id": "SW9iu4dHH7HG",
        "outputId": "b4942f84-625f-406d-918f-d5f94d7147ba"
      },
      "outputs": [
        {
          "data": {
            "text/plain": [
              "{'key1': {'key2_aninhada': {'key3_aninhada': 'Dict aninhado em Python'}}}"
            ]
          },
          "execution_count": 57,
          "metadata": {},
          "output_type": "execute_result"
        }
      ],
      "source": [
        "dict_aninhado"
      ]
    },
    {
      "cell_type": "code",
      "execution_count": null,
      "metadata": {
        "id": "g3s8RMSWH7HH",
        "outputId": "f352065d-7608-4601-c76f-0d782128cf75"
      },
      "outputs": [
        {
          "data": {
            "text/plain": [
              "'Dict aninhado em Python'"
            ]
          },
          "execution_count": 58,
          "metadata": {},
          "output_type": "execute_result"
        }
      ],
      "source": [
        "dict_aninhado['key1']['key2_aninhada']['key3_aninhada']"
      ]
    }
  ],
  "metadata": {
    "anaconda-cloud": {},
    "kernelspec": {
      "display_name": "Python 3",
      "language": "python",
      "name": "python3"
    },
    "language_info": {
      "codemirror_mode": {
        "name": "ipython",
        "version": 3
      },
      "file_extension": ".py",
      "mimetype": "text/x-python",
      "name": "python",
      "nbconvert_exporter": "python",
      "pygments_lexer": "ipython3",
      "version": "3.8.8"
    },
    "colab": {
      "name": "Notebook_5_dicionarios.ipynb",
      "provenance": [],
      "include_colab_link": true
    }
  },
  "nbformat": 4,
  "nbformat_minor": 0
}