{
  "cells": [
    {
      "cell_type": "markdown",
      "metadata": {
        "id": "view-in-github",
        "colab_type": "text"
      },
      "source": [
        "<a href=\"https://colab.research.google.com/github/GabrielFonsecaNunes/data-science-with-python/blob/master/Aula%201/Notebook_8_For.ipynb\" target=\"_parent\"><img src=\"https://colab.research.google.com/assets/colab-badge.svg\" alt=\"Open In Colab\"/></a>"
      ]
    },
    {
      "cell_type": "markdown",
      "metadata": {
        "id": "OKxWpOOMLd6_"
      },
      "source": [
        "# <font color='orange'> AULA 1 - Python Fundamentos - Estruturas de Repetição For </font>"
      ]
    },
    {
      "cell_type": "code",
      "execution_count": null,
      "metadata": {
        "id": "47LBSxkKLd7C",
        "outputId": "cff1ba71-b6f6-40b1-efcd-2efc5b531445"
      },
      "outputs": [
        {
          "name": "stdout",
          "output_type": "stream",
          "text": [
            "Versão da Linguagem Python Usada Neste Jupyter Notebook: 3.8.8\n"
          ]
        }
      ],
      "source": [
        "# Versão da Linguagem Python\n",
        "from platform import python_version\n",
        "print('Versão da Linguagem Python Usada Neste Jupyter Notebook:', python_version())"
      ]
    },
    {
      "cell_type": "markdown",
      "metadata": {
        "id": "t_HgZjW7Ld7E"
      },
      "source": [
        "### Loop For"
      ]
    },
    {
      "cell_type": "code",
      "execution_count": null,
      "metadata": {
        "id": "OagI_msbLd7G",
        "outputId": "10829782-1ea4-459c-ed7f-cc2c7e5210ab"
      },
      "outputs": [
        {
          "name": "stdout",
          "output_type": "stream",
          "text": [
            "2\n",
            "3\n",
            "4\n"
          ]
        }
      ],
      "source": [
        "# Criando uma tupla e imprimindo cada um dos valores\n",
        "tp = (2,3,4)\n",
        "for i in tp:\n",
        "    print(i)"
      ]
    },
    {
      "cell_type": "code",
      "execution_count": null,
      "metadata": {
        "id": "e_qRHAkQLd7H",
        "outputId": "c20f1986-f008-4237-f28d-f6ffb2711d45"
      },
      "outputs": [
        {
          "name": "stdout",
          "output_type": "stream",
          "text": [
            "Leite\n",
            "Frutas\n",
            "Carne\n"
          ]
        }
      ],
      "source": [
        "# Criando uma lista e imprimindo cada um dos valores\n",
        "ListaDoMercado = [\"Leite\", \"Frutas\", \"Carne\"]\n",
        "for i in ListaDoMercado:\n",
        "    print(i)"
      ]
    },
    {
      "cell_type": "code",
      "execution_count": null,
      "metadata": {
        "id": "0WQqdNgGLd7I",
        "outputId": "37b5243f-4a6d-45e1-d28b-681d1f0d771a"
      },
      "outputs": [
        {
          "name": "stdout",
          "output_type": "stream",
          "text": [
            "0\n",
            "1\n",
            "2\n",
            "3\n",
            "4\n"
          ]
        }
      ],
      "source": [
        "# Imprimindo os valores no intervalo entre 0 e 5 (exclusive)\n",
        "for contador in range(0,5):\n",
        "    print(contador)"
      ]
    },
    {
      "cell_type": "code",
      "execution_count": null,
      "metadata": {
        "id": "zilz3C9jLd7J",
        "outputId": "22cb06ba-f556-479a-c83a-25cc8487dbf6"
      },
      "outputs": [
        {
          "name": "stdout",
          "output_type": "stream",
          "text": [
            "2\n",
            "4\n",
            "6\n",
            "8\n",
            "10\n"
          ]
        }
      ],
      "source": [
        "# Imprimindo na tela os números pares da lista de números\n",
        "lista = [1,2,3,4,5,6,7,8,9,10]\n",
        "for num in lista:\n",
        "    if num % 2 == 0:\n",
        "        print (num)"
      ]
    },
    {
      "cell_type": "code",
      "execution_count": null,
      "metadata": {
        "id": "3T0_NoOaLd7K",
        "outputId": "b81750e5-66ff-4c21-97e5-6d526463e9b2"
      },
      "outputs": [
        {
          "name": "stdout",
          "output_type": "stream",
          "text": [
            "0\n",
            "2\n",
            "4\n",
            "6\n",
            "8\n",
            "10\n",
            "12\n",
            "14\n",
            "16\n",
            "18\n",
            "20\n",
            "22\n",
            "24\n",
            "26\n",
            "28\n",
            "30\n",
            "32\n",
            "34\n",
            "36\n",
            "38\n",
            "40\n",
            "42\n",
            "44\n",
            "46\n",
            "48\n",
            "50\n",
            "52\n",
            "54\n",
            "56\n",
            "58\n",
            "60\n",
            "62\n",
            "64\n",
            "66\n",
            "68\n",
            "70\n",
            "72\n",
            "74\n",
            "76\n",
            "78\n",
            "80\n",
            "82\n",
            "84\n",
            "86\n",
            "88\n",
            "90\n",
            "92\n",
            "94\n",
            "96\n",
            "98\n",
            "100\n"
          ]
        }
      ],
      "source": [
        "# Listando os números no intervalo entre 0 e 101, com incremento em 2\n",
        "for i in range(0,101,2):  \n",
        "    print(i)"
      ]
    },
    {
      "cell_type": "code",
      "execution_count": null,
      "metadata": {
        "id": "eOsKfso9Ld7L",
        "outputId": "7fc53ec3-51e3-4260-9fb8-c1798a593fb1"
      },
      "outputs": [
        {
          "name": "stdout",
          "output_type": "stream",
          "text": [
            "P\n",
            "y\n",
            "t\n",
            "h\n",
            "o\n",
            "n\n",
            " \n",
            "é\n",
            " \n",
            "u\n",
            "m\n",
            "a\n",
            " \n",
            "l\n",
            "i\n",
            "n\n",
            "g\n",
            "u\n",
            "a\n",
            "g\n",
            "e\n",
            "m\n",
            " \n",
            "d\n",
            "e\n",
            " \n",
            "p\n",
            "r\n",
            "o\n",
            "g\n",
            "r\n",
            "a\n",
            "m\n",
            "a\n",
            "ç\n",
            "ã\n",
            "o\n",
            " \n",
            "d\n",
            "i\n",
            "v\n",
            "e\n",
            "r\n",
            "t\n",
            "i\n",
            "d\n",
            "a\n",
            "!\n"
          ]
        }
      ],
      "source": [
        "# Strings também são sequências\n",
        "for caracter in 'Python é uma linguagem de programação divertida!':\n",
        "    print (caracter)"
      ]
    },
    {
      "cell_type": "markdown",
      "metadata": {
        "id": "r3yIxuZuLd7N"
      },
      "source": [
        "### Loops Aninhados"
      ]
    },
    {
      "cell_type": "code",
      "execution_count": null,
      "metadata": {
        "id": "WqWQA4PrLd7O",
        "outputId": "50e7c1ff-3a0d-4100-997a-8900d6c984a6"
      },
      "outputs": [
        {
          "name": "stdout",
          "output_type": "stream",
          "text": [
            "0\n",
            "1\n",
            "2\n",
            "3\n",
            "4\n",
            "0\n",
            "1\n",
            "2\n",
            "3\n",
            "4\n",
            "0\n",
            "1\n",
            "2\n",
            "3\n",
            "4\n",
            "0\n",
            "1\n",
            "2\n",
            "3\n",
            "4\n",
            "0\n",
            "1\n",
            "2\n",
            "3\n",
            "4\n"
          ]
        }
      ],
      "source": [
        "# Loops aninhados\n",
        "for i in range(0,5):\n",
        "    for a in range(0,5):\n",
        "        print(a)"
      ]
    },
    {
      "cell_type": "code",
      "execution_count": null,
      "metadata": {
        "id": "rfD2W-A8Ld7P",
        "outputId": "db5b4ecf-b33a-4c78-96e6-ff99dae963da"
      },
      "outputs": [
        {
          "name": "stdout",
          "output_type": "stream",
          "text": [
            "462\n"
          ]
        }
      ],
      "source": [
        "# Operando os valores de uma lista com loop for\n",
        "listaB = [32,53,85,10,15,17,19]\n",
        "soma = 0\n",
        "for i in listaB:\n",
        "    double_i = i * 2\n",
        "    soma += double_i\n",
        "\n",
        "print(soma)"
      ]
    },
    {
      "cell_type": "code",
      "execution_count": null,
      "metadata": {
        "id": "DGeQFEpcLd7Q",
        "outputId": "fa27b40f-25e0-4325-b948-3a65377b95dc"
      },
      "outputs": [
        {
          "name": "stdout",
          "output_type": "stream",
          "text": [
            "[1, 2, 3]\n",
            "[10, 15, 14]\n",
            "[10.1, 8.7, 2.3]\n"
          ]
        }
      ],
      "source": [
        "# Loops em lista de listas\n",
        "listas = [[1,2,3], [10,15,14], [10.1,8.7,2.3]]\n",
        "for valor in listas:\n",
        "    print(valor)"
      ]
    },
    {
      "cell_type": "code",
      "execution_count": null,
      "metadata": {
        "id": "o1fqwzIiLd7R",
        "outputId": "03865795-78c2-469f-c1e0-82c0399da86c"
      },
      "outputs": [
        {
          "name": "stdout",
          "output_type": "stream",
          "text": [
            "5\n"
          ]
        }
      ],
      "source": [
        "# Contando os itens de uma lista\n",
        "lista = [5,6,10,13,17]\n",
        "count = 0\n",
        "for item in lista:\n",
        "    count += 1\n",
        "    \n",
        "print(count)"
      ]
    },
    {
      "cell_type": "code",
      "execution_count": null,
      "metadata": {
        "id": "Vh1eKZAgLd7T",
        "outputId": "512fdc59-b42c-4e77-885f-2edaae8a896f"
      },
      "outputs": [
        {
          "name": "stdout",
          "output_type": "stream",
          "text": [
            "3\n"
          ]
        }
      ],
      "source": [
        "# Contando o número de colunas\n",
        "lst = [[1,2,3],[3,4,5],[5,6,7]]\n",
        "primeira_linha = lst[0]\n",
        "count = 0\n",
        "for column in primeira_linha:\n",
        "    count = count + 1\n",
        "    \n",
        "print(count)"
      ]
    },
    {
      "cell_type": "code",
      "execution_count": null,
      "metadata": {
        "id": "OFPaUe4-Ld7T",
        "outputId": "61714c5f-c7f3-43f4-c0b6-cef003dd25b4"
      },
      "outputs": [
        {
          "name": "stdout",
          "output_type": "stream",
          "text": [
            "Número encontrado na lista!\n"
          ]
        }
      ],
      "source": [
        "# Pesquisando em listas\n",
        "listaC = [5, 6, 7, 10, 50]\n",
        "\n",
        "# Loop através da lista\n",
        "for item in listaC:\n",
        "    if item == 5:\n",
        "        print(\"Número encontrado na lista!\")"
      ]
    },
    {
      "cell_type": "code",
      "execution_count": null,
      "metadata": {
        "id": "k403Y5wxLd7U",
        "outputId": "b945b0bb-eb8d-4163-a5c9-09b00e966dda"
      },
      "outputs": [
        {
          "name": "stdout",
          "output_type": "stream",
          "text": [
            "k1\n",
            "k2\n",
            "k3\n"
          ]
        }
      ],
      "source": [
        "# Listando as chaves de um dicionário\n",
        "dict = {'k1':'Python','k2':'R','k3':'Scala'}\n",
        "for item in dict:\n",
        "    print(item)"
      ]
    },
    {
      "cell_type": "code",
      "execution_count": null,
      "metadata": {
        "id": "lA9Q5pcmLd7V",
        "outputId": "79b34b94-4c46-4200-8124-6d3b5fd34893"
      },
      "outputs": [
        {
          "name": "stdout",
          "output_type": "stream",
          "text": [
            "k1 Python\n",
            "k2 R\n",
            "k3 Scala\n"
          ]
        }
      ],
      "source": [
        "# Imprimindo chave e valor do dicionário. Usando o método items() para retornar os itens de um dicionário\n",
        "for k,v in dict.items():\n",
        "    print (k,v)"
      ]
    }
  ],
  "metadata": {
    "kernelspec": {
      "display_name": "Python 3",
      "language": "python",
      "name": "python3"
    },
    "language_info": {
      "codemirror_mode": {
        "name": "ipython",
        "version": 3
      },
      "file_extension": ".py",
      "mimetype": "text/x-python",
      "name": "python",
      "nbconvert_exporter": "python",
      "pygments_lexer": "ipython3",
      "version": "3.8.8"
    },
    "colab": {
      "name": "Notebook_8_For.ipynb",
      "provenance": [],
      "include_colab_link": true
    }
  },
  "nbformat": 4,
  "nbformat_minor": 0
}