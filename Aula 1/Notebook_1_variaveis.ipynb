{
  "cells": [
    {
      "cell_type": "markdown",
      "metadata": {
        "id": "view-in-github",
        "colab_type": "text"
      },
      "source": [
        "<a href=\"https://colab.research.google.com/github/GabrielFonsecaNunes/data-science-with-python/blob/master/Aula%201/Notebook_1_variaveis.ipynb\" target=\"_parent\"><img src=\"https://colab.research.google.com/assets/colab-badge.svg\" alt=\"Open In Colab\"/></a>"
      ]
    },
    {
      "cell_type": "markdown",
      "metadata": {
        "id": "QktrYhVJFXwi"
      },
      "source": [
        "# <font color='orange'> AULA 1 - Python Fundamentos - Variáveis </font>\n",
        "\n"
      ]
    },
    {
      "cell_type": "code",
      "execution_count": null,
      "metadata": {
        "id": "C6_WKuMDFXwl",
        "outputId": "3e833ef5-7cc6-41ca-e3ae-95a7be5e6a18"
      },
      "outputs": [
        {
          "name": "stdout",
          "output_type": "stream",
          "text": [
            "Versão da Linguagem Python Usada Neste Jupyter Notebook: 3.8.8\n"
          ]
        }
      ],
      "source": [
        "# Versão da Linguagem Python\n",
        "from platform import python_version\n",
        "print('Versão da Linguagem Python Usada Neste Jupyter Notebook:', python_version())"
      ]
    },
    {
      "cell_type": "markdown",
      "metadata": {
        "id": "ZS0EtwU0FXwo"
      },
      "source": [
        "## Variáveis e Operadores "
      ]
    },
    {
      "cell_type": "code",
      "execution_count": null,
      "metadata": {
        "id": "qiRJzGtBFXwp"
      },
      "outputs": [],
      "source": [
        "# Atribuindo o valor 1 à variável var_teste\n",
        "var_teste = 1"
      ]
    },
    {
      "cell_type": "code",
      "execution_count": null,
      "metadata": {
        "id": "_VRv-aF4FXwq",
        "outputId": "7de17db8-ea71-45dc-d800-3317a2efad37"
      },
      "outputs": [
        {
          "data": {
            "text/plain": [
              "1"
            ]
          },
          "execution_count": 3,
          "metadata": {},
          "output_type": "execute_result"
        }
      ],
      "source": [
        "# Imprimindo o valor da variável\n",
        "var_teste"
      ]
    },
    {
      "cell_type": "code",
      "execution_count": null,
      "metadata": {
        "id": "0A_5R4RfFXws",
        "outputId": "600c3f8f-44dc-4ef0-c9e1-9ae5b7ecc305"
      },
      "outputs": [
        {
          "name": "stdout",
          "output_type": "stream",
          "text": [
            "1\n"
          ]
        }
      ],
      "source": [
        "# Imprimindo o valor da variável\n",
        "print(var_teste)"
      ]
    },
    {
      "cell_type": "code",
      "execution_count": null,
      "metadata": {
        "id": "53yQUU-tFXwt",
        "outputId": "004898f0-14d8-47c0-d07c-3491eb5a575e"
      },
      "outputs": [
        {
          "ename": "NameError",
          "evalue": "name 'my_var' is not defined",
          "output_type": "error",
          "traceback": [
            "\u001b[0;31m---------------------------------------------------------------------------\u001b[0m",
            "\u001b[0;31mNameError\u001b[0m                                 Traceback (most recent call last)",
            "\u001b[0;32m<ipython-input-5-7f70398ca07b>\u001b[0m in \u001b[0;36m<module>\u001b[0;34m\u001b[0m\n\u001b[1;32m      1\u001b[0m \u001b[0;31m# Não podemos utilizar uma variável que não foi definida. Veja a mensagem de erro.\u001b[0m\u001b[0;34m\u001b[0m\u001b[0;34m\u001b[0m\u001b[0;34m\u001b[0m\u001b[0m\n\u001b[0;32m----> 2\u001b[0;31m \u001b[0mmy_var\u001b[0m\u001b[0;34m\u001b[0m\u001b[0;34m\u001b[0m\u001b[0m\n\u001b[0m",
            "\u001b[0;31mNameError\u001b[0m: name 'my_var' is not defined"
          ]
        }
      ],
      "source": [
        "# Não podemos utilizar uma variável que não foi definida. Veja a mensagem de erro.\n",
        "my_var"
      ]
    },
    {
      "cell_type": "code",
      "execution_count": null,
      "metadata": {
        "id": "QAqE9Yu7FXwu"
      },
      "outputs": [],
      "source": [
        "var_teste = 2"
      ]
    },
    {
      "cell_type": "code",
      "execution_count": null,
      "metadata": {
        "id": "0kPMjz3ZFXwv",
        "outputId": "3eaa8aa5-9e42-4097-9a51-aba1182ec1f3"
      },
      "outputs": [
        {
          "data": {
            "text/plain": [
              "2"
            ]
          },
          "execution_count": 7,
          "metadata": {},
          "output_type": "execute_result"
        }
      ],
      "source": [
        "var_teste"
      ]
    },
    {
      "cell_type": "code",
      "execution_count": null,
      "metadata": {
        "id": "4t-A4WJlFXwx",
        "outputId": "3e7c9560-e438-49e9-f719-4b5acdb1e9cb"
      },
      "outputs": [
        {
          "data": {
            "text/plain": [
              "int"
            ]
          },
          "execution_count": 8,
          "metadata": {},
          "output_type": "execute_result"
        }
      ],
      "source": [
        "type(var_teste)"
      ]
    },
    {
      "cell_type": "code",
      "execution_count": null,
      "metadata": {
        "id": "cQTZKJMEFXwy"
      },
      "outputs": [],
      "source": [
        "var_teste = 9.5"
      ]
    },
    {
      "cell_type": "code",
      "execution_count": null,
      "metadata": {
        "id": "MBP0BuM9FXwz",
        "outputId": "e6394a3e-b42f-48cf-e697-9ccaa696e905"
      },
      "outputs": [
        {
          "data": {
            "text/plain": [
              "float"
            ]
          },
          "execution_count": 10,
          "metadata": {},
          "output_type": "execute_result"
        }
      ],
      "source": [
        "type(var_teste)"
      ]
    },
    {
      "cell_type": "code",
      "execution_count": null,
      "metadata": {
        "id": "nx1QEnN6FXw0"
      },
      "outputs": [],
      "source": [
        "x = 1"
      ]
    },
    {
      "cell_type": "code",
      "execution_count": null,
      "metadata": {
        "id": "SebweO1QFXw1",
        "outputId": "be0850d2-1757-47d5-de2a-7a6bac8ac4b5"
      },
      "outputs": [
        {
          "data": {
            "text/plain": [
              "1"
            ]
          },
          "execution_count": 12,
          "metadata": {},
          "output_type": "execute_result"
        }
      ],
      "source": [
        "x"
      ]
    },
    {
      "cell_type": "markdown",
      "metadata": {
        "id": "TdbYvFfbFXw1"
      },
      "source": [
        "## Declaração Múltipla"
      ]
    },
    {
      "cell_type": "code",
      "execution_count": null,
      "metadata": {
        "id": "gNPz2QwhFXw2"
      },
      "outputs": [],
      "source": [
        "pessoa1, pessoa2, pessoa3 = \"Maria\", \"José\", \"Tobias\""
      ]
    },
    {
      "cell_type": "code",
      "execution_count": null,
      "metadata": {
        "id": "qzcUUwzTFXw3",
        "outputId": "f0a21d6a-85af-4d40-d3e6-3d760c1a95ca"
      },
      "outputs": [
        {
          "data": {
            "text/plain": [
              "'Maria'"
            ]
          },
          "execution_count": 14,
          "metadata": {},
          "output_type": "execute_result"
        }
      ],
      "source": [
        "pessoa1"
      ]
    },
    {
      "cell_type": "code",
      "execution_count": null,
      "metadata": {
        "id": "WP9gGk2TFXw4",
        "outputId": "cd6fab29-fa27-49fc-ff1b-6ce5916bcbad"
      },
      "outputs": [
        {
          "data": {
            "text/plain": [
              "'José'"
            ]
          },
          "execution_count": 15,
          "metadata": {},
          "output_type": "execute_result"
        }
      ],
      "source": [
        "pessoa2"
      ]
    },
    {
      "cell_type": "code",
      "execution_count": null,
      "metadata": {
        "id": "QA32MhskFXw4",
        "outputId": "bf7937a8-6c53-48d7-e765-1cde754773a5"
      },
      "outputs": [
        {
          "data": {
            "text/plain": [
              "'Tobias'"
            ]
          },
          "execution_count": 16,
          "metadata": {},
          "output_type": "execute_result"
        }
      ],
      "source": [
        "pessoa3"
      ]
    },
    {
      "cell_type": "code",
      "execution_count": null,
      "metadata": {
        "id": "UNWGvwxcFXw5"
      },
      "outputs": [],
      "source": [
        "fruta1 = fruta2 = fruta3 = \"Laranja\""
      ]
    },
    {
      "cell_type": "code",
      "execution_count": null,
      "metadata": {
        "id": "dxjbfUcYFXw5",
        "outputId": "4b59b4cb-641b-494d-d6f2-85984ca260db"
      },
      "outputs": [
        {
          "data": {
            "text/plain": [
              "'Laranja'"
            ]
          },
          "execution_count": 18,
          "metadata": {},
          "output_type": "execute_result"
        }
      ],
      "source": [
        "fruta1"
      ]
    },
    {
      "cell_type": "code",
      "execution_count": null,
      "metadata": {
        "id": "HPUej6t6FXw6",
        "outputId": "c77f2af2-8c28-400c-f4fe-8163a6df0746"
      },
      "outputs": [
        {
          "data": {
            "text/plain": [
              "'Laranja'"
            ]
          },
          "execution_count": 19,
          "metadata": {},
          "output_type": "execute_result"
        }
      ],
      "source": [
        "fruta2"
      ]
    },
    {
      "cell_type": "code",
      "execution_count": null,
      "metadata": {
        "id": "hMD5Cxy1FXw6",
        "outputId": "97d45915-3f3b-44a1-9726-6bde1e644996"
      },
      "outputs": [
        {
          "ename": "NameError",
          "evalue": "name 'Fruta2' is not defined",
          "output_type": "error",
          "traceback": [
            "\u001b[0;31m---------------------------------------------------------------------------\u001b[0m",
            "\u001b[0;31mNameError\u001b[0m                                 Traceback (most recent call last)",
            "\u001b[0;32m<ipython-input-20-064185b35816>\u001b[0m in \u001b[0;36m<module>\u001b[0;34m\u001b[0m\n\u001b[1;32m      1\u001b[0m \u001b[0;31m# Fique atento!!! Python é case-sensitive. Criamos a variável fruta2, mas não a variável Fruta2.\u001b[0m\u001b[0;34m\u001b[0m\u001b[0;34m\u001b[0m\u001b[0;34m\u001b[0m\u001b[0m\n\u001b[1;32m      2\u001b[0m \u001b[0;31m# Letras maiúsculas e minúsculas tem diferença no nome da variável.\u001b[0m\u001b[0;34m\u001b[0m\u001b[0;34m\u001b[0m\u001b[0;34m\u001b[0m\u001b[0m\n\u001b[0;32m----> 3\u001b[0;31m \u001b[0mFruta2\u001b[0m\u001b[0;34m\u001b[0m\u001b[0;34m\u001b[0m\u001b[0m\n\u001b[0m",
            "\u001b[0;31mNameError\u001b[0m: name 'Fruta2' is not defined"
          ]
        }
      ],
      "source": [
        "# Fique atento!!! Python é case-sensitive. Criamos a variável fruta2, mas não a variável Fruta2.\n",
        "# Letras maiúsculas e minúsculas tem diferença no nome da variável.\n",
        "Fruta2"
      ]
    },
    {
      "cell_type": "markdown",
      "metadata": {
        "id": "6aYosKL4FXw7"
      },
      "source": [
        "## Pode-se usar letras, números e underline (mas não se pode começar com números)"
      ]
    },
    {
      "cell_type": "code",
      "execution_count": null,
      "metadata": {
        "id": "mImDUOELFXw8"
      },
      "outputs": [],
      "source": [
        "x1 = 50"
      ]
    },
    {
      "cell_type": "code",
      "execution_count": null,
      "metadata": {
        "id": "aV5wOVaWFXw8",
        "outputId": "5397d739-fc3d-4329-fe0e-5480e2ea8b6e"
      },
      "outputs": [
        {
          "data": {
            "text/plain": [
              "50"
            ]
          },
          "execution_count": 22,
          "metadata": {},
          "output_type": "execute_result"
        }
      ],
      "source": [
        "x1"
      ]
    },
    {
      "cell_type": "code",
      "execution_count": null,
      "metadata": {
        "id": "BRE7Nl4ZFXw8",
        "outputId": "28a39ecb-576a-46ef-9fa6-b1bc6b2868a2"
      },
      "outputs": [
        {
          "ename": "SyntaxError",
          "evalue": "invalid syntax (<ipython-input-23-33a7c2a39e57>, line 2)",
          "output_type": "error",
          "traceback": [
            "\u001b[0;36m  File \u001b[0;32m\"<ipython-input-23-33a7c2a39e57>\"\u001b[0;36m, line \u001b[0;32m2\u001b[0m\n\u001b[0;31m    1x = 50\u001b[0m\n\u001b[0m     ^\u001b[0m\n\u001b[0;31mSyntaxError\u001b[0m\u001b[0;31m:\u001b[0m invalid syntax\n"
          ]
        }
      ],
      "source": [
        "# Mensagem de erro, pois o Python não permite nomes de variáveis que iniciem com números\n",
        "1x = 50"
      ]
    },
    {
      "cell_type": "markdown",
      "metadata": {
        "id": "OQK908dpFXw9"
      },
      "source": [
        "## Não se pode usar palavras reservadas como nome de variável\n",
        "\n",
        "## False      \n",
        "## class      \n",
        "## finally    \n",
        "## is         \n",
        "## return\n",
        "## None       \n",
        "## continue   \n",
        "## for        \n",
        "## lambda     \n",
        "## try\n",
        "## True       \n",
        "## def        \n",
        "## from       \n",
        "## nonlocal   \n",
        "## while\n",
        "## and        \n",
        "## del        \n",
        "## global     \n",
        "## not        \n",
        "## with\n",
        "## as         \n",
        "## elif       \n",
        "## if         \n",
        "## or         \n",
        "## yield\n",
        "## assert     \n",
        "## else       \n",
        "## import     \n",
        "## pass\n",
        "## break      \n",
        "## except     \n",
        "## in         \n",
        "## raise"
      ]
    },
    {
      "cell_type": "code",
      "execution_count": null,
      "metadata": {
        "id": "Jpgh41r1FXw-",
        "outputId": "7b98c73e-c738-4391-a1bf-533f604d2a81"
      },
      "outputs": [
        {
          "ename": "SyntaxError",
          "evalue": "invalid syntax (<ipython-input-24-e88ee5721a0c>, line 2)",
          "output_type": "error",
          "traceback": [
            "\u001b[0;36m  File \u001b[0;32m\"<ipython-input-24-e88ee5721a0c>\"\u001b[0;36m, line \u001b[0;32m2\u001b[0m\n\u001b[0;31m    break = 1\u001b[0m\n\u001b[0m          ^\u001b[0m\n\u001b[0;31mSyntaxError\u001b[0m\u001b[0;31m:\u001b[0m invalid syntax\n"
          ]
        }
      ],
      "source": [
        "# Não podemos usar palavras reservadas como nome de variável\n",
        "break = 1"
      ]
    },
    {
      "cell_type": "markdown",
      "metadata": {
        "id": "fygxO_wPFXw_"
      },
      "source": [
        "## Variáveis atribuídas a outras variáveis e ordem dos operadores"
      ]
    },
    {
      "cell_type": "code",
      "execution_count": null,
      "metadata": {
        "id": "nb7qULy1FXw_"
      },
      "outputs": [],
      "source": [
        "largura = 2"
      ]
    },
    {
      "cell_type": "code",
      "execution_count": null,
      "metadata": {
        "id": "AKunV4htFXxA"
      },
      "outputs": [],
      "source": [
        "altura = 4"
      ]
    },
    {
      "cell_type": "code",
      "execution_count": null,
      "metadata": {
        "id": "ERCX7KIHFXxA"
      },
      "outputs": [],
      "source": [
        "area = largura * altura"
      ]
    },
    {
      "cell_type": "code",
      "execution_count": null,
      "metadata": {
        "id": "a0z8x9xCFXxB",
        "outputId": "d947d01f-6861-4da4-975c-0fb1d423149a"
      },
      "outputs": [
        {
          "data": {
            "text/plain": [
              "8"
            ]
          },
          "execution_count": 28,
          "metadata": {},
          "output_type": "execute_result"
        }
      ],
      "source": [
        "area"
      ]
    },
    {
      "cell_type": "code",
      "execution_count": null,
      "metadata": {
        "id": "1-Nq8wnCFXxB"
      },
      "outputs": [],
      "source": [
        "perimetro = 2 * largura + 2 * altura"
      ]
    },
    {
      "cell_type": "code",
      "execution_count": null,
      "metadata": {
        "id": "IyGFC7USFXxC",
        "outputId": "64c853e2-896d-4ca0-db24-617928e510be"
      },
      "outputs": [
        {
          "data": {
            "text/plain": [
              "12"
            ]
          },
          "execution_count": 30,
          "metadata": {},
          "output_type": "execute_result"
        }
      ],
      "source": [
        "perimetro"
      ]
    },
    {
      "cell_type": "code",
      "execution_count": null,
      "metadata": {
        "id": "wjiPOPkfFXxD"
      },
      "outputs": [],
      "source": [
        "# A ordem dos operadores é a mesma seguida na Matemática\n",
        "perimetro = 2 * (largura + 2)  * altura"
      ]
    },
    {
      "cell_type": "code",
      "execution_count": null,
      "metadata": {
        "id": "0OIP536JFXxD",
        "outputId": "a4066085-42e7-435e-b6bb-57970241c998"
      },
      "outputs": [
        {
          "data": {
            "text/plain": [
              "32"
            ]
          },
          "execution_count": 32,
          "metadata": {},
          "output_type": "execute_result"
        }
      ],
      "source": [
        "perimetro"
      ]
    },
    {
      "cell_type": "markdown",
      "metadata": {
        "id": "of1MR2HlFXxE"
      },
      "source": [
        "## Operações com variáveis"
      ]
    },
    {
      "cell_type": "code",
      "execution_count": null,
      "metadata": {
        "id": "tVY4d77dFXxE"
      },
      "outputs": [],
      "source": [
        "idade1 = 25"
      ]
    },
    {
      "cell_type": "code",
      "execution_count": null,
      "metadata": {
        "id": "9NmVsaTnFXxE"
      },
      "outputs": [],
      "source": [
        "idade2 = 35"
      ]
    },
    {
      "cell_type": "code",
      "execution_count": null,
      "metadata": {
        "id": "oJpvND22FXxF",
        "outputId": "7c9175af-b945-448d-81ec-cd97266b1ffa"
      },
      "outputs": [
        {
          "data": {
            "text/plain": [
              "60"
            ]
          },
          "execution_count": 35,
          "metadata": {},
          "output_type": "execute_result"
        }
      ],
      "source": [
        "idade1 + idade2"
      ]
    },
    {
      "cell_type": "code",
      "execution_count": null,
      "metadata": {
        "id": "4gfIp6G9FXxF",
        "outputId": "4321c818-dd2d-45ad-bc72-546f89cd795a"
      },
      "outputs": [
        {
          "data": {
            "text/plain": [
              "10"
            ]
          },
          "execution_count": 36,
          "metadata": {},
          "output_type": "execute_result"
        }
      ],
      "source": [
        "idade2 - idade1"
      ]
    },
    {
      "cell_type": "code",
      "execution_count": null,
      "metadata": {
        "id": "OOcbh3R5FXxG",
        "outputId": "45a2e598-0224-4a9d-8a6e-5c317262405d"
      },
      "outputs": [
        {
          "data": {
            "text/plain": [
              "875"
            ]
          },
          "execution_count": 37,
          "metadata": {},
          "output_type": "execute_result"
        }
      ],
      "source": [
        "idade2 * idade1"
      ]
    },
    {
      "cell_type": "code",
      "execution_count": null,
      "metadata": {
        "id": "quZGK_HiFXxH",
        "outputId": "cb122262-e2e8-4770-8c80-a5859a6ea938"
      },
      "outputs": [
        {
          "data": {
            "text/plain": [
              "1.4"
            ]
          },
          "execution_count": 38,
          "metadata": {},
          "output_type": "execute_result"
        }
      ],
      "source": [
        "idade2 / idade1"
      ]
    },
    {
      "cell_type": "code",
      "execution_count": null,
      "metadata": {
        "id": "8Ysaa_zjFXxI",
        "outputId": "83893bba-d221-4b5a-ac41-72fa6caf12da"
      },
      "outputs": [
        {
          "data": {
            "text/plain": [
              "10"
            ]
          },
          "execution_count": 39,
          "metadata": {},
          "output_type": "execute_result"
        }
      ],
      "source": [
        "idade2 % idade1"
      ]
    },
    {
      "cell_type": "markdown",
      "metadata": {
        "id": "iHOcaVBxFXxI"
      },
      "source": [
        "## Concatenação de Variáveis"
      ]
    },
    {
      "cell_type": "code",
      "execution_count": null,
      "metadata": {
        "id": "uH6s5byxFXxJ"
      },
      "outputs": [],
      "source": [
        "nome = \"Steve\""
      ]
    },
    {
      "cell_type": "code",
      "execution_count": null,
      "metadata": {
        "id": "Np3HYWEQFXxJ"
      },
      "outputs": [],
      "source": [
        "sobrenome = \"Jobs\""
      ]
    },
    {
      "cell_type": "code",
      "execution_count": null,
      "metadata": {
        "id": "NQpc0UB-FXxJ"
      },
      "outputs": [],
      "source": [
        "fullName = nome + \" \" + sobrenome"
      ]
    },
    {
      "cell_type": "code",
      "execution_count": null,
      "metadata": {
        "id": "nyiGCUUVFXxK",
        "outputId": "ba14b5d5-4771-4235-ca5a-facf065013cd"
      },
      "outputs": [
        {
          "data": {
            "text/plain": [
              "'Steve Jobs'"
            ]
          },
          "execution_count": 43,
          "metadata": {},
          "output_type": "execute_result"
        }
      ],
      "source": [
        "fullName"
      ]
    }
  ],
  "metadata": {
    "anaconda-cloud": {},
    "kernelspec": {
      "display_name": "Python 3",
      "language": "python",
      "name": "python3"
    },
    "language_info": {
      "codemirror_mode": {
        "name": "ipython",
        "version": 3
      },
      "file_extension": ".py",
      "mimetype": "text/x-python",
      "name": "python",
      "nbconvert_exporter": "python",
      "pygments_lexer": "ipython3",
      "version": "3.8.8"
    },
    "colab": {
      "name": "Notebook_1_variaveis.ipynb",
      "provenance": [],
      "include_colab_link": true
    }
  },
  "nbformat": 4,
  "nbformat_minor": 0
}